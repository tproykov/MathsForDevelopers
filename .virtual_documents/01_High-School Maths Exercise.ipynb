# Write your imports here
import sympy 
import math





























# Write your code here
x = sympy.symbols('x')
a, b, c = sympy.symbols('a b c')
sympy.solve(a * x**2 + b * x + c)





# Write your code here
sympy.init_printing()
x = sympy.symbols('x')
a, b, c = sympy.symbols('a b c')
# sympy.solve(a * x**2 + b * x + c)
sympy.solve(a * x**2 + b * x + c, x)





# import math # Move this to the "imports" cell (the second one in this notebook)
def solve_quadratic_equation(a, b, c):
    """
    Returns the real solutions of the quadratic equation ax^2 + bx + c = 0
    """
    if a == 0:
        if b == 0:
            if c == 0:
                return ["infinite"]
            else:
                return []
        else:
            return [-c / b]
    else:
        discriminant = b**2 - 4*a*c
        
        if discriminant > 0:
            x1 = (-b + discriminant**0.5) / (2*a)
            x2 = (-b - discriminant**0.5) / (2*a)
            return [x1, x2]
        
        elif discriminant == 0:
            x = -b / (2*a)
            return [x]
        else:
            return []


# Testing: Execute this cell. The outputs should match the expected outputs. Feel free to write more tests
print(solve_quadratic_equation(1, -1, -2)) # [-1.0, 2.0]
print(solve_quadratic_equation(1, -8, 16)) # [4.0]
print(solve_quadratic_equation(1, 1, 1)) # []
print(solve_quadratic_equation(1, 3, 2)) # [-1.0, -2.0]
print(solve_quadratic_equation(0, 1, 2)) # [-2.0]








# Write your code here.





# Write your code here. Of course, you may add more cells if needed.





# Write your code here





# Copy and edit your code here











def plot_math_function(f, min_x, max_x, num_points):
    # Write your code here
    pass


plot_math_function(lambda x: 2 * x + 3, -3, 5, 1000)
plot_math_function(lambda x: -x + 8, -1, 10, 1000)
plot_math_function(lambda x: x**2 - x - 2, -3, 4, 1000)
plot_math_function(lambda x: np.sin(x), -np.pi, np.pi, 1000)
plot_math_function(lambda x: np.sin(x) / x, -4 * np.pi, 4 * np.pi, 1000)





def plot_math_functions(functions, min_x, max_x, num_points):
    # Write your code here
    pass


plot_math_functions([lambda x: 2 * x + 3, lambda x: 0], -3, 5, 1000)
plot_math_functions([lambda x: 3 * x**2 - 2 * x + 5, lambda x: 3 * x + 7], -2, 3, 1000)





plot_math_functions([lambda x: (-4 * x + 7) / 3, lambda x: (-3 * x + 8) / 5, lambda x: (-x - 1) / -2], -1, 4, 1000)








# Write your code here




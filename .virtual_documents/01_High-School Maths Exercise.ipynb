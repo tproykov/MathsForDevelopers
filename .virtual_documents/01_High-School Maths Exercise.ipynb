# Write your imports here
import sympy
import math
import numpy as np





























# Write your code here
x = sympy.symbols('x')
a, b, c = sympy.symbols('a b c')
sympy.solve(a * x**2 + b * x + c)





# Write your code here
sympy.init_printing()
x = sympy.symbols('x')
a, b, c = sympy.symbols('a b c')
quadratic = a * x**2 + b * x + c
quadratic


sympy.solve(quadratic, x)





# import math # Move this to the "imports" cell (the second one in this notebook)
def solve_quadratic_equation(a, b, c):
    """
    Returns the real solutions of the quadratic equation ax^2 + bx + c = 0
    Returns the real solutions of the linear equation bx + c = 0 as a special case of the quadratic equation
    """
    if a == 0:
        if b == 0:
            if c == 0:
                return ["infinite"]
            else:
                return []
        else:
            return [-c / b]
    else:
        discriminant = b**2 - 4 * a * c
        denominator = 2 * a
        
        if discriminant > 0:
            numerator = -b - math.sqrt(discriminant)
            x1 = numerator / denominator
            numerator = -b + math.sqrt(discriminant)
            x2 = numerator / denominator
            return [x1, x2]
        
        elif discriminant == 0:
            x = -b / denominator
            return [x]
        else:
            return []


# Testing: Execute this cell. The outputs should match the expected outputs. Feel free to write more tests
print(solve_quadratic_equation(1, -1, -2)) # [-1.0, 2.0]
print(solve_quadratic_equation(1, -8, 16)) # [4.0]
print(solve_quadratic_equation(1, 1, 1)) # []
print(solve_quadratic_equation(1, 3, 2)) # [-1.0, -2.0]
print(solve_quadratic_equation(0, 1, 2)) # [-2.0] --Linear equation--








print([element for element in range(20)])


print([element + 5 for element in range(20)])


print([2 * element for element in range(20) if element < 10])





numbers = [5, 20, 3, 12]
for number in numbers:
    print(number)


numbers = [5, 20, 3, 12]
for (i, number) in enumerate(numbers):
    print('index:', i, 'number:', number)


# Write your code here
def fibonacci_list(n):
    if n <= 0:
        return []
    if n == 1:
        return [0]
    if n == 2:
        return [0, 1]

    fibonacci = [0, 1]
    [fibonacci.append(fibonacci[-1] + fibonacci[-2]) for i in range(n-2)]
    return fibonacci

n = 20

fibonacci_numbers = fibonacci_list(n)
squared_fibonacci_numbers = [x**2 for x in fibonacci_numbers] 
odd_squared_fibonacci_numbers = [x for x in squared_fibonacci_numbers if x % 2 == 1] 
sum_odd_squared_fibonacci_numbers = sum(odd_squared_fibonacci_numbers) 

print(f"The first {n} Fibonacci numbers are: {fibonacci_numbers}")
print(f"Squared Fibonacci numbers: {squared_fibonacci_numbers}")
print(f"Odd squared Fibonacci numbers: {odd_squared_fibonacci_numbers}")
print(f"Sum of odd squared Fibonacci numbers: {sum_odd_squared_fibonacci_numbers}")








def demonstrate_power_functions():
    print("Power functions:")
    x = 4
    y = 0.5
    pow_operator = x**y 
    print("  Using **: {}**{} = {}".format(x, y, pow_operator))
    x = 2
    y = 4
    pow_operator = x**y 
    print("  Using **: {}**{} = {}".format(x, y, pow_operator))
    x = 4
    y = 0.5
    math_pow = math.pow(x, y)
    print("  Using math.pow: math.pow({}, {}) = {}".format(x, y, math_pow))
    x = 2
    y = 4
    math_pow = math.pow(x, y)
    print("  Using math.pow: math.pow({}, {}) = {}".format(x, y, math_pow))
demonstrate_power_functions()








def demonstrate_sqrt_and_square():
    print("Square root vs. square:")
    value = 4
    square_root_value = math.sqrt(value)
    print("  Using math.sqrt({}) = {}".format(value, square_root_value))
    value = 9.0
    square_root_value = math.sqrt(value)
    print("  Using math.sqrt({}) = {}".format(value, square_root_value))
    
demonstrate_sqrt_and_square()








def demonstrate_logarithms():
    # Logarithm examples:
    # math.log(x) returns the natural log (base e).
    # math.log(x, base) returns the log of x in the specified base.
    value = 100
    base = 10
    try:
        natural_log = math.log(value)
        log_base = math.log(value, base)
        # Using the change-of-base formula manually: log(x)/log(base)
        change_of_base = math.log(value) / math.log(base)
        print("Logarithms:")
        print("  Natural logarithm of {}: math.log({}) = {}".format(value, value, natural_log))
        print("  Logarithm base {}: math.log({}, {}) = {}".format(base, value, base, log_base))
        print("  Logarithm using change-of-base formula = {}".format(change_of_base))
    except ValueError as e:
        print("Error computing logarithm:", e)
    print()
demonstrate_logarithms()









def demonstrate_logarithms():
    # Logarithm examples:
    # math.log(x) returns the natural log (base e).
    # math.log(x, base) returns the log of x in the specified base.
    value = 100
    base = 10
    try:
        natural_log = math.log(value)
        log_base = math.log(value, base)
        # Using the change-of-base formula manually: log(x)/log(base)
        change_of_base = math.log(value) / math.log(base)
        print("Logarithms:")
        print("  Natural logarithm of {}: math.log({}) = {}".format(value, value, natural_log))
        print("  Logarithm base {}: math.log({}, {}) = {}".format(base, value, base, log_base))
        print("  Logarithm using change-of-base formula = {}".format(change_of_base))
    except ValueError as e:
        print("Error computing logarithm:", e)
    print()

def demonstrate_logarithm_properties():
    # Checking properties of logarithms:
    # Property 1: log(x*y) = log(x) + log(y)
    x = 2
    y = 8
    log_x = math.log(x)
    log_y = math.log(y)
    log_xy = math.log(x * y)
    print("Logarithm properties:")
    print("  log({} * {}) = log({}) = {}".format(x, y, x * y, log_xy))
    print("  log({}) + log({}) = {} + {} = {}".format(x, y, log_x, log_y, log_x + log_y))
    
    # Property 2: log(x^y) = y * log(x)
    exponent = 3
    x_val = 5
    left_side = math.log(x_val ** exponent)
    right_side = exponent * math.log(x_val)
    print("  log({}^{}) = log({}) = {}".format(x_val, exponent, x_val ** exponent, left_side))
    print("  {} * log({}) = {} * {} = {}".format(exponent, x_val, exponent, math.log(x_val), right_side))
    print()

if __name__ == '__main__':
    print("Demonstration of math library functions:\n")
    demonstrate_logarithms()
    demonstrate_logarithm_properties()





# Write your code here
np.array([1, 2, 3])





# Copy and edit your code here











def plot_math_function(f, min_x, max_x, num_points):
    # Write your code here
    pass


plot_math_function(lambda x: 2 * x + 3, -3, 5, 1000)
plot_math_function(lambda x: -x + 8, -1, 10, 1000)
plot_math_function(lambda x: x**2 - x - 2, -3, 4, 1000)
plot_math_function(lambda x: np.sin(x), -np.pi, np.pi, 1000)
plot_math_function(lambda x: np.sin(x) / x, -4 * np.pi, 4 * np.pi, 1000)





def plot_math_functions(functions, min_x, max_x, num_points):
    # Write your code here
    pass


plot_math_functions([lambda x: 2 * x + 3, lambda x: 0], -3, 5, 1000)
plot_math_functions([lambda x: 3 * x**2 - 2 * x + 5, lambda x: 3 * x + 7], -2, 3, 1000)





plot_math_functions([lambda x: (-4 * x + 7) / 3, lambda x: (-3 * x + 8) / 5, lambda x: (-x - 1) / -2], -1, 4, 1000)








# Write your code here




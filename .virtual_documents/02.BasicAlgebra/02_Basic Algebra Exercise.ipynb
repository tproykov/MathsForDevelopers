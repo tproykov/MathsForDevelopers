%matplotlib inline


# Write your imports here
import numpy as np
import sympy as sp
import matplotlib.pyplot as plt
from numpy.polynomial import Polynomial








# Write your code here
points = np.array([(0, 0), (1, 0.8), (2, 0.9), (3, 0.1), (4, -0.8), (5, -1.0)])
x, y = points[:, 0], points[:, 1]

poly = Polynomial.fit(x, y, deg = len(points) - 1)


plot_x = np.linspace(0, 5, 1000) 
plot_y = poly(plot_x)


plt.scatter(x, y, label = "data points")
plt.plot(plot_x, plot_y, c = "g", label = "interpolating polynomial")

plt.xlabel("x")
plt.ylabel("y")

plt.legend()
plt.show()





def interpolate_polynomial(points, degree, min_x, max_x):
    """
    Interpolates a polynomial of the specified degree through the given points and plots it
    points - a list of points (x, y) to plot
    degree - the polynomial degree
    min_x, max_x - range of x values used to plot the interpolating polynomial
    """
    # Write your code here
    NUM_POINTS = 1000
    
    x, y = points[:, 0], points[:, 1]
    poly = Polynomial.fit(x, y, deg = degree)
                          
    plot_x = np.linspace(min_x, max_x, NUM_POINTS) 
    plot_y = poly(plot_x)

    plt.scatter(x, y)
    plt.plot(plot_x, plot_y, c = "g")

    plt.xlabel("x")
    plt.ylabel("y")

    plt.show()
    


points = np.array([(0, 0), (1, 0.8), (2, 0.9), (3, 0.1), (4, -0.8), (5, -1.0)])
interpolate_polynomial(points, len(points) - 1, np.min(points[:, 0]), np.max(points[:, 0]))





interpolate_polynomial(points, len(points) - 1, -5, 10)





interpolate_polynomial(points, 4, np.min(points[:, 0]), np.max(points[:, 0]))
interpolate_polynomial(points, 3, np.min(points[:, 0]), np.max(points[:, 0]))
interpolate_polynomial(points, 2, np.min(points[:, 0]), np.max(points[:, 0]))
interpolate_polynomial(points, 1, np.min(points[:, 0]), np.max(points[:, 0]))





interpolate_polynomial(points, 5, np.min(points[:, 0]), np.max(points[:, 0]))
interpolate_polynomial(points, 7, np.min(points[:, 0]), np.max(points[:, 0]))
interpolate_polynomial(points, 10, np.min(points[:, 0]), np.max(points[:, 0]))





interpolate_polynomial(points, 5, -10, 10)
interpolate_polynomial(points, 7, -10, 10)
interpolate_polynomial(points, 10, -10, 10)





interpolate_polynomial(points, len(points) - 1, -2, 7)
interpolate_polynomial(points, len(points) + 1, -2, 7)








points1 = np.array([(1, 0.5), (2, 3), (3, 2), (4, -1), (5, 1.5)])
# TODO: Write your code here
interpolate_polynomial(points1, len(points1) - 1, np.min(points1[:,0]), np.max(points1[:,0]))


poly1 = Polynomial.fit(points1[:,0], points1[:,1], deg = len(points1) - 1)
poly1.coef





points2 = np.array([(1, 0.5), (2, 3), (3, 2), (4, -1), (5, 1.5), (6, 23)])
# TODO: Write your code here
interpolate_polynomial(points2, len(points2) - 1, np.min(points2[:,0]), np.max(points2[:,0]))


poly2 = Polynomial.fit(points2[:,0], points2[:,1], deg = len(points2) - 1)
poly2.coef


poly1.coef


poly1.degree(), poly2.degree()





points = np.array([(-5, 0.03846), (-4, 0.05882), (-3, 0.1), (-2, 0.2), (-1, 0.5), (0, 1), (1, 0.5), (2, 0.2), (3, 0.1), (4, 0.05882), (5, 0.03846)])
interpolate_polynomial(points, len(points) - 1, np.min(points[:, 0]), np.max(points[:, 0]))





# Write your code here
x_final = np.linspace(-5, 5, 1000)
y_final = 1 / (1 + x_final**2)


plt.scatter(points[:,0], points[:,1])
plt.plot(x_final, y_final)
plt.show()


points = np.array([(-5, 0.03846), (-4, 0.05882), (-3, 0.1), (-2, 0.2), (-1, 0.5), (0, 1), (1, 0.5), (2, 0.2), (3, 0.1), (4, 0.05882), (5, 0.03846)])

def interpolate_polynomial(points, degree, min_x, max_x):

    NUM_POINTS = 1000
    
    x, y = points[:, 0], points[:, 1]
    poly = Polynomial.fit(x, y, deg = degree)
    
    plot_x = np.linspace(min_x, max_x, NUM_POINTS)
    plot_y = poly(plot_x)
    return plot_x, plot_y

x_poly, y_poly = interpolate_polynomial(points, len(points) - 1, np.min(points[:, 0]), np.max(points[:, 0]))

x_final = np.linspace(-5, 5, 1000)
y_final = 1 / (1 + x_final**2)

plt.scatter(points[:, 0], points[:, 1], c = 'b')
plt.plot(x_final, y_final)
plt.plot(x_poly, y_poly, c = "g")
plt.show()

















def plot_complex_number(z):
    """
    Plots the complex number z as a radius vector in the 2D space
    """
    plt.figure(figsize = (6, 6))
    plt.quiver(0, 0, z.real, z.imag, angles = "xy", scale_units = "xy", scale = 1, color = 'b')
    plt.xticks(range(-3, 4))
    plt.yticks(range(-3, 5))

plot_complex_number(2 + 3j)

ax = plt.gca()
ax.set_aspect('equal')

ax.spines["bottom"].set_position("zero")
ax.spines["left"].set_position("zero")
ax.spines["top"].set_visible(False)
ax.spines["right"].set_visible(False)

xticks = ax.get_xticks()
yticks = ax.get_yticks()
xticklabels = ['' if tick == 0 else int(tick) for tick in xticks]
yticklabels = ['' if tick == 0 else int(tick) for tick in yticks]
ax.set_xticklabels(xticklabels)
ax.set_yticklabels(yticklabels)

ax.set_xlabel("Real", labelpad=10)
ax.set_ylabel("imaginary", labelpad=10)
ax.xaxis.set_label_coords(0.95, 0.46)   # x near right edge, y in relation to the middle
ax.yaxis.set_label_coords(0.53, 0.95)   # x in relation to the middle, y near the top

plt.grid(True, linestyle='--', alpha=0.4)
plt.tight_layout()
plt.show()


def plot_complex_number(z):
    """
    Plots the complex number z as a radius vector in the 2D space
    """
    fig, ax = plt.subplots(figsize=(6, 6))

    ax.axhline(0, color='gray', lw=1)
    ax.axvline(0, color='gray', lw=1)
    ax.quiver(0, 0, z.real, z.imag, angles="xy", scale_units="xy", scale=1, color='b')
    
    ax.set_xticks(range(-3, 4))
    ax.set_yticks(range(-3, 5))
    ax.set_xlabel('Real')
    ax.set_ylabel('Imaginary')
    ax.grid(True, linestyle='--', alpha=0.4)
    ax.set_aspect('equal')
    
    plt.tight_layout()
    plt.show()

plot_complex_number(2 + 3j)





def plot_complex_numbers(numbers, colors):
    """
    Plots the given complex numbers as radius vectors in the 2D space
    """
    zeros = [0] * len(numbers)
    real_parts = [number.real for number in numbers]
    imag_parts = [number.imag for number in numbers]
    plt.quiver(zeros, zeros, real_parts, imag_parts,
               angles="xy", scale_units="xy", scale=1, color=colors)

    xticks = list(range(-4, 9)) 
    yticks = list(range(-3, 6)) 
    plt.xticks(xticks)
    plt.yticks(yticks)

    ax = plt.gca()
    ax.set_aspect('equal')

    ax.spines["bottom"].set_position("zero")
    ax.spines["left"].set_position("zero")
    ax.spines["top"].set_visible(False)
    ax.spines["right"].set_visible(False)

    xticklabels = ['' if tick == 0 else int(tick) for tick in xticks]
    yticklabels = ['' if tick == 0 else int(tick) for tick in yticks]
    ax.set_xticks(xticks)   
    ax.set_yticks(yticks)
    ax.set_xticklabels(xticklabels) 
    ax.set_yticklabels(yticklabels)

    ax.set_xlabel("Real", labelpad = 10)
    ax.set_ylabel("Imaginary", labelpad = 10)
    ax.xaxis.set_label_coords(0.95, 0.27)
    ax.yaxis.set_label_coords(0.55, 0.95)

    plt.grid(True, linestyle='--', alpha=0.4)
    plt.tight_layout()
    plt.show()

plot_complex_numbers([2 + 3j, -2 - 1j, -3, 2j], ["green", "red", "blue", "orange"])



def plot_complex_numbers(numbers, colors):
    """
    Plots the given complex numbers as radius vectors in the 2D space.
    """
    fig, ax = plt.subplots(figsize=(6, 6))
    ax.axhline(0, color='gray', lw=1)
    ax.axvline(0, color='gray', lw=1)

    zeros = [0] * len(numbers)
    real_parts = [z.real for z in numbers]
    imag_parts = [z.imag for z in numbers]
    ax.quiver(zeros, zeros, real_parts, imag_parts,
              angles="xy", scale_units="xy", scale=1, color=colors)

    ax.set_xlim(-4, 8)
    ax.set_ylim(-3, 6)
    ax.set_aspect('equal')

    ax.set_xlabel('Real')
    ax.set_ylabel('Imaginary')
    ax.grid(True, linestyle='--', alpha=0.4)

    plt.tight_layout()
    plt.show()

plot_complex_numbers([2 + 3j, -2 - 1j, -3, 2j], ["green", "red", "blue", "orange"])





z1 = 2 + 3j
z2 = 1 - 1j
plot_complex_numbers([z1, z2, z1 + z2], ["red", "blue", "green"])





z1 = 2 + 3j
z2 = 2 + 0j
plot_complex_numbers([z1, z2, z1 + z2], ["red", "blue", "green"])


z1 = 2 + 3j
z2 = 0 + 2j
plot_complex_numbers([z1, z2, z1 + z2], ["red", "blue", "green"])





z = 2 + 3j
plot_complex_numbers([z, z * 1], ["red", "blue"])
plot_complex_numbers([z, z * -1], ["red", "blue"])
plot_complex_numbers([z, z * 1j], ["red", "blue"])
plot_complex_numbers([z, z * -1j], ["red", "blue"])








z1 = 2 + 3j
z2 = 1 - 2j
plot_complex_numbers([z1, z2, z1 * z2], ["red", "blue", "green"])














coefficients = [1, 0, -2, 0, 1]
roots = np.roots(coefficients)
print(roots)





x = sp.symbols('x')
polynomial = x**4 - 2*x**2 + 1
solutions = sp.solve(polynomial, x)
print(solutions)





roots1 = [-1, -1, 1, 1]
roots_array = np.array(roots1, dtype=complex) 

plt.figure(figsize = (6, 3))
plt.axhline(0, color = 'gray', lw = 1)
plt.axvline(0, color = 'gray', lw = 1)

plt.plot(roots_array.real, roots_array.imag, 'o', markersize=7)

plt.title('Dots on the complex plane')
plt.xlabel('Real')
plt.ylabel('Imaginary')
plt.grid(True, linestyle='--', alpha=0.4)
plt.axis('equal')
plt.xlim(-2, 2)
plt.ylim(-1, 1)
plt.show()





plt.figure(figsize = (6, 3))
plt.axhline(0, color = 'gray', lw = 1)
plt.axvline(0, color = 'gray', lw = 1)

plt.quiver(
    [0] * len(roots_array),   
    [0] * len(roots_array), 
    roots_array.real,    
    roots_array.imag,      
    angles = 'xy',
    scale_units = 'xy',
    scale = 1,
    color = 'b',
)

plt.title('Roots as Radius-Vectors')
plt.xlabel('Real')
plt.ylabel('Imaginary')
plt.grid(True, linestyle = '--', alpha = 0.4)
plt.axis('equal')
plt.xlim(-2, 2)
plt.ylim(-1, 1)
plt.tight_layout()
plt.show()








roots = [1j, -1j]
roots_array = np.array(roots, dtype=complex)

plt.figure(figsize=(4, 4))
plt.axhline(0, color='gray', lw=1)
plt.axvline(0, color='gray', lw=1)

plt.plot(roots_array.real, roots_array.imag, 'o', markersize=7)

plt.title('Dots on the Complex Plane')
plt.xlabel('Real')
plt.ylabel('Imaginary')
plt.grid(True, linestyle='--', alpha=0.4)
plt.axis('equal')
plt.xlim(-2, 2)
plt.ylim(-1.5, 1.5)  # Give a bit more space to show both i and -i clearly
plt.tight_layout()
plt.show()








x = sp.symbols('x')
polynomial = x**5 - 1
solutions = sp.solve(polynomial, x)
print(solutions)


a = np.sqrt(5)
b = np.sqrt(a / 8 + 5 / 8)
c = np.sqrt(5 / 8 - a / 8)

roots1 = [
    1,
    -1/4 + a/4 - 1j * b,
    -1/4 + a/4 + 1j * b,
    -a/4 - 1/4 - 1j * c,
    -a/4 - 1/4 + 1j * c
]

roots_array = np.array(roots1, dtype = complex)

plt.figure(figsize=(6, 6))
plt.axhline(0, color = 'gray', lw = 1)
plt.axvline(0, color = 'gray', lw = 1)

plt.quiver(
    [0] * len(roots_array),
    [0] * len(roots_array),
    roots_array.real,
    roots_array.imag,
    angles = 'xy',
    scale_units = 'xy',
    scale = 1,
    color = 'b',
)

plt.title('Roots as Radius-Vectors')
plt.xlabel('Real')
plt.ylabel('Imaginary')
plt.grid(True, linestyle = '--', alpha = 0.4)
plt.axis('equal')
plt.xlim(-1.2, 1.2)
plt.ylim(-1.2, 1.2)
plt.tight_layout()
plt.show()





x = sp.symbols('x')
polynomial = x**6 - 1
solutions = sp.solve(polynomial, x)
print(solutions)


sqrt3 = np.sqrt(3)

roots = [
    -1,
    1,
    -1/2 - 1j * sqrt3 / 2,
    -1/2 + 1j * sqrt3 / 2,
    1/2 - 1j * sqrt3 / 2,
    1/2 + 1j * sqrt3 / 2
]

roots_array = np.array(roots, dtype=complex)

plt.figure(figsize=(6, 6))
plt.axhline(0, color='gray', lw=1)
plt.axvline(0, color='gray', lw=1)

plt.quiver(
    [0] * len(roots_array), 
    [0] * len(roots_array), 
    roots_array.real,   
    roots_array.imag,   
    angles='xy',
    scale_units='xy',
    scale=1,
    color='b',
)

plt.title('6th Roots of Unity as Radius-Vectors')
plt.xlabel('Real')
plt.ylabel('Imaginary')
plt.grid(True, linestyle='--', alpha=0.4)
plt.axis('equal')
plt.xlim(-1.5, 1.5)
plt.ylim(-1.5, 1.5)
plt.tight_layout()
plt.show()





x = sp.symbols('x')
polynomial = x**7 - 1
solutions = sp.solve(polynomial, x)
print(solutions)


pi = np.pi

roots = [
    1,
    -np.cos(pi/7) - 1j * np.sin(pi/7),
    -np.cos(pi/7) + 1j * np.sin(pi/7),
    np.cos(2*pi/7) - 1j * np.sin(2*pi/7),
    np.cos(2*pi/7) + 1j * np.sin(2*pi/7),
    -np.cos(3*pi/7) - 1j * np.sin(3*pi/7),
    -np.cos(3*pi/7) + 1j * np.sin(3*pi/7)
]

roots_array = np.array(roots, dtype=complex)

plt.figure(figsize=(6, 6))
plt.axhline(0, color='gray', lw=1)
plt.axvline(0, color='gray', lw=1)

plt.quiver(
    [0] * len(roots_array), 
    [0] * len(roots_array), 
    roots_array.real,     
    roots_array.imag,     
    angles='xy',
    scale_units='xy',
    scale=1,
    color='b'
)

plt.title('7th Roots of Unity as Radius-Vectors')
plt.xlabel('Real')
plt.ylabel('Imaginary')
plt.grid(True, linestyle='--', alpha=0.4)
plt.axis('equal')
plt.xlim(-1.5, 1.5)
plt.ylim(-1.5, 1.5)
plt.tight_layout()
plt.show()








def factorial_recursive(n):
    """
    Computes the factorial of a non-negative number n (using recursion)
    """
    # Write your code here
    if n < 0:
        raise ValueError("Factorial is not defined for negative numbers.")
    if n == 0 or n == 1:
        return 1
    return n * factorial_recursive(n - 1)

def factorial_iterative(n):
    """
    Computes the factorial of a non-negative number n (using iteration)
    """
    # Write your code here
    current_factorial = 1
    for i in range (1, n +1):
        current_factorial *= i
    return current_factorial


for n in range(1, 11):
    print(factorial_iterative(n))


for n in range(1, 11):
    print(factorial_iterative(n))








def nat():
    """Returns all natural numbers"""
    pass

def even()
    """Returns all even numbers"""
    pass





def factorial_new(n):
    # Write your own docstring as showing it here will be too much of a hint :)
    # Don't forget to also write the code :D
    pass





def fibonacci(n):
    # Write your docstring and code
    pass





# Write your code here





# Write your code here





def encode(text):
    """
    Returns the run-length encoded version of the text
    (numbers after symbols, length = 1 is skipped)
    """
    pass

def decode(text):
    """
    Decodes the text using run-length encoding
    """
    pass


# Tests
# Test that the functions work on their own
assert encode("AABCCCDEEEE") == "A2BC3DE4"
assert decode("A2BC3DE4") == "AABCCCDEEEE"

# Test that the functions really invert each other
assert decode(encode("AABCCCDEEEE")) == "AABCCCDEEEE"
assert encode(decode("A2BC3DE4")) == "A2BC3DE4"





# Write your code here





# Write your code here










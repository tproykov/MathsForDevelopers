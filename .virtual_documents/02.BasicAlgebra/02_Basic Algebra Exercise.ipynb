%matplotlib inline


# Write your imports here
import numpy as np
import matplotlib.pyplot as plt
from numpy.polynomial import Polynomial








# Write your code here
points = np.array([(0, 0), (1, 0.8), (2, 0.9), (3, 0.1), (4, -0.8), (5, -1.0)])
x, y = points[:, 0], points[:, 1]

poly = Polynomial.fit(x, y, deg = len(points) - 1)


plot_x = np.linspace(0, 5, 1000) 
plot_y = poly(plot_x)


plt.scatter(x, y, label = "data points")
plt.plot(plot_x, plot_y, c = "g", label = "interpolating polynomial")

plt.xlabel("x")
plt.ylabel("y")

plt.legend()
plt.show()





def interpolate_polynomial(points, degree, min_x, max_x):
    """
    Interpolates a polynomial of the specified degree through the given points and plots it
    points - a list of points (x, y) to plot
    degree - the polynomial degree
    min_x, max_x - range of x values used to plot the interpolating polynomial
    """
    # Write your code here
    NUM_POINTS = 1000
    
    x, y = points[:, 0], points[:, 1]
    poly = Polynomial.fit(x, y, deg = degree)
                          
    plot_x = np.linspace(min_x, max_x, NUM_POINTS) 
    plot_y = poly(plot_x)

    plt.scatter(x, y)
    plt.plot(plot_x, plot_y, c = "g")

    plt.xlabel("x")
    plt.ylabel("y")

    plt.show()
    


points = np.array([(0, 0), (1, 0.8), (2, 0.9), (3, 0.1), (4, -0.8), (5, -1.0)])
interpolate_polynomial(points, len(points) - 1, np.min(points[:, 0]), np.max(points[:, 0]))





interpolate_polynomial(points, len(points) - 1, -5, 10)





interpolate_polynomial(points, 3, np.min(points[:, 0]), np.max(points[:, 0]))
interpolate_polynomial(points, 2, np.min(points[:, 0]), np.max(points[:, 0]))
interpolate_polynomial(points, 1, np.min(points[:, 0]), np.max(points[:, 0]))





interpolate_polynomial(points, 5, np.min(points[:, 0]), np.max(points[:, 0]))
interpolate_polynomial(points, 7, np.min(points[:, 0]), np.max(points[:, 0]))
interpolate_polynomial(points, 10, np.min(points[:, 0]), np.max(points[:, 0]))





interpolate_polynomial(points, 5, -10, 10)
interpolate_polynomial(points, 7, -10, 10)
interpolate_polynomial(points, 10, -10, 10)





interpolate_polynomial(points, len(points) - 1, -2, 7)
interpolate_polynomial(points, len(points) + 1, -2, 7)








points1 = np.array([(1, 0.5), (2, 3), (3, 2), (4, -1), (5, 1.5)])
# TODO: Write your code here
interpolate_polynomial(points1, len(points1) - 1, np.min(points1[:,0]), np.max(points1[:,0]))


poly1 = Polynomial.fit(points1[:,0], points1[:,1], deg = len(points1) - 1)
poly1.coef





points2 = np.array([(1, 0.5), (2, 3), (3, 2), (4, -1), (5, 1.5), (6, 23)])
# TODO: Write your code here
interpolate_polynomial(points2, len(points2) - 1, np.min(points2[:,0]), np.max(points2[:,0]))


poly2 = Polynomial.fit(points2[:,0], points2[:,1], deg = len(points2) - 1)
poly2
poly2.coef


poly1.coef


poly1.degree(), poly2.degree()





points = np.array([(-5, 0.03846), (-4, 0.05882), (-3, 0.1), (-2, 0.2), (-1, 0.5), (0, 1), (1, 0.5), (2, 0.2), (3, 0.1), (4, 0.05882), (5, 0.03846)])
interpolate_polynomial(points, len(points) - 1, np.min(points[:, 0]), np.max(points[:, 0]))





# Write your code here
x_final = np.linspace(-5, 5, 1000)
y_final = 1 / (1 + x_final**2)


plt.scatter(points[:,0], points[:,1])
plt.plot(x_final, y_final)
plt.show()

















def plot_complex_number(z):
    """
    Plots the complex number z as a radius vector in the 2D space
    """
    plt.quiver(0, 0, z.real, z.imag, angles = "xy", scale_units = "xy", scale = 1)
    plt.xticks(range(-5, 5))
    plt.yticks(range(-5, 5))

plot_complex_number(2 + 3j)

ax = plt.gca()
ax.spines["bottom"].set_position("zero")
ax.spines["left"].set_position("zero")
ax.spines["top"].set_visible(False)
ax.spines["right"].set_visible(False)

xticks = ax.get_xticks()
yticks = ax.get_yticks()

ax.set_xticks(xticks)
ax.set_yticks(yticks)

xticklabels = ['' if tick == 0 else int(tick) for tick in xticks]
yticklabels = [tick for tick in yticks]

ax.set_xticklabels(xticklabels)

plt.show()





def plot_complex_numbers(numbers, colors):
    """
    Plots the given complex numbers as radius vectors in the 2D space
    """
    # Write your code here
    zeros = [0] * len(numbers)
    real_parts = [number.real for number in numbers]
    imag_parts = [number.imag for number in numbers]
    plt.quiver(zeros, zeros, real_parts, imag_parts, 
               angles = "xy", scale_units = "xy", scale = 1, color = colors)
    plt.xticks(range(-8, 8))
    plt.yticks(range(-8, 8))
    plt.show()




plot_complex_numbers([2 + 3j, -2 - 1j, -3, 2j], ["green", "red", "blue", "orange"])





z1 = 2 + 3j
z2 = 1 - 1j
plot_complex_numbers([z1, z2, z1 + z2], ["red", "blue", "green"])





z1 = 2 + 3j
z2 = 2 + 0j
plot_complex_numbers([z1, z2, z1 + z2], ["red", "blue", "green"])


z1 = 2 + 3j
z2 = 0 + 2j
plot_complex_numbers([z1, z2, z1 + z2], ["red", "blue", "green"])





z = 2 + 3j
plot_complex_numbers([z, z * 1], ["red", "blue"])
plot_complex_numbers([z, z * -1], ["red", "blue"])
plot_complex_numbers([z, z * 1j], ["red", "blue"])
plot_complex_numbers([z, z * -1j], ["red", "blue"])








z1 = 2 + 3j
z2 = 1 - 2j
plot_complex_numbers([z1, z2, z1 * z2], ["red", "blue", "green"])














def factorial_recursive(n):
    """
    Computes the factorial of a non-negative number n (using recursion)
    """
    # Write your code here
    pass

def factorial_iterative(n):
    """
    Computes the factorial of a non-negative number n (using iteration)
    """
    # Write your code here
    pass





def nat():
    """Returns all natural numbers"""
    pass

def even()
    """Returns all even numbers"""
    pass





def factorial_new(n):
    # Write your own docstring as showing it here will be too much of a hint :)
    # Don't forget to also write the code :D
    pass





def fibonacci(n):
    # Write your docstring and code
    pass





# Write your code here





# Write your code here





def encode(text):
    """
    Returns the run-length encoded version of the text
    (numbers after symbols, length = 1 is skipped)
    """
    pass

def decode(text):
    """
    Decodes the text using run-length encoding
    """
    pass


# Tests
# Test that the functions work on their own
assert encode("AABCCCDEEEE") == "A2BC3DE4"
assert decode("A2BC3DE4") == "AABCCCDEEEE"

# Test that the functions really invert each other
assert decode(encode("AABCCCDEEEE")) == "AABCCCDEEEE"
assert encode(decode("A2BC3DE4")) == "A2BC3DE4"





# Write your code here





# Write your code here










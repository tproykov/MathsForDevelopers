%matplotlib inline


# Write your imports here
import numpy as np
import sympy as sp
import matplotlib.pyplot as plt
from numpy.polynomial import Polynomial
from matplotlib.colors import LinearSegmentedColormap
from matplotlib.collections import LineCollection
import math








# Write your code here
points = np.array([(0, 0), (1, 0.8), (2, 0.9), (3, 0.1), (4, -0.8), (5, -1.0)])
x, y = points[:, 0], points[:, 1]

poly = Polynomial.fit(x, y, deg = len(points) - 1)


plot_x = np.linspace(0, 5, 1000) 
plot_y = poly(plot_x)


plt.scatter(x, y, label = "data points")
plt.plot(plot_x, plot_y, c = "g", label = "interpolating polynomial")

plt.xlabel("x")
plt.ylabel("y")

plt.legend()
plt.show()





def interpolate_polynomial(points, degree, min_x, max_x):
    """
    Interpolates a polynomial of the specified degree through the given points and plots it
    points - a list of points (x, y) to plot
    degree - the polynomial degree
    min_x, max_x - range of x values used to plot the interpolating polynomial
    """
    # Write your code here
    NUM_POINTS = 1000
    
    x, y = points[:, 0], points[:, 1]
    poly = Polynomial.fit(x, y, deg = degree)
                          
    plot_x = np.linspace(min_x, max_x, NUM_POINTS) 
    plot_y = poly(plot_x)

    plt.scatter(x, y)
    plt.plot(plot_x, plot_y, c = "g")

    plt.xlabel("x")
    plt.ylabel("y")

    plt.show()
    


points = np.array([(0, 0), (1, 0.8), (2, 0.9), (3, 0.1), (4, -0.8), (5, -1.0)])
interpolate_polynomial(points, len(points) - 1, np.min(points[:, 0]), np.max(points[:, 0]))





interpolate_polynomial(points, len(points) - 1, -5, 10)





interpolate_polynomial(points, 4, np.min(points[:, 0]), np.max(points[:, 0]))
interpolate_polynomial(points, 3, np.min(points[:, 0]), np.max(points[:, 0]))
interpolate_polynomial(points, 2, np.min(points[:, 0]), np.max(points[:, 0]))
interpolate_polynomial(points, 1, np.min(points[:, 0]), np.max(points[:, 0]))





interpolate_polynomial(points, 5, np.min(points[:, 0]), np.max(points[:, 0]))
interpolate_polynomial(points, 7, np.min(points[:, 0]), np.max(points[:, 0]))
interpolate_polynomial(points, 10, np.min(points[:, 0]), np.max(points[:, 0]))





interpolate_polynomial(points, 5, -10, 10)
interpolate_polynomial(points, 7, -10, 10)
interpolate_polynomial(points, 10, -10, 10)





interpolate_polynomial(points, len(points) - 1, -2, 7)
interpolate_polynomial(points, len(points) + 1, -2, 7)








points1 = np.array([(1, 0.5), (2, 3), (3, 2), (4, -1), (5, 1.5)])
# TODO: Write your code here
interpolate_polynomial(points1, len(points1) - 1, np.min(points1[:,0]), np.max(points1[:,0]))


poly1 = Polynomial.fit(points1[:,0], points1[:,1], deg = len(points1) - 1)
poly1.coef





points2 = np.array([(1, 0.5), (2, 3), (3, 2), (4, -1), (5, 1.5), (6, 23)])
# TODO: Write your code here
interpolate_polynomial(points2, len(points2) - 1, np.min(points2[:,0]), np.max(points2[:,0]))


poly2 = Polynomial.fit(points2[:,0], points2[:,1], deg = len(points2) - 1)
poly2.coef


poly1.coef


poly1.degree(), poly2.degree()





points = np.array([(-5, 0.03846), (-4, 0.05882), (-3, 0.1), (-2, 0.2), (-1, 0.5), (0, 1), (1, 0.5), (2, 0.2), (3, 0.1), (4, 0.05882), (5, 0.03846)])
interpolate_polynomial(points, len(points) - 1, np.min(points[:, 0]), np.max(points[:, 0]))





# Write your code here
x_final = np.linspace(-5, 5, 1000)
y_final = 1 / (1 + x_final**2)


plt.scatter(points[:,0], points[:,1])
plt.plot(x_final, y_final)
plt.show()


points = np.array([(-5, 0.03846), (-4, 0.05882), (-3, 0.1), (-2, 0.2), (-1, 0.5), (0, 1), (1, 0.5), (2, 0.2), (3, 0.1), (4, 0.05882), (5, 0.03846)])

def interpolate_polynomial(points, degree, min_x, max_x):

    NUM_POINTS = 1000
    
    x, y = points[:, 0], points[:, 1]
    poly = Polynomial.fit(x, y, deg = degree)
    
    plot_x = np.linspace(min_x, max_x, NUM_POINTS)
    plot_y = poly(plot_x)
    return plot_x, plot_y

x_poly, y_poly = interpolate_polynomial(points, len(points) - 1, np.min(points[:, 0]), np.max(points[:, 0]))

x_final = np.linspace(-5, 5, 1000)
y_final = 1 / (1 + x_final**2)

plt.scatter(points[:, 0], points[:, 1], c = 'b')
plt.plot(x_final, y_final)
plt.plot(x_poly, y_poly, c = "g")
plt.show()

















def plot_complex_number(z):
    """
    Plots the complex number z as a radius vector in the 2D space
    """
    plt.figure(figsize = (6, 6))
    plt.quiver(0, 0, z.real, z.imag, angles = "xy", scale_units = "xy", scale = 1, color = 'b')
    plt.xticks(range(-3, 4))
    plt.yticks(range(-3, 5))

plot_complex_number(2 + 3j)

ax = plt.gca()
ax.set_aspect('equal')

ax.spines["bottom"].set_position("zero")
ax.spines["left"].set_position("zero")
ax.spines["top"].set_visible(False)
ax.spines["right"].set_visible(False)

xticks = ax.get_xticks()
yticks = ax.get_yticks()
xticklabels = ['' if tick == 0 else int(tick) for tick in xticks]
yticklabels = ['' if tick == 0 else int(tick) for tick in yticks]
ax.set_xticklabels(xticklabels)
ax.set_yticklabels(yticklabels)

ax.set_xlabel("Real", labelpad=10)
ax.set_ylabel("imaginary", labelpad=10)
ax.xaxis.set_label_coords(0.95, 0.46)   # x near right edge, y in relation to the middle
ax.yaxis.set_label_coords(0.53, 0.95)   # x in relation to the middle, y near the top

plt.grid(True, linestyle='--', alpha=0.4)
plt.tight_layout()
plt.show()


def plot_complex_number(z):
    """
    Plots the complex number z as a radius vector in the 2D space
    """
    fig, ax = plt.subplots(figsize=(6, 6))

    ax.axhline(0, color='gray', lw=1)
    ax.axvline(0, color='gray', lw=1)
    ax.quiver(0, 0, z.real, z.imag, angles="xy", scale_units="xy", scale=1, color='b')
    
    ax.set_xticks(range(-3, 4))
    ax.set_yticks(range(-3, 5))
    ax.set_xlabel('Real')
    ax.set_ylabel('Imaginary')
    ax.grid(True, linestyle='--', alpha=0.4)
    ax.set_aspect('equal')
    
    plt.tight_layout()
    plt.show()

plot_complex_number(2 + 3j)





def plot_complex_numbers(numbers, colors):
    """
    Plots the given complex numbers as radius vectors in the 2D space
    """
    zeros = [0] * len(numbers)
    real_parts = [number.real for number in numbers]
    imag_parts = [number.imag for number in numbers]
    plt.quiver(zeros, zeros, real_parts, imag_parts,
               angles="xy", scale_units="xy", scale=1, color=colors)

    xticks = list(range(-4, 9)) 
    yticks = list(range(-3, 6)) 
    plt.xticks(xticks)
    plt.yticks(yticks)

    ax = plt.gca()
    ax.set_aspect('equal')

    ax.spines["bottom"].set_position("zero")
    ax.spines["left"].set_position("zero")
    ax.spines["top"].set_visible(False)
    ax.spines["right"].set_visible(False)

    xticklabels = ['' if tick == 0 else int(tick) for tick in xticks]
    yticklabels = ['' if tick == 0 else int(tick) for tick in yticks]
    ax.set_xticks(xticks)   
    ax.set_yticks(yticks)
    ax.set_xticklabels(xticklabels) 
    ax.set_yticklabels(yticklabels)

    ax.set_xlabel("Real", labelpad = 10)
    ax.set_ylabel("Imaginary", labelpad = 10)
    ax.xaxis.set_label_coords(0.95, 0.27)
    ax.yaxis.set_label_coords(0.55, 0.95)

    plt.grid(True, linestyle='--', alpha=0.4)
    plt.tight_layout()
    plt.show()

plot_complex_numbers([2 + 3j, -2 - 1j, -3, 2j], ["green", "red", "blue", "orange"])



def plot_complex_numbers(numbers, colors):
    """
    Plots the given complex numbers as radius vectors in the 2D space.
    """
    fig, ax = plt.subplots(figsize=(6, 6))
    ax.axhline(0, color='gray', lw=1)
    ax.axvline(0, color='gray', lw=1)

    zeros = [0] * len(numbers)
    real_parts = [z.real for z in numbers]
    imag_parts = [z.imag for z in numbers]
    ax.quiver(zeros, zeros, real_parts, imag_parts,
              angles="xy", scale_units="xy", scale=1, color=colors)

    ax.set_xlim(-4, 8)
    ax.set_ylim(-3, 6)
    ax.set_aspect('equal')

    ax.set_xlabel('Real')
    ax.set_ylabel('Imaginary')
    ax.grid(True, linestyle='--', alpha=0.4)

    plt.tight_layout()
    plt.show()

plot_complex_numbers([2 + 3j, -2 - 1j, -3, 2j], ["green", "red", "blue", "orange"])





z1 = 2 + 3j
z2 = 1 - 1j
plot_complex_numbers([z1, z2, z1 + z2], ["red", "blue", "green"])





z1 = 2 + 3j
z2 = 2 + 0j
plot_complex_numbers([z1, z2, z1 + z2], ["red", "blue", "green"])


z1 = 2 + 3j
z2 = 0 + 2j
plot_complex_numbers([z1, z2, z1 + z2], ["red", "blue", "green"])





z = 2 + 3j
plot_complex_numbers([z, z * 1], ["red", "blue"])
plot_complex_numbers([z, z * -1], ["red", "blue"])
plot_complex_numbers([z, z * 1j], ["red", "blue"])
plot_complex_numbers([z, z * -1j], ["red", "blue"])








z1 = 2 + 3j
z2 = 1 - 2j
plot_complex_numbers([z1, z2, z1 * z2], ["red", "blue", "green"])














coefficients = [1, 0, -2, 0, 1]
roots = np.roots(coefficients)
print(roots)





x = sp.symbols('x')
polynomial = x**4 - 2*x**2 + 1
solutions = sp.solve(polynomial, x)
print(solutions)





roots1 = [-1, -1, 1, 1]
roots_array = np.array(roots1, dtype=complex) 

plt.figure(figsize = (6, 3))
plt.axhline(0, color = 'gray', lw = 1)
plt.axvline(0, color = 'gray', lw = 1)

plt.plot(roots_array.real, roots_array.imag, 'o', markersize=7)

plt.title('Dots on the complex plane')
plt.xlabel('Real')
plt.ylabel('Imaginary')
plt.grid(True, linestyle='--', alpha=0.4)
plt.axis('equal')
plt.xlim(-2, 2)
plt.ylim(-1, 1)
plt.show()





plt.figure(figsize = (6, 3))
plt.axhline(0, color = 'gray', lw = 1)
plt.axvline(0, color = 'gray', lw = 1)

plt.quiver(
    [0] * len(roots_array),   
    [0] * len(roots_array), 
    roots_array.real,    
    roots_array.imag,      
    angles = 'xy',
    scale_units = 'xy',
    scale = 1,
    color = 'b',
)

plt.title('Roots as Radius-Vectors')
plt.xlabel('Real')
plt.ylabel('Imaginary')
plt.grid(True, linestyle = '--', alpha = 0.4)
plt.axis('equal')
plt.xlim(-2, 2)
plt.ylim(-1, 1)
plt.tight_layout()
plt.show()








roots = [1j, -1j]
roots_array = np.array(roots, dtype=complex)

plt.figure(figsize=(4, 4))
plt.axhline(0, color='gray', lw=1)
plt.axvline(0, color='gray', lw=1)

plt.plot(roots_array.real, roots_array.imag, 'o', markersize=7)

plt.title('Dots on the Complex Plane')
plt.xlabel('Real')
plt.ylabel('Imaginary')
plt.grid(True, linestyle='--', alpha=0.4)
plt.axis('equal')
plt.xlim(-2, 2)
plt.ylim(-1.5, 1.5)  # Give a bit more space to show both i and -i clearly
plt.tight_layout()
plt.show()








x = sp.symbols('x')
polynomial = x**5 - 1
solutions = sp.solve(polynomial, x)
print(solutions)


a = np.sqrt(5)
b = np.sqrt(a / 8 + 5 / 8)
c = np.sqrt(5 / 8 - a / 8)

roots1 = [
    1,
    -1/4 + a/4 - 1j * b,
    -1/4 + a/4 + 1j * b,
    -a/4 - 1/4 - 1j * c,
    -a/4 - 1/4 + 1j * c
]

roots_array = np.array(roots1, dtype = complex)

plt.figure(figsize=(6, 6))
plt.axhline(0, color = 'gray', lw = 1)
plt.axvline(0, color = 'gray', lw = 1)

plt.quiver(
    [0] * len(roots_array),
    [0] * len(roots_array),
    roots_array.real,
    roots_array.imag,
    angles = 'xy',
    scale_units = 'xy',
    scale = 1,
    color = 'b',
)

plt.title('Roots as Radius-Vectors')
plt.xlabel('Real')
plt.ylabel('Imaginary')
plt.grid(True, linestyle = '--', alpha = 0.4)
plt.axis('equal')
plt.xlim(-1.2, 1.2)
plt.ylim(-1.2, 1.2)
plt.tight_layout()
plt.show()





x = sp.symbols('x')
polynomial = x**6 - 1
solutions = sp.solve(polynomial, x)
print(solutions)


sqrt3 = np.sqrt(3)

roots = [
    -1,
    1,
    -1/2 - 1j * sqrt3 / 2,
    -1/2 + 1j * sqrt3 / 2,
    1/2 - 1j * sqrt3 / 2,
    1/2 + 1j * sqrt3 / 2
]

roots_array = np.array(roots, dtype=complex)

plt.figure(figsize=(6, 6))
plt.axhline(0, color='gray', lw=1)
plt.axvline(0, color='gray', lw=1)

plt.quiver(
    [0] * len(roots_array), 
    [0] * len(roots_array), 
    roots_array.real,   
    roots_array.imag,   
    angles='xy',
    scale_units='xy',
    scale=1,
    color='b',
)

plt.title('6th Roots of Unity as Radius-Vectors')
plt.xlabel('Real')
plt.ylabel('Imaginary')
plt.grid(True, linestyle='--', alpha=0.4)
plt.axis('equal')
plt.xlim(-1.5, 1.5)
plt.ylim(-1.5, 1.5)
plt.tight_layout()
plt.show()





x = sp.symbols('x')
polynomial = x**7 - 1
solutions = sp.solve(polynomial, x)
print(solutions)


pi = np.pi

roots = [
    1,
    -np.cos(pi/7) - 1j * np.sin(pi/7),
    -np.cos(pi/7) + 1j * np.sin(pi/7),
    np.cos(2*pi/7) - 1j * np.sin(2*pi/7),
    np.cos(2*pi/7) + 1j * np.sin(2*pi/7),
    -np.cos(3*pi/7) - 1j * np.sin(3*pi/7),
    -np.cos(3*pi/7) + 1j * np.sin(3*pi/7)
]

roots_array = np.array(roots, dtype=complex)

plt.figure(figsize=(6, 6))
plt.axhline(0, color='gray', lw=1)
plt.axvline(0, color='gray', lw=1)

plt.quiver(
    [0] * len(roots_array), 
    [0] * len(roots_array), 
    roots_array.real,     
    roots_array.imag,     
    angles='xy',
    scale_units='xy',
    scale=1,
    color='b'
)

plt.title('7th Roots of Unity as Radius-Vectors')
plt.xlabel('Real')
plt.ylabel('Imaginary')
plt.grid(True, linestyle='--', alpha=0.4)
plt.axis('equal')
plt.xlim(-1.5, 1.5)
plt.ylim(-1.5, 1.5)
plt.tight_layout()
plt.show()








def factorial_recursive(n):
    """
    Computes the factorial of a non-negative number n (using recursion)
    """
    # Write your code here
    if n == 0 or n == 1:
        return 1
    return n * factorial_recursive(n - 1)

def factorial_iterative(n):
    """
    Computes the factorial of a non-negative number n (using iteration)
    """
    # Write your code here
    current_factorial = 1
    for i in range (1, n +1):
        current_factorial *= i
    return current_factorial


for n in range(1, 20):
    print(f"{n}! = {factorial_iterative(n)}")


for n in range(1, 20):
    print(f"{n}! = {factorial_recursive(n)}")


for n in range(1, 20):
    print(factorial_iterative(n) == factorial_recursive(n))





def nat():
    """Returns all natural numbers"""
    n = 0
    while True:
        yield n
        n += 1

def even():
    """Returns all even numbers"""
    n = 0
    while True:
        yield n
        n += 2


natural_numbers = nat()
for _ in range(5):
    print(next(natural_numbers))


even_numbers = even()
for _ in range(5):
    print(next(even_numbers))





def factorial_new(n):
    """
    "Lazily" generates factorials of natural number, starting from 0.
    """
    n = 0
    factorial1 = 1
    while True:
        if n == 0:
            yield 1 
        else:
            factorial1 *= n 
            yield factorial1
        n += 1


def get_factorial(n):
    gen = factorial_new(n)
    for _ in range(n + 1):
        result = next(gen)
    return result

for n in range(1, 20):
    print(f"{n}! = {get_factorial(n)}")





def fibonacci_new(n):
    """
    "Lazily" generates Fibonacci numbers, starting from F1 up to Fn, inclusive.
    """
    a, b = 0, 1 
    while True:
        b, a = a + b, b 
        yield a 


get_fibonacci = fibonacci_new(0)  # Argument doesn't matter
for i in range(1, 11):  # F1 to F10
    print(next(get_fibonacci))





def mandelbrot(h_pixels, w_pixels, max_iters, re_min=-2, re_max=0.8, im_min=-1.4, im_max=1.4):
    """
    Returns an image of the Mandelbrot set of size (h_pixels, w_pixels) within the specified region of the complex plane
    """
    y, x = np.ogrid[im_min:im_max:h_pixels * 1j, re_min:re_max:w_pixels * 1j]
    c = x + y * 1j
    z = c
    divtime = max_iters + np.zeros(z.shape, dtype = int)
    
    for i in range(max_iters):
        z = z**2 + c
        diverge = z * np.conj(z) > 2**2
        div_now = diverge & (divtime == max_iters)
        divtime[div_now] = i
        z[diverge] = 2
    return divtime

plt.figure(figsize = (12, 10))
max_iterations = 100
h, w = 1000, 1500 
mandelbrot_set = mandelbrot(h, w, max_iterations) 

colors = [(0, 0, 0), (0, 0, 1), (0, 1, 1), (1, 1, 0), (1, 0, 0)]
cmap = LinearSegmentedColormap.from_list('mandelbrot', colors, N = max_iterations)

plt.imshow(mandelbrot_set, cmap = cmap, origin = 'lower')
plt.title('Mandelbrot Set', fontsize = 16)
plt.axis('off') 
plt.tight_layout()
plt.show()

# Create a zoomed view 
# -------------------------
plt.figure(figsize = (12, 10))

# Coordinates 
center_re = -0.7435 
center_im = 0.1314   
width = 0.002        
height = 0.002      

re_min = center_re - width/2
re_max = center_re + width/2
im_min = center_im - height/2
im_max = center_im + height/2

max_iterations_zoom = 200
h_pixels, w_pixels = 1000, 1000
zoomed_mandelbrot = mandelbrot(h_pixels, w_pixels, max_iterations_zoom, 
                              re_min, re_max, im_min, im_max)

colors_zoom = [(0, 0, 0), (0.16, 0.14, 0.3), (0.42, 0.36, 0.6), (0.1, 0.2, 0.5), 
               (0.02, 0.4, 0.6), (0.1, 0.6, 0.7), (0.2, 0.8, 0.8), (0.5, 0.9, 0.9),
               (0.8, 0.8, 0.1), (1, 0.6, 0)]
cmap_zoom = LinearSegmentedColormap.from_list('mandelbrot_zoom', colors_zoom, N=max_iterations_zoom)

plt.imshow(zoomed_mandelbrot, cmap = cmap_zoom, origin = 'lower')
plt.title(f'Zooming at {center_re}, {center_im}i', fontsize = 16)
plt.axis('off')
plt.tight_layout()
plt.show()





# Write your code here
class LSystem:
    def __init__(self, axiom, rules, angle = 60, iterations = 3):
        """
        Initialize the L-system
        """
        self.axiom = axiom
        self.rules = rules
        self.angle = math.radians(angle) 
        self.iterations = iterations
        self.result = self.generate()
        
    def generate(self):
        """Apply rules iteratively to generate the L-system string"""
        result = self.axiom
        for _ in range(self.iterations):
            next_result = ""
            for char in result:
                if char in self.rules:
                    next_result += self.rules[char]
                else:
                    next_result += char
            result = next_result
        return result
    
    def render(self, start_pos = (0, 0), start_angle = 0, step_size = 10, line_width = 1.0, color_gradient = True, figure_size = (10, 10)):
        """
        Render the L-system as a turtle graphics visualization
        """
        angle = math.radians(start_angle)
        stack = []
        lines = []
        
        x, y = start_pos
        
        for i, char in enumerate(self.result):
            if char == 'F' or char == 'A' or char == 'B':  # Move forward and draw
                new_x = x + step_size * math.cos(angle)
                new_y = y + step_size * math.sin(angle)
                
                lines.append([(x, y), (new_x, new_y)])
                x, y = new_x, new_y
                
            elif char == 'f':  # Move forward without drawing
                x += step_size * math.cos(angle)
                y += step_size * math.sin(angle)
                
            elif char == '+':  # Turn left
                angle += self.angle
                
            elif char == '-':  # Turn right
                angle -= self.angle
                
            elif char == '[':  # Push current state onto stack
                stack.append((x, y, angle))
                
            elif char == ']':  # Pop state from stack
                x, y, angle = stack.pop()
        
        # Create figure and axes
        fig, ax = plt.subplots(figsize = figure_size)
        
        # If color gradient is requested, create a colormap
        if color_gradient and lines:
            norm = plt.Normalize(0, len(lines))
            colors = plt.cm.viridis(norm(range(len(lines))))
            lc = LineCollection(lines, linewidths = line_width, colors = colors)
        else:
            lc = LineCollection(lines, linewidths = line_width, color = 'black')
        
        # Add line collection to axes
        ax.add_collection(lc)
        
        # Set axis limits automatically based on the lines
        line_array = np.array(lines)
        if len(line_array) > 0:
            all_points = line_array.reshape(-1, 2)
            min_x, min_y = all_points.min(axis=0)
            max_x, max_y = all_points.max(axis=0)
            
            padding = max(max_x - min_x, max_y - min_y) * 0.1
            ax.set_xlim(min_x - padding, max_x + padding)
            ax.set_ylim(min_y - padding, max_y + padding)
        else:
            ax.set_xlim(-step_size, step_size)
            ax.set_ylim(-step_size, step_size)
        
        ax.set_aspect('equal')
        ax.axis('off')
        
        return fig, ax

# Koch Snowflake
print(f"\nKoch Snowflake: Axiom: {koch_axiom}, Rules: {koch_rules}, Angle: 60, Iterations: 4\n")
koch_axiom = "F--F--F"
koch_rules = {"F": "F+F--F+F"}
koch = LSystem(koch_axiom, koch_rules, angle = 60, iterations = 4)
fig, ax = koch.render(start_pos = (0, 0), start_angle = 0, step_size = 2, line_width = 1.5)
plt.show()

# Dragon Curve
print(f"\nDragon Curve L-System, Axiom: {dragon_axiom}, Rules: {dragon_rules}, Angle: 90, Iterations: 10\n")
dragon_axiom = "FX"
dragon_rules = {"X": "X+YF+", "Y": "-FX-Y"}
dragon = LSystem(dragon_axiom, dragon_rules, angle = 90, iterations = 10)
fig, ax = dragon.render(step_size = 5, line_width = 1.2)
plt.show()

# Sierpinski Triangle
print(f"\nSierpinski Triangle, Axiom: {sierpinski_axiom}, Rules: {sierpinski_rules}, Angle: 60, Iterations: 7\n")
sierpinski_axiom = "A"
sierpinski_rules = {"A": "B-A-B", "B": "A+B+A"}
sierpinski = LSystem(sierpinski_axiom, sierpinski_rules, angle = 60, iterations = 7)
fig, ax = sierpinski.render(step_size = 2, line_width = 1.0)
plt.show()

# Plant-like structure
print(f"\nPlant-like L-System, Axiom: {plant_axiom}, Rules: {plant_rules}, Angle: 25, Iterations: 5\n")
plant_axiom = "X"
plant_rules = {"X": "F-[[X]+X]+F[+FX]-X", "F": "FF"}
plant = LSystem(plant_axiom, plant_rules, angle=25, iterations=5)
fig, ax = plant.render(start_angle=90, step_size = 3, line_width = 0.8, color_gradient = True)
plt.show()

# Fractal tree
plant_axiom = "F"
plant_rules = {"F": "F[+F]F[-F]F"}
print(f"\nFractal tree, Axiom: {plant_axiom}, Rules: {plant_rules}, Angle: 25, Iterations: 5\n")
plant = LSystem(plant_axiom, plant_rules, angle=25, iterations=5)
fig, ax = plant.render(start_angle=90, step_size=3, line_width=0.8, color_gradient=True)
plt.show()

# Algae L-system with visual interpretation
algae_axiom = "F"
algae_rules = {"F": "FF+[+F-F-F]-[-F+F+F]"}
print(f"\nAlgae L-system, Axiom: {algae_axiom}, Rules: {algae_rules}, Angle: 22.5, Iterations: 3\n")
algae = LSystem(algae_axiom, algae_rules, angle=22.5, iterations=3)
fig, ax = algae.render(start_angle=90, step_size=2, line_width=0.8, color_gradient=True)
plt.show()





def encode(text):
    """
    Returns the run-length encoded version of the text (numbers after symbols, length = 1 is skipped)
    """
    result = ""
    count = 1
    for i in range(1, len(text)):
        if text[i] == text[i - 1]:
            count += 1
        else:
            result += text[i - 1] if count == 1 else text[i - 1] + str(count)
            count = 1
    result += text[-1] if count == 1 else text[-1] + str(count)
    return result

def decode(text):
    """
    Decodes the text using run-length encoding
    """
    result = ""
    i = 0
    while i < len(text):
        char = text[i]
        i += 1
        
        count = ""
        while i < len(text) and text[i].isdigit():
            count += text[i]
            i += 1
        
        if count == "":
            result += char  
        else:
            result += char * int(count)  
            
    return result


# Tests
# Test that the functions work on their own
assert encode("AABCCCDEEEE") == "A2BC3DE4"
assert decode("A2BC3DE4") == "AABCCCDEEEE"

# Test that the functions really invert each other
assert decode(encode("AABCCCDEEEE")) == "AABCCCDEEEE"
assert encode(decode("A2BC3DE4")) == "A2BC3DE4"

# Print message if all tests pass
print("All tests passed successfully!\n")





# Write your code here





# Write your code here
















import numpy as np
import numpy.polynomial as p
import matplotlib.pyplot as plt


first_polynomial = p.Polynomial([-8, 5, 2])


second_polynomial = p.Polynomial([-2, 0, 0, 0, 3])


polynomial_sum = first_polynomial + second_polynomial


polynomial_sum


print(polynomial_sum)


polynomial_product = first_polynomial * second_polynomial


polynomial_product


print(polynomial_product)


polynomial_sum(5)


def plot_complex_number(z):
    """
    Plots the complex number z as a radius vector in the 2D space
    """
    fig, ax = plt.subplots(figsize=(6, 6))

    ax.axhline(0, color='gray', lw=1)
    ax.axvline(0, color='gray', lw=1)
    ax.quiver(0,                        # x start coordinate
              0,                        # y start coordinate
                                        # - define the arrow's direction and length -
              z.real,                   # x end coordinate
              z.imag,                   # y coordinate
                                        # --- OPTIONAL parameters ---
              angles="xy",              # (string) determines how angles are specified: 'xy' or 'uv'
              scale = 1,                # (float) scales the length of the arror
              scale_units="xy",         # (string) defines the units for the scale parameter; 'xy' - proper aspect ratio
              # units                   # (string) affects arrow scaling
              width = 0.01,             # (float) shaft width of the arror as a fraction of the plot width
              headwidth = 3,            # (float) as a multiple of the shaft width
              headlength = 5,           # (float) as a multiple of the shaft width
              # headaxislength          # (float) at the top as a multiple of the shaft width
              color = 'b',              # Color specification for the arrows; can be a signle color or an array of colors
              # pivot = 'tail',         # (string) part of the arrow that is anchored to the x, y grid: tail, mid, tip
              alpha = 0.5               # (float) transparency level between 0 (transparent) and 1
             )                
    
    ax.set_xticks(range(-3, 4))
    ax.set_yticks(range(-3, 5))
    ax.set_xlabel('Real')
    ax.set_ylabel('Imaginary')
    ax.grid(True, linestyle='--', alpha=0.4)
    ax.set_aspect('equal')
    
    plt.tight_layout()
    plt.show()

plot_complex_number(2 + 3j)


def plot_complex_numbers(numbers, colors):
    """
    Plots the given complex numbers as radius vectors in the 2D space.
    """
    fig, ax = plt.subplots(figsize=(6, 6))
    ax.axhline(0, color='gray', lw=1)
    ax.axvline(0, color='gray', lw=1)

    zeros = [0] * len(numbers)
    real_parts = [z.real for z in numbers]
    imag_parts = [z.imag for z in numbers]
    ax.quiver(zeros,                    # x start coordinates
              zeros,                    # y start coordinates
                                        # - define the arrow's direction and length -
              real_parts,               # x end coordinates
              imag_parts,               # y coordinates
                                        # --- OPTIONAL parameters ---
              angles="xy",              # (string) determines how angles are specified: 'xy' or 'uv'
              scale = 1,                # (float) scales the length of the arror
              scale_units="xy",         # (string) defines the units for the scale parameter; 'xy' - proper aspect ratio
              # units                   # (string) affects arrow scaling
              width = 0.01,             # (float) shaft width of the arror as a fraction of the plot width
              headwidth = 3,            # (float) as a multiple of the shaft width
              headlength = 5,           # (float) as a multiple of the shaft width
              # headaxislength          # (float) at the top as a multiple of the shaft width
              color = colors,           # Color specification for the arrows; can be a signle color or an array of colors
              # pivot = 'tail',         # (string) part of the arrow that is anchored to the x, y grid: tail, mid, tip
              alpha = 0.5               # (float) transparency level between 0 (transparent) and 1
             )   

    ax.set_xlim(-4, 8)
    ax.set_ylim(-3, 6)
    ax.set_aspect('equal')

    ax.set_xlabel('Real')
    ax.set_ylabel('Imaginary')
    ax.grid(True, linestyle='--', alpha=0.4)

    plt.tight_layout()
    plt.show()

plot_complex_numbers([2 + 3j, -2 - 1j, -3, 2j], ["green", "red", "blue", "orange"])


def plot_vectors(vectors, colors):
    """
    Plots the given vectors as arrows from the origin in a 2D space.
    
    Parameters:
    -----------
    vectors : list of tuples
        List of (x, y) coordinates representing vector endpoints
    colors : list of str
        List of colors for each vector
    """
    fig, ax = plt.subplots(figsize=(6, 6))
    
    # Draw axis lines
    ax.axhline(0, color='gray', lw=1)
    ax.axvline(0, color='gray', lw=1)
    
    # Extract vector components
    zeros = [0] * len(vectors)
    x_components = [v[0] for v in vectors]
    y_components = [v[1] for v in vectors]
    
    # Plot vectors
    ax.quiver(zeros,                    # x start coordinates
              zeros,                    # y start coordinates
              x_components,             # x components
              y_components,             # y components
              # --- OPTIONAL parameters ---
              angles="xy",              # (string) determines how angles are specified: 'xy' or 'uv'
              scale=1,                  # (float) scales the length of the arrow
              scale_units="xy",         # (string) defines the units for the scale parameter
              width=0.01,               # (float) shaft width of the arrow
              headwidth=3,              # (float) head width as multiple of shaft width
              headlength=5,             # (float) head length as multiple of shaft width
              color=colors,             # Color for each arrow
              alpha=0.5                 # (float) transparency level
             )   
    
    # Set plot limits and appearance
    ax.set_xlim(-4, 8)
    ax.set_ylim(-3, 6)
    ax.set_aspect('equal')
    ax.set_xlabel('X')
    ax.set_ylabel('Y')
    ax.grid(True, linestyle='--', alpha=0.4)
    
    plt.tight_layout()
    plt.show()

# Example usage with four vectors
vectors = [(2, 3), (-2, -1), (-3, 0), (0, 2)]
plot_vectors(vectors, ["green", "red", "blue", "orange"])










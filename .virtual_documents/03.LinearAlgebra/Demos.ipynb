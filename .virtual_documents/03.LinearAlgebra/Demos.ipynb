import numpy as np











# Define dimensions: A is (m x p) and B is (p x n)
m, p, n = 3, 4, 2  # You can change these values as needed

# Create matrices
A = np.array([[1, 2, 3, 4],
              [5, 6, 7, 8],
              [9, 10, 11, 12]])

B = np.array([[1, 2],
              [3, 4],
              [5, 6],
              [7, 8]]) 

# Method 1: Using numpy's matrix multiplication
C = np.matmul(A, B)  # or simply: C = A @ B in modern Python
print("Matrix C using numpy matmul:")
print(C)

# Method 2: Manual implementation of the formula c_ij = sum(a_ik * b_kj) for k=1 to p
def manual_matrix_multiply(A, B):
    m, p = A.shape
    p_check, n = B.shape
    
    if p != p_check:
        raise ValueError("Matrix dimensions don't match for multiplication")
    
    # Initialize result matrix C with zeros
    C = np.zeros((m, n))
    
    # Implement the formula c_ij = sum(a_ik * b_kj) for k=1 to p
    for i in range(m):
        for j in range(n):
            for k in range(p):
                C[i, j] += A[i, k] * B[k, j]
    return C

# Calculate C manually and compare
C_manual = manual_matrix_multiply(A, B)
print("\nMatrix C using manual implementation:")
print(C_manual)

# Verify that both methods produce the same result
print("\nAre results equal?", np.array_equal(C, C_manual))

# The explicit calculation for the first element c_00
# c_00 = sum(A[0, k] * B[k, 0] for k in range(p))
# print(f"\nExplicitly calculated c_00 = {c_00}")
# print(f"Value from numpy: C[0, 0] = {C[0, 0]}")







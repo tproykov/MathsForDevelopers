import numpy as np
import matplotlib.pyplot as plt




















def plot_vectors(vectors, colors):
    """
    Plots the given vectors as arrows from the origin in a 2D space.
    
    Parameters:
    -----------
    vectors : list of tuples
        List of (x, y) coordinates representing vector endpoints
    colors : list of str
        List of colors for each vector
    """
    fig, ax = plt.subplots(figsize=(6, 6))
    
    # Draw axis lines
    ax.axhline(0, color='gray', lw=1)
    ax.axvline(0, color='gray', lw=1)
    
    # Extract vector components
    zeros = [0] * len(vectors)
    x_components = [v[0] for v in vectors]
    y_components = [v[1] for v in vectors]
    
    # Plot vectors
    ax.quiver(zeros,                    # x start coordinates
              zeros,                    # y start coordinates
              x_components,             # x components
              y_components,             # y components
              # --- OPTIONAL parameters ---
              angles="xy",              # (string) determines how angles are specified: 'xy' or 'uv'
              scale=1,                  # (float) scales the length of the arrow
              scale_units="xy",         # (string) defines the units for the scale parameter
              width=0.01,               # (float) shaft width of the arrow
              headwidth=3,              # (float) head width as multiple of shaft width
              headlength=5,             # (float) head length as multiple of shaft width
              color=colors,             # Color for each arrow
              alpha=0.5                 # (float) transparency level
             )   
    
    # Set plot limits and appearance
    ax.set_xlim(-3, 2)
    ax.set_ylim(-1, 2)
    ax.set_aspect('equal')
    ax.set_xlabel('X')
    ax.set_ylabel('Y')
    ax.grid(True, linestyle='--', alpha=0.4)

    # Set consistent grid spacing
    ax.set_xticks(range(-3, 3, 1))  # x-ticks from -3 to 2 in steps of 1
    ax.set_yticks(range(-1, 3, 1))  # y-ticks from -1 to 2 in steps of 1
    
    plt.tight_layout()
    plt.show()

# Example usage with four vectors
vectors = [(1, 0), (0, 1), (-2, 1)]
plot_vectors(vectors, ["blue", "red", "green"])














A = np.array([[2, 3, 7],
              [8, 9, 1]])

B = np.array([[1, -3, 0],
              [2, -4, 1]])

C = A + B

print("Matrix A:")
print(A)
print("\nMatrix B:")
print(B)
print("\nA + B =")
print(C)








lambda_val = 2
A = np.array([[2, 3, 7],
              [8, 9, 1]])

result = lambda_val * A

print(f"λ = {lambda_val}")
print("\nMatrix A:")
print(A)
print(f"\nλA = {lambda_val} * A =")
print(result)









A = np.array([[1, 2, 0, 1],
              [-3, -4, 1, 3],
              [2, 0, 1, 1]])

A_T = A.T  # or np.transpose(A)

print("Matrix A:")
print(A)

print("\nA^T = ")
print(A_T)





import numpy as np
A = np.array([[2, 3, 7],
              [8, 9, 1]])

B = np.array([[1, 2, 0, 1],
              [-3, -4, 1, 3],
              [2, 0, 1, 1]])

C = np.dot(A, B)  # or A @ B

print("Matrix A:")
print(A)

print("\nMatrix B:")
print(B)

print("\nResult AB:")
print(C)

# Show detailed calculations
print("\nDetailed calculations:")
for i in range(A.shape[0]):
    for j in range(B.shape[1]):
        calculation = []
        result = 0
        for k in range(A.shape[1]):
            term = A[i,k] * B[k,j]
            calculation.append(f"{A[i,k]}*{B[k,j]}")
            result += term
        
        calc_str = " + ".join(calculation)
        print(f"C[{i},{j}] = {calc_str} = {result}")


# Define dimensions: A is (m x p) and B is (p x n)
m, p, n = 3, 4, 2  # You can change these values as needed

# Create matrices
A = np.array([[1, 2, 3, 4],
              [5, 6, 7, 8],
              [9, 10, 11, 12]])

B = np.array([[1, 2],
              [3, 4],
              [5, 6],
              [7, 8]]) 

# Method 1: Using numpy's matrix multiplication
C = np.matmul(A, B)  # or simply: C = A @ B in modern Python
print("Matrix C using numpy matmul:")
print(C)

# Method 2: Manual implementation of the formula c_ij = sum(a_ik * b_kj) for k=1 to p
def manual_matrix_multiply(A, B):
    m, p = A.shape
    p_check, n = B.shape
    
    if p != p_check:
        raise ValueError("Matrix dimensions don't match for multiplication")
    
    # Initialize result matrix C with zeros
    C = np.zeros((m, n))
    
    # Implement the formula c_ij = sum(a_ik * b_kj) for k=1 to p
    for i in range(m):
        for j in range(n):
            for k in range(p):
                C[i, j] += A[i, k] * B[k, j]
    return C

# Calculate C manually and compare
C_manual = manual_matrix_multiply(A, B)
print("\nMatrix C using manual implementation:")
print(C_manual)

# Verify that both methods produce the same result
print("\nAre results equal?", np.array_equal(C, C_manual))

# The explicit calculation for the first element c_00
# c_00 = sum(A[0, k] * B[k, 0] for k in range(p))
# print(f"\nExplicitly calculated c_00 = {c_00}")
# print(f"Value from numpy: C[0, 0] = {C[0, 0]}")





# Define the shear transformation matrix
shear_matrix = np.array([[1, 2],
                         [-1, 1]])
# Create a grid of points
x = np.arange(-4, 5, 1)
y = np.arange(-4, 5, 1)
xx, yy = np.meshgrid(x, y)

# Transform the grid
points = np.vstack([xx.flatten(), yy.flatten()])
transformed_points = shear_matrix @ points
xx_transformed = transformed_points[0].reshape(xx.shape)
yy_transformed = transformed_points[1].reshape(yy.shape)

# Create the plot
fig, ax = plt.subplots(figsize=(8, 8))

# Plot the transformed grid lines
# Vertical lines
for i in range(xx.shape[1]):
    ax.plot(xx_transformed[:, i], yy_transformed[:, i], 'b--', alpha=0.7)
# Horizontal lines
for i in range(xx.shape[0]):
    ax.plot(xx_transformed[i, :], yy_transformed[i, :], 'r--', alpha=0.7)

# Plot the original basis vectors
ax.quiver(0, 0, 1, 0, angles='xy', scale_units='xy', scale=1, color='blue', width=0.007, alpha = 0.3)
ax.quiver(0, 0, 0, 1, angles='xy', scale_units='xy', scale=1, color='red', width=0.007, alpha = 0.3)

# Plot the transformed basis vectors
ax.quiver(0, 0, 1, -1, angles='xy', scale_units='xy', scale=1, color='blue', width=0.008)
ax.quiver(0, 0, 2, 1, angles='xy', scale_units='xy', scale=1, color='red', width=0.008)

# Set up the plot
ax.set_xlim(-3, 4)
ax.set_ylim(-3, 4)
ax.set_aspect('equal')
ax.grid(True, alpha=0.3)
ax.set_title('Shear', fontsize=14)
ax.axhline(y=0, color='k', linewidth=0.5)
ax.axvline(x=0, color='k', linewidth=0.5)

# Set consistent grid spacing
ax.set_xticks(range(-3, 4, 1))  # x-ticks from -3 to 2 in steps of 1
ax.set_yticks(range(-3, 4, 1))  # y-ticks from -1 to 2 in steps of 1

plt.tight_layout()
plt.show()
















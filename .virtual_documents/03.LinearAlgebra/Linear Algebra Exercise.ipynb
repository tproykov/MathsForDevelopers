%matplotlib inline


import numpy as np
import matplotlib.pyplot as plt
from matplotlib.transforms import Affine2D
import skimage.io
import time
from timeit import timeit








def plot_vectors(vectors, colors):
    """
    Plots vectors on the xy-plane. The `vectors` parameter is a Python list.
    Each vector is specified in the format [start_x, start_y, end_x, end_y]
    """
    # Write your code here
    # Figure first, define size
    fig, ax = plt.subplots(figsize = (6, 6))
    
    # Extract the start points and end points 
    start_x = [v[0] for v in vectors]
    start_y = [v[1] for v in vectors]
    end_x = [v[2] for v in vectors]
    end_y = [v[3] for v in vectors]
    
    # Calculate the vector displacement (delta x and delta x)
    dx = [v[2] - v[0] for v in vectors]
    dy = [v[3] - v[1] for v in vectors]
    
    # Plot vectors
    ax.quiver(start_x,                  # x start coordinates
              start_y,                  # y start coordinates
              dx,                       # delta x
              dy,                       # delta y
              # --- OPTIONAL PARAMETRS - USE ONLY IF NEEDED! ---
              angles = "xy",              # (string) determines how angles are specified: 'xy' or 'uv'
              scale = 1,                  # (float) scales the length of the arrow; why do we need this?
              scale_units = "xy",         # (string) defines the units for the scale
              width = 0.01,               # (float) width of the arrow
              headwidth = 3,              # (float) head width as multiple of arrow width
              headlength = 5,             # (float) head length as multiple of arrow width
              color = colors              # Allows different color for each arrow
             )   
    
    # Dynamic plot limits look better
    # plt.xlim(-5, 5)
    # plt.ylim(-5, 5)
    
    # Calculate DYYNAMIC plot limits
    x_coords = start_x + end_x
    y_coords = start_y + end_y
    x_min, x_max = min(x_coords), max(x_coords)
    y_min, y_max = min(y_coords), max(y_coords)
    
    # Add padding
    padding_x = (x_max - x_min) * 0.10     # 10% of the range; optionally, add 1
    padding_y = (y_max - y_min) * 0.10

    ax.set_xlim(x_min - padding_x, x_max + padding_x)
    ax.set_ylim(y_min - padding_y, y_max + padding_y)
    
    # Style the plot :)
    ax.axhline(0, color='gray', lw = 1)  
    ax.axvline(0, color='gray', lw = 1)
    ax.set_aspect('equal')
    ax.set_xlabel('X')
    ax.set_ylabel('Y')
    ax.grid(True, linestyle='--', alpha=0.4)

    # Set consistent grid spacing at intervals of 1
    x_tick_min = int(np.floor(x_min - padding_x))
    x_tick_max = int(np.ceil(x_max + padding_x))
    y_tick_min = int(np.floor(y_min - padding_y))
    y_tick_max = int(np.ceil(y_max + padding_y))

    ax.set_xticks(range(x_tick_min, x_tick_max + 1, 1))
    ax.set_yticks(range(y_tick_min, y_tick_max + 1, 1))
    
    plt.tight_layout()
    plt.show()


plot_vectors([[0, 0, 2, 3]], ["red"]) # One vector
plot_vectors([[0, 0, 1, 0], [0, 0, 0, 1]], ["red", "blue"]) # Two orthogonal vectors
plot_vectors([[1, 1, -2, 3], [2, 1, -2.5, 1.5], [-3.2, -1.5, 0, 4.3]], ["red", "blue", "orange"]) # Three arbitrary vectors








def find_linear_combination_coefficients(e1, e2, v):
    """
    Returns the coordinates of the representation of v in the basis {e_1, e_2}.
    That is, the unknown coefficients in the linear combination v = lambda_1 * e_1 + lambda_2 * e_2
    """
    # The system of equations is this:
    # v_x = lambda_1.e1_x + lambda_2.e2_x
    # v_y = lambda_1.e1_y + lambda_2.e2_y
    
    # Create matrix A from basis - vectors e1 and e2 appear as columns:
    # [e1_x e2_x] [lambda_1] = [v_x]
    # [e1_y e2_y] [lambda_2]   [v_y]
    basis_matrix = np.column_stack((e1, e2))        # this seems to be easier 
    
    # Return the solved linear system Ae = v
    return np.linalg.solve(basis_matrix, v)


e1, e2 = [[1, 0], [0, 1]]
v = [3.5, 8.6]
# Find the unknown coefficients. Extract the logic in a function.
# It should accept the two basis vectors and the one we need to represent
# and should return the two coefficients
coefficients = find_linear_combination_coefficients(e1, e2, v)
print("Coefficients: ", str(coefficients))
# Plot the three vectors
plot_vectors([[0, 0, i[0], i[1]] for i in [e1, e2, v]], ["red", "blue", "green"])





e1, e2 = [[2, 3], [-5, 1]]
coefficients = find_linear_combination_coefficients(e1, e2, v)
print("Coefficients: ", str(coefficients))
plot_vectors([[0, 0, i[0], i[1]] for i in [e1, e2, v]], ["red", "blue", "green"])


e1, e2 = [[5, 1], [-5, -2]]
coefficients = find_linear_combination_coefficients(e1, e2, v)
print("Coefficients: ", str(coefficients))
plot_vectors([[0, 0, i[0], i[1]] for i in [e1, e2, v]], ["red", "blue", "green"])


e1, e2 = [[-3, 3], [-3, -4]]
v = [3, 3]
coefficients = find_linear_combination_coefficients(e1, e2, v)
print("Coefficients: ", str(coefficients))
plot_vectors([[0, 0, i[0], i[1]] for i in [e1, e2, v]], ["red", "blue", "green"])





e1, e2 = [[3, 4], [-4, 3]]
coefficients = find_linear_combination_coefficients(e1, e2, v)
print("Coefficients: ", str(coefficients))
plot_vectors([[0, 0, i[0], i[1]] for i in [e1, e2, v]], ["red", "blue", "green"])





e1, e2 = [[0, 5], [4, 0]]
coefficients = find_linear_combination_coefficients(e1, e2, v)
print("Coefficients: ", str(coefficients))
plot_vectors([[0, 0, i[0], i[1]] for i in [e1, e2, v]], ["red", "blue", "green"])








# Write your code here
# x = [2, 3, 8, -2.3, 0, 15]


x = np.random.random(2000)


def python_sum(x):
    total = 0
    for i in range(len(x)):
        total += x[i]
    return total

def numpy_sum(x):
    return np.sum(x)


python_sum(x)


numpy_sum(x)


%timeit python_sum(x)


%timeit numpy_sum(x)


# Compare times for different array lengths
lengths = [100, 1000, 10000, 100000, 1000000, 10000000]

for length in lengths:
    x = np.random.random(length)
    
    print(f"Array length: {length}")
    
    print("Python sum time: (python_sum)")
    %timeit python_sum(x)
    print("NumPy sum time: (numpy_sum)")
    %timeit numpy_sum(x)
    
    # Check if results are equal
    py_sum = python_sum(x)
    np_sum = numpy_sum(x)
    print(f"Check if results are equal: {np.isclose(py_sum, np_sum)}\n")


def python_multiply(x, y):
    result = np.zeros_like(x)
    for i in range(len(x)):
        result[i] = x[i] * y[i]
    return result

def numpy_multiply(x, y):
    return x * y

lengths = [100, 1000, 10000, 100000, 1000000, 10000000]
python_sum_times = []
numpy_sum_times = []
python_multiply_times = []
numpy_multiply_times = []

for length in lengths:
    x = np.random.random(length)
    
    print(f"Array length: {length}")
    
    print("Python sum time: (python_sum)")
    result = %timeit -o python_sum(x)
    python_sum_times.append(result.average)
    
    print("NumPy sum time: (numpy_sum)")
    result = %timeit -o numpy_sum(x)
    numpy_sum_times.append(result.average)
    
    # Check if results are equal
    py_sum = python_sum(x)
    np_sum = numpy_sum(x)
    print(f"Check if results are equal: {np.isclose(py_sum, np_sum)}\n")
    
    y = np.random.random(length)
    
    print("Python multiply time:")
    result = %timeit -o python_multiply(x,y)
    python_multiply_times.append(result.average)
    
    print("NumPy multiply time:")
    result = %timeit -o numpy_multiply(x, y)
    numpy_multiply_times.append(result.average)
    
    # Check if results are equal
    py_mult = python_multiply(x, y)
    np_mult = numpy_multiply(x, y)
    print(f"Check if results are equal: {np.allclose(py_mult, np_mult)}\n")

# Create arrays of sum and multiply speedups
sum_speedups = np.array(numpy_sum_times) / np.array(python_sum_times)
multiply_speedups = np.array(numpy_multiply_times) / np.array(python_multiply_times)

# CREATE PLOTS ----- logarithmic plots -----------------------------------
# Plot 1: Multiplication times comparison
fig1, ax1 = plt.subplots(figsize = (10, 5))
ax1.set_xlabel('Array Length')
ax1.set_ylabel('Python Time (seconds)', color = 'tab:blue')
ax1.loglog(lengths,                  # logarithmic scales on x and y, # x axis
         python_multiply_times,      # y axis
         'o-',                       # line style: circles ('o') connected by lines ('-')
         color='tab:blue', 
         label='Python Multiply')  
ax1.tick_params(axis='y', labelcolor='tab:blue')
ax1.grid(True, which="both", ls = "-")

# Create a second y-axis on the same plot
ax2 = ax1.twinx()                    # share the same x axis
ax2.set_ylabel('NumPy Time (seconds)', color = 'tab:red')
ax2.loglog(lengths, 
           numpy_multiply_times, 
           's-',                     # line style: squares ('s') connected by lines ('-')
           color='tab:red', 
           label='NumPy Multiply')
ax2.tick_params(axis='y', labelcolor='tab:red')

lines1, labels1 = ax1.get_legend_handles_labels()
lines2, labels2 = ax2.get_legend_handles_labels()
ax1.legend(lines1 + lines2, labels1 + labels2, loc = 'upper left')

plt.title('Python multiply vs NumPy multiply')
plt.tight_layout()
plt.savefig('multiply_comparison.png')
plt.show()

# Plot 2: Speedups
fig2, ax3 = plt.subplots(figsize = (10, 5))
ax3.loglog(lengths, sum_speedups, 'o-', label = 'Sum Speedup')
ax3.loglog(lengths, multiply_speedups, 's-', label ='Multiply Speedup')
ax3.set_xlabel('Array Length')
ax3.set_ylabel('Speedup Factor (NumPy Time / Python Time)')
ax3.set_title('NumPy/Python Time Ratio (Speedup) as function of Array Length')
ax3.grid(True, which="both", ls="-")
ax3.legend()
plt.tight_layout()
plt.savefig('speedup_comparison.png')
plt.show()





x = np.array([2, 3, 4])
y = np.array([5, -2, 3])
print("x.y =", str(x.dot(y)))

print("x.shape:", x.shape)
print("y.shape:", y.shape)
print("x:", x)
print("x transpose:", x.T)





x = np.array([[2, 3, 4]]) # Row vector
y = np.array([[5], [-2], [3]]) # Column vector

print("x.shape:", x.shape)
print("y.shape:", y.shape)
print("x.y:\n", x.dot(y)) # Dot product -> still looks like a matrix
print("y.x:\n", y.dot(x)) # Outer product -> matrix








def visualize_transformation(matrix, plot_title):
    fig = plt.figure()
    plt.axis("equal")
    ax = fig.add_subplot(111)

    # Limits, labels and grid
    ax.set_xlim(-5, 5)
    ax.set_ylim(-5, 5)
    ax.set_xticks(np.arange(ax.get_xlim()[0], ax.get_xlim()[1] + 1))
    ax.set_yticks(np.arange(ax.get_ylim()[0], ax.get_ylim()[1] + 1))
    ax.set_xticklabels([])
    ax.set_yticklabels([])
    ax.grid()
    ax.set_title(plot_title)

    # Unit vectors
    ax.quiver([0, 0], [0, 0], [1, 0], [0, 1], color = ["red", "blue"], alpha = 0.2, units = "xy", scale = 1)

    # Transformation
    matrix = [
        [matrix[0][0], matrix[0][1], 0],
        [matrix[1][0], matrix[1][1], 0],
        [0, 0, 1],
    ]
    t = Affine2D(matrix)

    [min_x, max_x, min_y, max_y] = [2 * ax.get_xlim()[0], 2 * ax.get_xlim()[1] + 1, 2 * ax.get_ylim()[0], 2 * ax.get_ylim()[1] + 1]

    # New (transformed) grid lines
    # Horizontal
    for y in np.arange(min_y, max_y):
        ax.plot([min_x, max_x], [y] * 2, color = "red", linestyle = "--", linewidth = 2, transform = t + ax.transData)
    # Vertical
    for x in np.arange(min_x, max_x):
        ax.plot([x] * 2, [min_y, max_y], color = "blue", linestyle = "--", linewidth = 2, transform = t + ax.transData)

    # New (transformed) unit vectors
    new_x = t.transform_affine([1, 0])
    new_y = t.transform_affine([0, 1])
    ax.quiver([0, 0], [0, 0], [new_x[0], new_y[0]], [new_x[1], new_y[1]], color = ["red", "blue"], units = "xy", angles = "xy", scale = 1)
   
    plt.show()





# Identity
matrix = [
    [1, 0],
    [0, 1]
]

visualize_transformation(matrix, r"$\mathrm{Identity\ transformation}$")

# Scaling
matrix = [
    [2, 0],
    [0, 1]
]

visualize_transformation(matrix, r"$\mathrm{Scaling}$")

# Shear
matrix = [
    [1, 2],
    [-1, 1]
]

visualize_transformation(matrix, r"$\mathrm{Shear}$")

# Rotation
matrix = [
    [np.cos(np.radians(30)), -np.sin(np.radians(30))],
    [np.sin(np.radians(30)), np.cos(np.radians(30))]
]

visualize_transformation(matrix, r"$\mathrm{30^{\circ}\ rotation}$")

# Projection (linearly dependent rows)
matrix = [
    [1, 2],
    [2, 4]
]

visualize_transformation(matrix, r"$\mathrm{Projection\ (linearly\ dependent\ rows)}$")





def visualize_transformation1(matrix, plot_title):

    matrix = np.array(matrix)

    # Create the plot
    fig, ax = plt.subplots(figsize=(8, 8))
    
    # THE GRID
    # Create the grid - this size should be enough
    x = np.arange(-6, 7, 1)
    y = np.arange(-6, 7, 1)
    xx, yy = np.meshgrid(x, y)
    
    # Prepare the grid for transformation - each column in the stack is a point
    points = np.vstack([xx.flatten(), yy.flatten()])

    # Transform the grid
    transformed_points = matrix @ points
    xx_transformed = transformed_points[0].reshape(xx.shape)
    yy_transformed = transformed_points[1].reshape(yy.shape)
    
    # Plot the transformed grid lines
    # Vertical lines
    for i in range(xx.shape[1]):
        ax.plot(xx_transformed[:, i], yy_transformed[:, i], 'b--', alpha=0.7)
    
    # Horizontal lines
    for i in range(xx.shape[0]):
        ax.plot(xx_transformed[i, :], yy_transformed[i, :], 'r--', alpha=0.7)
    
    # THE VECTORS
    # Plot the original basis vectors
    ax.quiver(0, 0, 1, 0, angles='xy', scale_units='xy', scale=1, color='blue', width=0.007, alpha=0.3)
    ax.quiver(0, 0, 0, 1, angles='xy', scale_units='xy', scale=1, color='red', width=0.007, alpha=0.3)
    
    # Plot the transformed vectors
    transformed_i = matrix @ np.array([1, 0])
    transformed_j = matrix @ np.array([0, 1])
    ax.quiver(0, 0, transformed_i[0], transformed_i[1], angles='xy', scale_units='xy', scale=1, color='blue', width=0.008)
    ax.quiver(0, 0, transformed_j[0], transformed_j[1], angles='xy', scale_units='xy', scale=1, color='red', width=0.008)
    
    # THE PLOT - layout
    ax.set_xlim(-3, 4)
    ax.set_ylim(-3, 4)
    ax.set_aspect('equal')
    ax.grid(True, alpha=0.25)
    ax.set_title(plot_title, fontsize=14)
    ax.axhline(y=0, color='k', linewidth=0.5)
    ax.axvline(x=0, color='k', linewidth=0.5)
    
    # Set consistent grid spacing
    ax.set_xticks(range(-3, 4, 1))
    ax.set_yticks(range(-3, 4, 1))
    
    plt.tight_layout()
    plt.show()


# Shear transformation
shear_matrix = [
    [1, 2],
    [-1, 1]
]
visualize_transformation1(shear_matrix, "Shear")

# Reflection about y-axis
reflection_matrix = [
    [-1, 0],
    [0, 1]
]
visualize_transformation1(reflection_matrix, "Reflection")

# Rotation transformation (45 degrees)
theta = np.pi/4  # 45 degrees
rotation_matrix = [
    [np.cos(theta), -np.sin(theta)],
    [np.sin(theta), np.cos(theta)]
]
visualize_transformation1(rotation_matrix, r"$\mathrm{45^{\circ}\ rotation}$") 

# Rotation transformation (15 degrees)
theta = np.pi/12 
rotation_matrix = [
    [np.cos(theta), -np.sin(theta)],
    [np.sin(theta), np.cos(theta)]
]
visualize_transformation1(rotation_matrix, r"$\mathrm{15^{\circ}\ rotation}$") 





def read_image(url):
    img = skimage.io.imread(url)
    return img


cat_image_url = "https://d17fnq9dkz9hgj.cloudfront.net/uploads/2012/11/140272627-grooming-needs-senior-cat-632x475.jpg"
cat_image = read_image(cat_image_url)


cat_image.shape


cat_image.dtype


cat_image[0][0] # First pixel


plt.imshow(cat_image)
plt.axis("off")
plt.show()





cat_image[:, :, 0].shape


cat_image_r, cat_image_g, cat_image_b = [cat_image[:, :, i] for i in range(3)]
f, (ax_r, ax_g, ax_b) = plt.subplots(1, 3, figsize = (10, 5))
ax_r.imshow(cat_image_r, cmap = "gray")
ax_r.set_title("Red channel")
ax_g.imshow(cat_image_g, cmap = "gray")
ax_g.set_title("Green channel")
ax_b.imshow(cat_image_b, cmap = "gray")
ax_b.set_title("Blue channel")
plt.setp([ax_r, ax_g, ax_b], xticks = [], yticks = []) # Remove axis ticks
plt.show()


cat_image_r, cat_image_g, cat_image_b = [cat_image[:, :, i] for i in range(3)]
f, (ax_r, ax_g, ax_b) = plt.subplots(1, 3, figsize = (10, 5))
ax_r.imshow(cat_image_r, cmap = "Reds_r")
ax_r.set_title("Red channel")
ax_g.imshow(cat_image_g, cmap = "Greens_r")
ax_g.set_title("Green channel")
ax_b.imshow(cat_image_b, cmap = "Blues_r")
ax_b.set_title("Blue channel")
plt.setp([ax_r, ax_g, ax_b], xticks = [], yticks = []) # Remove axis ticks
plt.show()





cat_image_r_normalized, cat_image_g_normalized, cat_image_b_normalized = [
    channel / 255 for channel in [cat_image_r, cat_image_g, cat_image_b]
] 
cat_image_gray = (cat_image_r_normalized + cat_image_g_normalized + cat_image_b_normalized) / 3.0  
plt.imshow(cat_image_gray, cmap = "gray")
plt.title("Average grayscale image")
plt.show()





cat_image_gray_corrected = (0.299 * cat_image_r_normalized + 
                            0.587 * cat_image_g_normalized + 
                            0.114 * cat_image_b_normalized)
plt.gca().imshow(cat_image_gray_corrected, cmap = plt.cm.gray)
plt.title("Gamma-corrected grayscale image")
plt.show()





plt.hist(cat_image_gray.ravel(), bins = 256, color = "black")
plt.title("Uncorrected image histogram")
plt.show()
plt.hist(cat_image_gray_corrected.ravel(), bins = 256, color = "red")
plt.title("Corrected image histogram")
plt.show()


# Represent the image as a single-dimensional vector
hist_vector = cat_image_gray.ravel()

# Normalize the image to have values in the range [0; 1]
hist_vector = hist_vector / (hist_vector.max() - hist_vector.min())

plt.hist(hist_vector, bins = 256, color = "black", alpha = 0.5, label = "Uncorrected")
plt.hist(cat_image_gray_corrected.ravel(), bins = 256, color = "red", alpha = 0.5, label = "Corrected")
plt.xlim(0, 1)
plt.title("Image histograms comparison")
plt.legend()
plt.show()





# Write your code here
cat_image_gray_artistic1 = (0.899 * cat_image_r_normalized + 
                            0.587 * cat_image_g_normalized + 
                            0.114 * cat_image_b_normalized)
plt.gca().imshow(cat_image_gray_artistic1, cmap = plt.cm.gray)
plt.title("Artistic image 1")
plt.show()


hist_vector = cat_image_gray.ravel()
hist_vector = hist_vector / (hist_vector.max() - hist_vector.min())

plt.hist(hist_vector, bins = 256, color = "black", alpha = 0.5, label = "Uncorrected")
plt.hist(cat_image_gray_artistic1.ravel(), bins = 256, color = "red", alpha = 0.5, label = "Corrected")
plt.xlim(0, 1)
plt.title("Image histograms comparison - Artistic image 1")
plt.legend()
plt.show()


cat_image_gray_artistic2 = (0.299 * cat_image_r_normalized + 
                            0.187 * cat_image_g_normalized + 
                            0.914 * cat_image_b_normalized)
plt.gca().imshow(cat_image_gray_artistic2, cmap = plt.cm.gray)
plt.title("Artistic image 2")
plt.show()


hist_vector = cat_image_gray.ravel()
hist_vector = hist_vector / (hist_vector.max() - hist_vector.min())

plt.hist(hist_vector, bins = 256, color = "black", alpha = 0.5, label = "Uncorrected")
plt.hist(cat_image_gray_artistic2.ravel(), bins = 256, color = "red", alpha = 0.5, label = "Corrected")
plt.xlim(0, 1)
plt.title("Image histograms comparison - Artistic image 2")
plt.legend()
plt.show()





# Write your code here





def visualize_transformed_vector(matrix, vec, plot_title):
    """
    Shows the vector (starting at (0; 0)) before and after the transformation
    given by the specified matrix
    """
    matrix = np.array(matrix)
    vec = np.array(vec)
    
    # Create the plot
    fig, ax = plt.subplots(figsize = (8, 8))
    
    # THE GRID
    # Create the grid - this size should be enough?
    x = np.arange(-6, 7, 1)
    y = np.arange(-6, 7, 1)
    xx, yy = np.meshgrid(x, y)
    
    # Prepare the grid for transformation - each column in the stack is a point
    points = np.vstack([xx.flatten(), yy.flatten()])
    # Transform the grid
    transformed_points = matrix @ points
    xx_transformed = transformed_points[0].reshape(xx.shape)
    yy_transformed = transformed_points[1].reshape(yy.shape)
    
    # Plot the transformed grid lines
    for i in range(xx.shape[1]):
        ax.plot(xx_transformed[:, i], yy_transformed[:, i], 'b--', alpha=0.7)
    for i in range(xx.shape[0]):
        ax.plot(xx_transformed[i, :], yy_transformed[i, :], 'r--', alpha=0.7)
    
    # THE ORIGINAL VECTOR
    x_origin = 0
    y_origin = 0
    x_component = vec[0][0] # to take both numpy list and tuple
    y_component = vec[1][0]
    ax.quiver(x_origin, y_origin, x_component, y_component, angles='xy', scale_units='xy', scale=1, color='tab:blue', width=0.007, alpha=0.5)
    
    # THE TRANSFORMED VECTOR
    vec_flat = np.array([vec[0][0], vec[1][0]]) 
    transformed_vec = matrix @ vec_flat
    ax.quiver(x_origin, y_origin, transformed_vec[0], transformed_vec[1], angles='xy', scale_units='xy', scale=1, color='tab:red', width=0.008)
    
    # DYNAMICALLY SET THE PLOT LIMITS
    vectors = [
        [x_component, y_component],
        [transformed_vec[0], transformed_vec[1]]
    ]
    max_abs_x = max([abs(v[0]) for v in vectors]) * 1.2  # Add 20% margin
    max_abs_y = max([abs(v[1]) for v in vectors]) * 1.2  
    
    min_size = 4
    max_abs_x = max(max_abs_x, min_size)
    max_abs_y = max(max_abs_y, min_size)
    
    ax.set_xlim(-max_abs_x, max_abs_x)
    ax.set_ylim(-max_abs_y, max_abs_y)
    
    # THE PLOT - layout
    ax.set_aspect('equal')
    ax.grid(True, alpha=0.25)
    ax.set_title(plot_title, fontsize=14)
    ax.axhline(y=0, color='k', linewidth=0.5)
    ax.axvline(x=0, color='k', linewidth=0.5)
    
    # Add a legend
    from matplotlib.lines import Line2D
    legend_elements = [
        Line2D([0], [0], color='tab:blue', lw=2, label='Original Vector'),
        Line2D([0], [0], color='tab:red', lw=2, label='Transformed Vector')
    ]
    ax.legend(handles=legend_elements, loc='upper right')
    
    plt.tight_layout()
    plt.show()





matrix = np.array([
    [2, -4],
    [-1, -1]
])
vec = np.array([
    [2], 
    [3]
])
visualize_transformed_vector(matrix, vec, "Transformation")





vec = np.array([
    [-4], 
    [1]
])
visualize_transformed_vector(matrix, vec, "Transformation")





eig_1 = np.linalg.eig(T).eigenvectors[:, 0]
eig_2 = np.linalg.eig(T).eigenvectors[:, 1]
# eigenvalues, eigenvectors = np.linalg.eig(T)
# eig_1 = eigenvectors[:, 0]  # First eigenvector
# eig_2 = eigenvectors[:, 1]  # Second eigenvector


vectors_to_plot = [
    [0, 0, eig_1[0], eig_1[1]],  # 1st eigenvector starting at origin 0, 0, due to the way my plot function works, needing 4 coordinates
    [0, 0, eig_2[0], eig_2[1]]   # 2nd eigenvector
]


plot_vectors(vectors_to_plot, ['tab:red', 'tab:blue']) # tab makes for nicer colours


np.linalg.norm(eig_1), np.linalg.norm(eig_2)


(T @ (5 * eig_1)) / eig_1


(T @ eig_1) / eig_1


(T @ eig_2) / eig_2


transformed_eig_1 = T @ eig_1
transformed_eig_2 = T @ eig_2


vectors_to_plot = [
    [0, 0, transformed_eig_1[0], transformed_eig_1[1]], 
    [0, 0, transformed_eig_2[0], transformed_eig_2[1]]  
]
















%matplotlib inline


import numpy as np
import matplotlib.pyplot as plt
from matplotlib.transforms import Affine2D
import skimage.io
# Write your imports here








def plot_vectors(vectors, colors):
    """
    Plots vectors on the xy-plane. The `vectors` parameter is a Python list.
    Each vector is specified in the format [start_x, start_y, end_x, end_y]
    """
    # Write your code here
    # Figure first, define size
    fig, ax = plt.subplots(figsize = (6, 6))
    
    # Extract the start points and end points 
    start_x = [v[0] for v in vectors]
    start_y = [v[1] for v in vectors]
    end_x = [v[2] for v in vectors]
    end_y = [v[3] for v in vectors]
    
    # Calculate the vector displacement (delta x and delta x)
    dx = [v[2] - v[0] for v in vectors]
    dy = [v[3] - v[1] for v in vectors]
    
    # Plot vectors
    ax.quiver(start_x,                  # x start coordinates
              start_y,                  # y start coordinates
              dx,                       # delta x
              dy,                       # delta y
              # --- OPTIONAL PARAMETRS - USE ONLY IF NEEDED! ---
              angles = "xy",              # (string) determines how angles are specified: 'xy' or 'uv'
              scale = 1,                  # (float) scales the length of the arrow; why do we need this?
              scale_units = "xy",         # (string) defines the units for the scale
              width = 0.01,               # (float) width of the arrow
              headwidth = 3,              # (float) head width as multiple of arrow width
              headlength = 5,             # (float) head length as multiple of arrow width
              color = colors              # Allows different color for each arrow
             )   
    
    # Dynamic plot limits look better
    # plt.xlim(-5, 5)
    # plt.ylim(-5, 5)
    
    # Calculate DYYNAMIC plot limits
    x_coords = start_x + end_x
    y_coords = start_y + end_y
    x_min, x_max = min(x_coords), max(x_coords)
    y_min, y_max = min(y_coords), max(y_coords)
    
    # Add padding
    padding_x = (x_max - x_min) * 0.10     # 10% of the range; optionally, add 1
    padding_y = (y_max - y_min) * 0.10

    ax.set_xlim(x_min - padding_x, x_max + padding_x)
    ax.set_ylim(y_min - padding_y, y_max + padding_y)
    
    # Style the plot :)
    ax.axhline(0, color='gray', lw = 1)  
    ax.axvline(0, color='gray', lw = 1)
    ax.set_aspect('equal')
    ax.set_xlabel('X')
    ax.set_ylabel('Y')
    ax.grid(True, linestyle='--', alpha=0.4)

    # Set consistent grid spacing at intervals of 1
    x_tick_min = int(np.floor(x_min - padding_x))
    x_tick_max = int(np.ceil(x_max + padding_x))
    y_tick_min = int(np.floor(y_min - padding_y))
    y_tick_max = int(np.ceil(y_max + padding_y))

    ax.set_xticks(range(x_tick_min, x_tick_max + 1, 1))
    ax.set_yticks(range(y_tick_min, y_tick_max + 1, 1))
    
    plt.tight_layout()
    plt.show()


plot_vectors([[0, 0, 2, 3]], ["red"]) # One vector
plot_vectors([[0, 0, 1, 0], [0, 0, 0, 1]], ["red", "blue"]) # Two orthogonal vectors
plot_vectors([[1, 1, -2, 3], [2, 1, -2.5, 1.5], [-3.2, -1.5, 0, 4.3]], ["red", "blue", "orange"]) # Three arbitrary vectors





def find_linear_combination_coefficients(e1, e2, v):
    """
    Returns the coordinates of the representation of v in the basis {e_1, e_2}.
    That is, the unknown coefficients in the linear combination v = lambda_1 * e_1 + lambda_2 * e_2
    """
    # The system of equations:
    # lambda_1.e1_x + lambda_2.e2_x = v_x
    # lambda_1.e1_y + lambda_2.e2_y = v_y
    
    # Create matrix A from basis vectors e1 and e2 as columns
    # [e1_x e2_x] [lambda_1] = [v_x]
    # [e1_y e2_y] [lambda_2]   [v_y]
    basis_matrix = np.column_stack((e1, e2))        # this seems to be easier 
    
    # Return the solved linear system Ax = v
    return np.linalg.solve(basis_matrix, v)


e1, e2 = [[1, 0], [0, 1]]
v = [3.5, 8.6]
# Find the unknown coefficients. Extract the logic in a function.
# It should accept the two basis vectors and the one we need to represent
# and should return the two coefficients
coefficients = find_linear_combination_coefficients(e1, e2, v)
print("Coefficients: ", str(coefficients))
# Plot the three vectors
plot_vectors([[0, 0, i[0], i[1]] for i in [e1, e2, v]], ["red", "blue", "green"])





e1, e2 = [[2, 3], [-5, 1]]
coefficients = find_linear_combination_coefficients(e1, e2, v)
print("Coefficients: ", str(coefficients))
plot_vectors([[0, 0, i[0], i[1]] for i in [e1, e2, v]], ["red", "blue", "green"])


e1, e2 = [[5, 1], [-5, -2]]
coefficients = find_linear_combination_coefficients(e1, e2, v)
print("Coefficients: ", str(coefficients))
plot_vectors([[0, 0, i[0], i[1]] for i in [e1, e2, v]], ["red", "blue", "green"])


e1, e2 = [[-3, 3], [-3, -4]]
v = [3, 3]
coefficients = find_linear_combination_coefficients(e1, e2, v)
print("Coefficients: ", str(coefficients))
plot_vectors([[0, 0, i[0], i[1]] for i in [e1, e2, v]], ["red", "blue", "green"])





e1, e2 = [[3, 4], [-4, 3]]
coefficients = find_linear_combination_coefficients(e1, e2, v)
print("Coefficients: ", str(coefficients))
plot_vectors([[0, 0, i[0], i[1]] for i in [e1, e2, v]], ["red", "blue", "green"])





e1, e2 = [[0, 5], [4, 0]]
coefficients = find_linear_combination_coefficients(e1, e2, v)
print("Coefficients: ", str(coefficients))
plot_vectors([[0, 0, i[0], i[1]] for i in [e1, e2, v]], ["red", "blue", "green"])








# Write your code here
x = [2, 3, 8, -2.3, 0, 15]


x = np.random.random(2000)


def python_sum(x):
    total = 0
    for i in range(len(x)):
        total += x[i]
    return total

def numpy_sum(x):
    return np.sum(x)


python_sum(x)


numpy_sum(x)


%timeit python_sum(x)


%timeit numpy_sum(x)





x = np.array([2, 3, 4])
y = np.array([5, -2, 3])
print("x.y =", str(x.dot(y)))

print("x.shape:", x.shape)
print("y.shape:", y.shape)
print("x:", x)
print("x transpose:", x.T)





x = np.array([[2, 3, 4]]) # Row vector
y = np.array([[5], [-2], [3]]) # Column vector

print("x.shape:", x.shape)
print("y.shape:", y.shape)
print("x.y:\n", x.dot(y)) # Dot product -> still looks like a matrix
print("y.x:\n", y.dot(x)) # Outer product -> matrix








def visualize_transformation(matrix, plot_title):
    fig = plt.figure()
    plt.axis("equal")
    ax = fig.add_subplot(111)

    # Limits, labels and grid
    ax.set_xlim(-5, 5)
    ax.set_ylim(-5, 5)
    ax.set_xticks(np.arange(ax.get_xlim()[0], ax.get_xlim()[1] + 1))
    ax.set_yticks(np.arange(ax.get_ylim()[0], ax.get_ylim()[1] + 1))
    ax.set_xticklabels([])
    ax.set_yticklabels([])
    ax.grid()
    ax.set_title(plot_title)

    # Unit vectors
    ax.quiver([0, 0], [0, 0], [1, 0], [0, 1], color = ["red", "blue"], alpha = 0.2, units = "xy", scale = 1)

    # Transformation
    matrix = [
        [matrix[0][0], matrix[0][1], 0],
        [matrix[1][0], matrix[1][1], 0],
        [0, 0, 1],
    ]
    t = Affine2D(matrix)

    [min_x, max_x, min_y, max_y] = [2 * ax.get_xlim()[0], 2 * ax.get_xlim()[1] + 1, 2 * ax.get_ylim()[0], 2 * ax.get_ylim()[1] + 1]

    # New (transformed) grid lines
    # Horizontal
    for y in np.arange(min_y, max_y):
        ax.plot([min_x, max_x], [y] * 2, color = "red", linestyle = "--", linewidth = 2, transform = t + ax.transData)
    # Vertical
    for x in np.arange(min_x, max_x):
        ax.plot([x] * 2, [min_y, max_y], color = "blue", linestyle = "--", linewidth = 2, transform = t + ax.transData)

    # New (transformed) unit vectors
    new_x = t.transform_affine([1, 0])
    new_y = t.transform_affine([0, 1])
    ax.quiver([0, 0], [0, 0], [new_x[0], new_y[0]], [new_x[1], new_y[1]], color = ["red", "blue"], units = "xy", angles = "xy", scale = 1)
   
    plt.show()





# Identity
matrix = [
    [1, 0],
    [0, 1]
]

visualize_transformation(matrix, r"$\mathrm{Identity\ transformation}$")

# Scaling
matrix = [
    [2, 0],
    [0, 1]
]

visualize_transformation(matrix, r"$\mathrm{Scaling}$")

# Shear
matrix = [
    [1, 2],
    [-1, 1]
]

visualize_transformation(matrix, r"$\mathrm{Shear}$")

# Rotation
matrix = [
    [np.cos(np.radians(30)), -np.sin(np.radians(30))],
    [np.sin(np.radians(30)), np.cos(np.radians(30))]
]

visualize_transformation(matrix, r"$\mathrm{30^{\circ}\ rotation}$")

# Projection (linearly dependent rows)
matrix = [
    [1, 2],
    [2, 4]
]

visualize_transformation(matrix, r"$\mathrm{Projection\ (linearly\ dependent\ rows)}$")





import numpy as np
import matplotlib.pyplot as plt

def visualize_transformation1(matrix, plot_title):
    """
    Visualize a 2D linear transformation using a grid of points.
    """
    matrix = np.array(matrix)

    # Create the plot
    fig, ax = plt.subplots(figsize=(8, 8))
    
    # THE GRID
    # Create the grid - this size should be enough
    x = np.arange(-4, 5, 1)
    y = np.arange(-4, 5, 1)
    xx, yy = np.meshgrid(x, y)
    
    # Prepare the grid for transformation - each column in the stack is a point
    points = np.vstack([xx.flatten(), yy.flatten()])

    # Transform the grid
    transformed_points = matrix @ points
    xx_transformed = transformed_points[0].reshape(xx.shape)
    yy_transformed = transformed_points[1].reshape(yy.shape)
    
    # Plot the transformed grid lines
    # Vertical lines
    for i in range(xx.shape[1]):
        ax.plot(xx_transformed[:, i], yy_transformed[:, i], 'b--', alpha=0.7)
    
    # Horizontal lines
    for i in range(xx.shape[0]):
        ax.plot(xx_transformed[i, :], yy_transformed[i, :], 'r--', alpha=0.7)
    
    # THE VECTORS
    # Plot the original basis vectors
    ax.quiver(0, 0, 1, 0, angles='xy', scale_units='xy', scale=1, color='blue', width=0.007, alpha=0.3)
    ax.quiver(0, 0, 0, 1, angles='xy', scale_units='xy', scale=1, color='red', width=0.007, alpha=0.3)
    
    # Plot the transformed vectors
    transformed_i = matrix @ np.array([1, 0])
    transformed_j = matrix @ np.array([0, 1])
    ax.quiver(0, 0, transformed_i[0], transformed_i[1], angles='xy', scale_units='xy', scale=1, color='blue', width=0.008)
    ax.quiver(0, 0, transformed_j[0], transformed_j[1], angles='xy', scale_units='xy', scale=1, color='red', width=0.008)
    
    # THE PLOT - layout
    ax.set_xlim(-3, 4)
    ax.set_ylim(-3, 4)
    ax.set_aspect('equal')
    ax.grid(True, alpha=0.25)
    ax.set_title(plot_title, fontsize=14)
    ax.axhline(y=0, color='k', linewidth=0.5)
    ax.axvline(x=0, color='k', linewidth=0.5)
    
    # Set consistent grid spacing
    ax.set_xticks(range(-3, 4, 1))
    ax.set_yticks(range(-3, 4, 1))
    
    plt.tight_layout()
    plt.show()



# Example usage:

# Shear transformation
shear_matrix = [
    [1, 2],
    [-1, 1]
]
visualize_transformation1(shear_matrix, "Shear")

# Reflection about y-axis
reflection_matrix = [
    [-1, 0],
    [0, 1]
]
visualize_transformation1(reflection_matrix, "Reflection")

# Rotation transformation (45 degrees)
theta = np.pi/4  # 45 degrees
rotation_matrix = [
    [np.cos(theta), -np.sin(theta)],
    [np.sin(theta), np.cos(theta)]
]
visualize_transformation1(rotation_matrix, r"$\mathrm{45^{\circ}\ rotation}$") 

# Rotation transformation (15 degrees)
theta = np.pi/12 
rotation_matrix = [
    [np.cos(theta), -np.sin(theta)],
    [np.sin(theta), np.cos(theta)]
]
visualize_transformation1(rotation_matrix, r"$\mathrm{15^{\circ}\ rotation}$") 







def read_image(url):
    img = skimage.io.imread(url)
    return img


cat_image_url = "https://d17fnq9dkz9hgj.cloudfront.net/uploads/2012/11/140272627-grooming-needs-senior-cat-632x475.jpg"
cat_image = read_image(cat_image_url)


cat_image.shape


cat_image.dtype


cat_image[0][0] # First pixel


plt.imshow(cat_image)
plt.axis("off")
plt.show()





cat_image[:, :, 0].shape


cat_image_r, cat_image_g, cat_image_b = [cat_image[:, :, i] for i in range(3)]
f, (ax_r, ax_g, ax_b) = plt.subplots(1, 3, figsize = (10, 5))
ax_r.imshow(cat_image_r, cmap = "gray")
ax_r.set_title("Red channel")
ax_g.imshow(cat_image_g, cmap = "gray")
ax_g.set_title("Green channel")
ax_b.imshow(cat_image_b, cmap = "gray")
ax_b.set_title("Blue channel")
plt.setp([ax_r, ax_g, ax_b], xticks = [], yticks = []) # Remove axis ticks
plt.show()


cat_image_r, cat_image_g, cat_image_b = [cat_image[:, :, i] for i in range(3)]
f, (ax_r, ax_g, ax_b) = plt.subplots(1, 3, figsize = (10, 5))
ax_r.imshow(cat_image_r, cmap = "Reds_r")
ax_r.set_title("Red channel")
ax_g.imshow(cat_image_g, cmap = "Greens_r")
ax_g.set_title("Green channel")
ax_b.imshow(cat_image_b, cmap = "Blues_r")
ax_b.set_title("Blue channel")
plt.setp([ax_r, ax_g, ax_b], xticks = [], yticks = []) # Remove axis ticks
plt.show()





cat_image_r_normalized, cat_image_g_normalized, cat_image_b_normalized = [
    channel / 255 for channel in [cat_image_r, cat_image_g, cat_image_b]
] 
cat_image_gray = (cat_image_r_normalized + cat_image_g_normalized + cat_image_b_normalized) / 3.0  
plt.imshow(cat_image_gray, cmap = "gray")
plt.title("Average grayscale image")
plt.show()





cat_image_gray_corrected = (0.299 * cat_image_r_normalized + 
                            0.587 * cat_image_g_normalized + 
                            0.114 * cat_image_b_normalized)
plt.gca().imshow(cat_image_gray_corrected, cmap = plt.cm.gray)
plt.title("Gamma-corrected grayscale image")
plt.show()





plt.hist(cat_image_gray.ravel(), bins = 256, color = "black")
plt.title("Uncorrected image histogram")
plt.show()
plt.hist(cat_image_gray_corrected.ravel(), bins = 256, color = "red")
plt.title("Corrected image histogram")
plt.show()


# Represent the image as a single-dimensional vector
hist_vector = cat_image_gray.ravel()

# Normalize the image to have values in the range [0; 1]
hist_vector = hist_vector / (hist_vector.max() - hist_vector.min())

plt.hist(hist_vector, bins = 256, color = "black", alpha = 0.5, label = "Uncorrected")
plt.hist(cat_image_gray_corrected.ravel(), bins = 256, color = "red", alpha = 0.5, label = "Corrected")
plt.xlim(0, 1)
plt.title("Image histograms comparison")
plt.legend()
plt.show()





# Write your code here
cat_image_gray_artistic1 = (0.899 * cat_image_r_normalized + 
                            0.587 * cat_image_g_normalized + 
                            0.114 * cat_image_b_normalized)
plt.gca().imshow(cat_image_gray_artistic1, cmap = plt.cm.gray)
plt.title("Artistic image 1")
plt.show()


hist_vector = cat_image_gray.ravel()
hist_vector = hist_vector / (hist_vector.max() - hist_vector.min())

plt.hist(hist_vector, bins = 256, color = "black", alpha = 0.5, label = "Uncorrected")
plt.hist(cat_image_gray_artistic1.ravel(), bins = 256, color = "red", alpha = 0.5, label = "Corrected")
plt.xlim(0, 1)
plt.title("Image histograms comparison - Artistic image 1")
plt.legend()
plt.show()


cat_image_gray_artistic2 = (0.299 * cat_image_r_normalized + 
                            0.187 * cat_image_g_normalized + 
                            0.914 * cat_image_b_normalized)
plt.gca().imshow(cat_image_gray_artistic2, cmap = plt.cm.gray)
plt.title("Artistic image 2")
plt.show()


hist_vector = cat_image_gray.ravel()
hist_vector = hist_vector / (hist_vector.max() - hist_vector.min())

plt.hist(hist_vector, bins = 256, color = "black", alpha = 0.5, label = "Uncorrected")
plt.hist(cat_image_gray_artistic2.ravel(), bins = 256, color = "red", alpha = 0.5, label = "Corrected")
plt.xlim(0, 1)
plt.title("Image histograms comparison - Artistic image 2")
plt.legend()
plt.show()





# Write your code here





def visualize_transformed_vector(matrix, vec, title):
    """
    Shows the vector (starting at (0; 0)) before and after the transformation
    given by the specified matrix
    """
    # Write your code here
    pass


T = np.array([
    [2, -4],
    [-1, -1]
])
vec = np.array([
    [2], 
    [3]
])


T @ vec 


vec = ([
    [-4],
    [1]
])


T @ vec 





matrix = np.array([[2, -4, 0], [-1, -1, 0], [0, 0, 1]])
visualize_transformed_vector(matrix, [2, 3], "Transformation")





visualize_transformed_vector(matrix, [-4, 1], "Transformation")













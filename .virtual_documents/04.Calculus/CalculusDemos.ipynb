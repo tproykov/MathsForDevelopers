import numpy as np
import pandas as pd




















import numpy as np
import pandas as pd

def get_limit(f, a, verbose=True):
    epsilon = np.array([10 ** p for p in np.arange(0, -11, -1, dtype=float)])

    x_left = a - epsilon
    x_right = a + epsilon
    y_left = f(x_left)
    y_right = f(x_right)

    # Use values truly closest to a
    f_left_closest = y_left[-1]    # f(a - smallest epsilon)
    f_right_closest = y_right[-1]  # f(a + smallest epsilon)

    limit_estimate = (f_left_closest + f_right_closest) / 2

    if verbose:
        df = pd.DataFrame({
            'x_left →': x_left,
            'f(x_left)': y_left,
            'x_right →': x_right,
            'f(x_right)': y_right
        })
        print(df.to_string(index=False, float_format='%.10f'))
        print(f"\n Estimated limit of f(x) as x → {a} is approximately: {limit_estimate:.10f}\n" + "-"*70)

    return limit_estimate


# Examples
print("Example 1: f(x) = x^2, x → 3")
get_limit(lambda x: x**2, 3)

print("\nExample 2: f(x) = x^2 + 3x, x → 2")
get_limit(lambda x: x**2 + 3 * x, 2)

print("\nExample 3: f(x) = sin(x), x → 0")
get_limit(lambda x: np.sin(x), 0)


























def calculate_derivative(f, a, h = 1e-7):
    return (f(a + h) - f(a)) / h
# Calculate the derivative of 3x^2+5x-8 at x=3 (23.000000268780243)
print(calculate_derivative(lambda x: 3 * x**2 + 5 * x - 8, 3))




















































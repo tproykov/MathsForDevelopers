import numpy as np
import pandas as pd
import matplotlib.pyplot as plt








snowfall_data = pd.read_table("data/snowfall.csv", header = None)


type(snowfall_data)


snowfall_data.columns = ["snowfall"]


snowfall_data


snowfall_data.mean()


plt.hist(snowfall_data)
plt.xlabel("Snowfall [inches]")
plt.ylabel("Frequency")
plt.show()


plt.hist(snowfall_data, bins = 20)
plt.xlabel("Snowfall [inches]")
plt.ylabel("Frequency")
plt.show()













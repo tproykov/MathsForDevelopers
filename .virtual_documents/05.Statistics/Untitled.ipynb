import numpy as np
import pandas as pd
import matplotlib as plt








snowfall_data = pd.read_table("data/snowfall.csv", header = None)


type(snowfall_data)


snowfall_data.columns = ["snowfall"]


snowfall_data


snowfall_data.mean()


plt.hist(snowfall_data)










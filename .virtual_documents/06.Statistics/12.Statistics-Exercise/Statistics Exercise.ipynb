%matplotlib inline


import numpy as np
import matplotlib.pyplot as plt
import pandas as pd








digits = pd.read_table("digits.dat", header=None).T
digits.columns = ["pi", "e"]

plt.figure(figsize=(10, 6))

x_positions = digits.index
width = 0.35
plt.bar(x_positions - width/2, digits["pi"], width, label = 'π', alpha=0.7)
plt.bar(x_positions + width/2, digits["e"], width, label = 'e', alpha=0.7)

plt.xlabel('Digit')
plt.ylabel('Count')
plt.title('Distribution of Digits in π and e - first 10 000 digits after the decimal point')
plt.xticks(x_positions)
plt.legend()
plt.grid(axis='y', alpha=0.3)
plt.tight_layout()
plt.show()

print("Counts for π:")
print(digits["pi"])
print(f"Mean count for π: {digits['pi'].mean():.1f}")
print(f"Standard deviation for π: {digits['pi'].std():.1f}")

print("\nCounts for e:")
print(digits["e"]) 
print(f"Mean count for e: {digits['e'].mean():.1f}")
print(f"Standard deviation for e: {digits['e'].std():.1f}")

print(f"\nDifference in means: {abs(digits['pi'].mean() - digits['e'].mean()):.1f}")





# Write your code here





# Write your code here





# Write your code here





def get_customer_profit():
    n = np.random.random()
    if n <= 0.5:
        return 0.99
    elif n < 0.65:
        return 2.89
    elif n <= 0.85:
        return 2
    else:
        return 6.39


days = 1000
def run_simulation():
    profits = []
    for day in range(days):
        customers = np.floor(np.random.normal(500, 20))
        profit = sum([get_customer_profit() for c in np.arange(customers)])
        profits.append(profit)
    return profits


profits = run_simulation()
plt.hist(profits, bins = 50)
plt.xlabel("Profit for " + str(days) + " days [$]")
plt.ylabel("Count")
plt.show()





def get_customer_profit_many_items(items = 1):
    customer_sum = sum([get_customer_profit() for i in range(items)])
    return customer_sum

def get_total_customer_profit():
    n = np.random.random()
    if n <= 0.5:
        return get_customer_profit_many_items(1)
    elif n <= 0.8:
        return get_customer_profit_many_items(2)
    else:
        return get_customer_profit_many_items(3)


def run_simulation_many_items():
    days = 1000
    profits_many_items = []
    for day in range(days):
        customers = np.floor(np.random.normal(500, 20))
        profit = sum([get_total_customer_profit() for c in np.arange(customers)])
        profits_many_items.append(profit)
    return profits_many_items


profits_many_items = run_simulation_many_items()
plt.hist(profits_many_items, bins = 50)
plt.xlabel("Profit for " + str(days) + " days [$]")
plt.ylabel("Count")
plt.show()


plt.title("Comparison of profits: 1 vs 3 items")
plt.hist(profits, bins = 20)
plt.hist(profits_many_items, bins = 20)
plt.xlabel("Profit")
plt.ylabel("Count")
plt.show()







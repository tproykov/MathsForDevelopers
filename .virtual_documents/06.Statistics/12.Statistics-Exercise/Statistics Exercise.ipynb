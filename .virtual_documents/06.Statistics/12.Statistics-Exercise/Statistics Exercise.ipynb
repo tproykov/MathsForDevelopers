%matplotlib inline


import numpy as np
import matplotlib.pyplot as plt
import pandas as pd
from scipy import stats








digits = pd.read_table("digits.dat", header=None).T
digits.columns = ["pi", "e"]

plt.figure(figsize=(10, 6))

x_positions = digits.index
width = 0.35
plt.bar(x_positions - width/2, digits["pi"], width, label = 'π', alpha=0.7)
plt.bar(x_positions + width/2, digits["e"], width, label = 'e', alpha=0.7)

plt.xlabel('Digit')
plt.ylabel('Count')
plt.title('Distribution of Digits in π and e - first 10 000 digits after the decimal point')
plt.xticks(x_positions)
plt.legend()
plt.grid(axis='y', alpha=0.3)
plt.tight_layout()
plt.show()

print("Counts for π:")
print(digits["pi"])
print(f"Mean count for π: {digits['pi'].mean():.1f}")
print(f"Standard deviation for π: {digits['pi'].std():.1f}")

print("\nCounts for e:")
print(digits["e"]) 
print(f"Mean count for e: {digits['e'].mean():.1f}")
print(f"Standard deviation for e: {digits['e'].std():.1f}")

print(f"\nDifference in means: {abs(digits['pi'].mean() - digits['e'].mean()):.1f}")





silica = pd.read_table("silica.dat", header = None)
silica_values = silica.iloc[:, 0]

mean_val = silica_values.mean()
std_val = silica_values.std()  # Default is unbiased (ddof=1)
std_biased = silica_values.std(ddof=0)  # Biased version
skewness = stats.skew(silica_values)
kurt = stats.kurtosis(silica_values)

# --------------------------------------------
print("Silica Distribution Statistics:")
print("=" * 40)
print(f"Sample size: {len(silica_values)}")
print(f"Mean: {mean_val:.2f}%")
print(f"Median: {silica_values.median():.2f}%")
print(f"Range: {silica_values.min():.2f}% to {silica_values.max():.2f}%")
print(f"Standard deviation (unbiased): {std_val:.2f}%")
print(f"Standard deviation (biased): {std_biased:.2f}%")
print(f"Skewness: {skewness:.3f}")
print(f"Kurtosis: {kurt:.3f}")

# -------------------------------------------------
print("\nInterpretation of Statistics:")
print("=" * 40)

if abs(skewness) < 0.5:
    skew_interp = "approximately symmetric"
elif skewness > 0.5:
    skew_interp = "right-skewed - tail extends toward higher values"
else:
    skew_interp = "left-skewed - tail extends toward lower values"

if abs(kurt) < 0.5:
    kurt_interp = "similar to normal distribution"
elif kurt > 0.5:
    kurt_interp = "more peaked than normal with heavier tails"
else:
    kurt_interp = "flatter than normal with lighter tails"

print(f"Skewness ({skewness:.3f}): {skew_interp}")
print(f"Kurtosis ({kurt:.3f}): {kurt_interp}")
print("\n")

# Create visualization
fig, (ax1, ax2) = plt.subplots(1, 2, figsize=(10, 4))

ax1.hist(silica_values, bins=8, alpha=0.7, color='skyblue', edgecolor='black')
ax1.axvline(mean_val, color='red', linestyle='--', linewidth=2, label=f'Mean: {mean_val:.1f}%')
ax1.axvline(silica_values.median(), color='green', linestyle='--', linewidth=2, label=f'Median: {silica_values.median():.1f}%')
ax1.set_xlabel('Silica Percentage (%)')
ax1.set_ylabel('Frequency')
ax1.set_title('Distribution of Silica in Meteors')
ax1.legend()
ax1.grid(axis='y', alpha=0.3)

# Box plot
ax2.boxplot(silica_values, vert=True)
ax2.set_ylabel('Silica Percentage (%)')
ax2.set_title('Box Plot of Silica Distribution')
ax2.grid(axis='y', alpha=0.3)

plt.tight_layout()
plt.show()

# Check for potential subgroups/multimodality
print("\nDistribution analysis:")
print("=" * 40)

# Sort values for easier analysis
sorted_values = np.sort(silica_values)
print("Sorted values:")
for i, val in enumerate(sorted_values):
    print(f"{i+1:2d}: {val:5.1f}%")

# Look for potential gaps or clusters
gaps = []
for i in range(1, len(sorted_values)):
    gap = sorted_values[i] - sorted_values[i-1]
    if gap > std_val:  # Large gap (more than 1 std dev)
        gaps.append((i, gap, sorted_values[i-1], sorted_values[i]))

if gaps:
    print(f"\nLarge gaps (>{std_val:.1f}%) found:")
    for i, gap, val1, val2 in gaps:
        print(f"  Gap of {gap:.1f}% between {val1:.1f}% and {val2:.1f}%")

# Quartile analysis
q1 = silica_values.quantile(0.25)
q2 = silica_values.quantile(0.5)  # median
q3 = silica_values.quantile(0.75)
iqr = q3 - q1

print(f"\nQuartile analysis:")
print(f"Q1 (25th percentile): {q1:.1f}%")
print(f"Q2 (50th percentile/median): {q2:.1f}%")
print(f"Q3 (75th percentile): {q3:.1f}%")
print(f"Interquartile Range (IQR): {iqr:.1f}%")

# Attempt to identify subgroups
print(f"\nSubroup analysis:")
print("=" * 40)

# Simple approach: split at natural breaks
if len(gaps) > 0:
    print("Potential subgroups based on large gaps:")
    # Split at the largest gap
    largest_gap = max(gaps, key=lambda x: x[1])
    split_point = largest_gap[2]  # Value before the gap
    
    group1 = silica_values[silica_values <= split_point]
    group2 = silica_values[silica_values > split_point]
    
    print(f"Group 1 (≤{split_point:.1f}%): {len(group1)} meteors")
    print(f"  Mean: {group1.mean():.1f}%, Std: {group1.std():.1f}%")
    print(f"  Range: {group1.min():.1f}% to {group1.max():.1f}%")
    
    print(f"Group 2 (>{split_point:.1f}%): {len(group2)} meteors")
    print(f"  Mean: {group2.mean():.1f}%, Std: {group2.std():.1f}%")
    print(f"  Range: {group2.min():.1f}% to {group2.max():.1f}%")
else:
    print("No obvious natural splits detected in the data.")






budget = pd.read_table("budget.dat", header=0, index_col=0)

# Print original budget data
print("Original Budget Data (billions of dollars):")
print(budget)
print()

fig, (ax1, ax2) = plt.subplots(1, 2, figsize=(10, 6))

ax1.barh(budget.index, budget['1978'], color='skyblue', alpha=0.7)
ax1.set_xlabel('Billions of dollars')
ax1.set_title('US Budget 1978')
ax1.grid(axis='x', alpha=0.3)

ax2.barh(budget.index, budget['1979'], color = 'lightcoral', alpha = 0.7)
ax2.set_xlabel('Billions of dollars')
ax2.set_title('US Budget 1979')
ax2.grid(axis='x', alpha=0.3)

plt.tight_layout()
plt.show()

budget['difference'] = budget['1979'] - budget['1978']
print("Budget with Difference (Δb = b1979 - b1978):")
print(budget)
print()

plt.figure(figsize = (10, 6))
colors = ['green' if x >= 0 else 'red' for x in budget['difference']]
plt.barh(budget.index, budget['difference'], color=colors, alpha=0.7)
plt.xlabel('Budget Difference (billions of dollars)')
plt.title('Budget Change from 1978 to 1979 (Δb = b1979 - b1978)')
plt.axvline(x=0, color='black', linestyle='-', alpha=0.3)
plt.grid(axis='x', alpha=0.3)
plt.tight_layout()
plt.show()

budget['1978_pct'] = (budget['1978'] / budget['1978'].sum()) * 100
budget['1979_pct'] = (budget['1979'] / budget['1979'].sum()) * 100

print("Budget with Percentages:")
print(budget)
print()

fig, (ax1, ax2) = plt.subplots(1, 2, figsize = (10, 5))

ax1.barh(budget.index, budget['1978_pct'], color='skyblue', alpha=0.7)
ax1.set_xlabel('Percentage of Total Budget (%)')
ax1.set_title('US Budget 1978 (Percentages)')
ax1.grid(axis='x', alpha=0.3)

ax2.barh(budget.index, budget['1979_pct'], color='lightcoral', alpha=0.7)
ax2.set_xlabel('Percentage of Total Budget (%)')
ax2.set_title('US Budget 1979 (Percentages)')
ax2.grid(axis='x', alpha=0.3)

plt.tight_layout()
plt.show()

budget['pct_difference'] = budget['1979_pct'] - budget['1978_pct']

print("Complete Budget Analysis:")
print(budget.round(2))
print()

plt.figure(figsize=(10, 6))
colors = ['green' if x >= 0 else 'red' for x in budget['pct_difference']]
plt.barh(budget.index, budget['pct_difference'], color=colors, alpha=0.7)
plt.xlabel('Percentage Point Difference (%)')
plt.title('Budget Percentage Change from 1978 to 1979')
plt.axvline(x=0, color='black', linestyle='-', alpha=0.3)
plt.grid(axis='x', alpha=0.3)
plt.tight_layout()
plt.show()

# 5. Summary
print("BUDGET SUMMARY:")
print("=" * 50)
print(f"Total budget 1978: ${budget['1978'].sum():.1f} billion")
print(f"Total budget 1979: ${budget['1979'].sum():.1f} billion")
print(f"Overall increase: ${budget['difference'].sum():.1f} billion ({((budget['1979'].sum()/budget['1978'].sum()-1)*100):.1f}%)")
print()






# Write your code here





def get_customer_profit():
    n = np.random.random()
    if n <= 0.5:
        return 0.99
    elif n < 0.65:
        return 2.89
    elif n <= 0.85:
        return 2
    else:
        return 6.39


days = 1000
def run_simulation():
    profits = []
    for day in range(days):
        customers = np.floor(np.random.normal(500, 20))
        profit = sum([get_customer_profit() for c in np.arange(customers)])
        profits.append(profit)
    return profits


profits = run_simulation()
plt.hist(profits, bins = 50)
plt.xlabel("Profit for " + str(days) + " days [$]")
plt.ylabel("Count")
plt.show()





def get_customer_profit_many_items(items = 1):
    customer_sum = sum([get_customer_profit() for i in range(items)])
    return customer_sum

def get_total_customer_profit():
    n = np.random.random()
    if n <= 0.5:
        return get_customer_profit_many_items(1)
    elif n <= 0.8:
        return get_customer_profit_many_items(2)
    else:
        return get_customer_profit_many_items(3)


def run_simulation_many_items():
    days = 1000
    profits_many_items = []
    for day in range(days):
        customers = np.floor(np.random.normal(500, 20))
        profit = sum([get_total_customer_profit() for c in np.arange(customers)])
        profits_many_items.append(profit)
    return profits_many_items


profits_many_items = run_simulation_many_items()
plt.hist(profits_many_items, bins = 50)
plt.xlabel("Profit for " + str(days) + " days [$]")
plt.ylabel("Count")
plt.show()


plt.title("Comparison of profits: 1 vs 3 items")
plt.hist(profits, bins = 20)
plt.hist(profits_many_items, bins = 20)
plt.xlabel("Profit")
plt.ylabel("Count")
plt.show()







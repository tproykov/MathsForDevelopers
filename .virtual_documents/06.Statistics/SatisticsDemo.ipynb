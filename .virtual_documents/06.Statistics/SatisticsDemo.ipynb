import numpy as np
import pandas as pd
import matplotlib.pyplot as plt








snowfall_data = pd.read_table("data/snowfall.csv", header = None)


type(snowfall_data)


snowfall_data.columns = ["snowfall"]


snowfall_data


plt.hist(snowfall_data, bins = 10, alpha = 0.7)

plt.axvline(snowfall_data.snowfall.mean(), color = "tab:red")
plt.axvline(snowfall_data.snowfall.median(), color = "tab:orange")
plt.axvline(snowfall_data.snowfall.mean() - snowfall_data.snowfall.std(), color = "tab:green")
plt.axvline(snowfall_data.snowfall.mean() + snowfall_data.snowfall.std(), color = "tab:green")

plt.xlabel("Snowfall [inches]")
plt.ylabel("Frequency")
plt.show()


plt.hist(snowfall_data, bins = 20, alpha = 0.7)
plt.axvline(snowfall_data.snowfall.mean(), color = "tab:red")
plt.axvline(snowfall_data.snowfall.median(), color = "tab:orange")
plt.axvline(snowfall_data.snowfall.mean() - snowfall_data.snowfall.std(), color = "tab:green")
plt.axvline(snowfall_data.snowfall.mean() + snowfall_data.snowfall.std(), color = "tab:green")
plt.xlabel("Snowfall [inches]")
plt.ylabel("Frequency")
plt.show()


plt.hist(snowfall_data, bins = 5, alpha = 0.7)
plt.axvline(snowfall_data.snowfall.mean(), color = "tab:red")
plt.axvline(snowfall_data.snowfall.median(), color = "tab:orange")
plt.axvline(snowfall_data.snowfall.mean() - snowfall_data.snowfall.std(), color = "tab:green")
plt.axvline(snowfall_data.snowfall.mean() + snowfall_data.snowfall.std(), color = "tab:green")
plt.xlabel("Snowfall [inches]")
plt.ylabel("Frequency")
plt.show()


plt.hist(snowfall_data, bins = 15, alpha = 0.7)
plt.axvline(snowfall_data.snowfall.mean(), color = "tab:red")
plt.axvline(snowfall_data.snowfall.median(), color = "tab:orange")
plt.axvline(snowfall_data.snowfall.mean() - snowfall_data.snowfall.std(), color = "tab:green")
plt.axvline(snowfall_data.snowfall.mean() + snowfall_data.snowfall.std(), color = "tab:green")
plt.xlabel("Snowfall [inches]")
plt.ylabel("Frequency")
plt.show()


snowfall_data.mean()


snowfall_data.snowfall.mode()


print(mean, std)


mean - std


len(snowfall_data.snowfall[
    (snowfall_data.snowfall >= mean - std) &
    (snowfall_data.snowfall <= mean + std)
]) / len(snowfall_data)





snowfall_data.describe().T


plt.boxplot(snowfall_data.snowfall)
plt.show()


pd.qcut(snowfall_data.snowfall, 4).value_counts().sort_index()


pd.qcut(snowfall_data.snowfall, 7).value_counts().sort_index()


snowfall_data.skew()


snowfall_data.kurt()




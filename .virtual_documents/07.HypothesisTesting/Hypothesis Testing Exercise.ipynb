%matplotlib inline


import numpy as np
import matplotlib.pyplot as plt
import pandas as pd
import statsmodels
import statsmodels.api as sm
from statsmodels.formula.api import ols
from statsmodels.stats.anova import anova_lm
from statsmodels.formula.api import ols
from skimage.io import imread
import scipy.ndimage
from scipy import stats
from scipy.stats import ttest_ind, levene, shapiro
from scipy.stats import ttest_rel
from scipy.stats import f_oneway
import seaborn as sns
import warnings
warnings.filterwarnings('ignore')








column_names = ['Social_Class', 'Age_at_Death', 'Sequential_Number']
data = pd.read_csv("agedeath.dat", sep='\s+', names=column_names, header=None)
data = data[['Social_Class', 'Age_at_Death']]

print("Dataset overview:")
print("=" * 19)
print(f"Dataset (processed) shape: {data.shape}")
print("Data types:")
print(data.dtypes)
print("\nUnique social classes:")
print(data['Social_Class'].unique())
print("\nValue counts for social classes:")
print(data['Social_Class'].value_counts())

print("\nDescriptive statistics:")
print("=" * 75)
descriptive_stats = data.groupby('Social_Class')['Age_at_Death'].describe()
print(descriptive_stats.round(2))

class_counts = data['Social_Class'].value_counts()
top_classes = class_counts.head(2).index.tolist()

group1 = data[data['Social_Class'] == top_classes[0]]['Age_at_Death']
group2 = data[data['Social_Class'] == top_classes[1]]['Age_at_Death']
group1_name = f"Class {top_classes[0]}"
group2_name = f"Class {top_classes[1]}"

print(f"\nComparing the two largest groups:")
print(f"Group 1 ({group1_name}): {len(group1)} observations")
print(f"Group 2 ({group2_name}): {len(group2)} observations")
print(f"Group 1 mean: {group1.mean():.2f}")
print(f"Group 2 mean: {group2.mean():.2f}")
print()

plt.figure(figsize = (12, 10))

# Histogram for Gentry
plt.subplot(3, 3, 1)
gent_data = data[data['Social_Class'] == 'gent']['Age_at_Death']
plt.hist(gent_data, bins = 30, color='skyblue', alpha=0.7, edgecolor='black')
plt.title(f'Gentry - Age at death distribution\n(n={len(gent_data)})')
plt.xlabel('Age at death')
plt.ylabel('Frequency')
plt.grid(True, alpha = 0.3)

# Histogram for Aristocracy
plt.subplot(3, 3, 2)
aris_data = data[data['Social_Class'] == 'aris']['Age_at_Death']
plt.hist(aris_data, bins = 30, color='lightcoral', alpha = 0.7, edgecolor='black')
plt.title(f'Aristocracy - Age at death distribution\n(n={len(aris_data)})')
plt.xlabel('Age at death')
plt.ylabel('Frequency')
plt.grid(True, alpha=0.3)

# Combined histograms
plt.subplot(3, 3, 3)
plt.hist(group1, bins=30, alpha=0.7, label=group1_name, color='blue')
plt.hist(group2, bins=30, alpha=0.7, label=group2_name, color='red')
plt.xlabel('Age at Death')
plt.ylabel('Frequency')
plt.title('Histogram of Age at death by Social class')
plt.legend()
plt.grid(True, alpha=0.3)

# Box plots
plt.subplot(3, 3, 4)
data.boxplot(column='Age_at_Death', by='Social_Class', ax=plt.gca())
plt.title('Box plot of Age at death by Social class')
plt.suptitle('')  # Remove default title
plt.xlabel('Social class')
plt.ylabel('Age at death')

# Q-Q plots for normality check
plt.subplot(3, 3, 5)
stats.probplot(group1, dist="norm", plot=plt)
plt.title(f'Q-Q Plot - {group1_name}')
plt.grid(True, alpha=0.3)

plt.subplot(3, 3, 6)
stats.probplot(group2, dist="norm", plot=plt)
plt.title(f'Q-Q Plot - {group2_name}')
plt.grid(True, alpha=0.3)

plt.subplot(3, 3, 7)
from scipy.stats import gaussian_kde
if len(group1) > 1:
    kde1 = gaussian_kde(group1)
    x1_range = np.linspace(group1.min(), group1.max(), 100)
    plt.plot(x1_range, kde1(x1_range), alpha=0.7, label=group1_name, color='blue', linewidth=2)

if len(group2) > 1:
    kde2 = gaussian_kde(group2)
    x2_range = np.linspace(group2.min(), group2.max(), 100)
    plt.plot(x2_range, kde2(x2_range), alpha=0.7, label=group2_name, color='red', linewidth=2)

plt.xlabel('Age at death')
plt.ylabel('Density')
plt.title('Density plot of Age at death')
plt.legend()
plt.grid(True, alpha=0.3)

plt.tight_layout()
plt.show()

print("\nStatistical Tests and Assumptions:")
print("=" * 40)

print("1. Normality tests (Shapiro-Wilk):")
stat1, p1 = shapiro(group1)
stat2, p2 = shapiro(group2)
print(f"   Group 1: W = {stat1:.4f}, p-value = {p1:.4f}")
print(f"   Group 2: W = {stat2:.4f}, p-value = {p2:.4f}")

alpha = 0.05
if p1 > alpha and p2 > alpha:
    print("   Both groups appear to be normally distributed (p > 0.05)")
    normality_ok = True
else:
    print("   At least one group may not be normally distributed (p ≤ 0.05)")
    normality_ok = False

print("\n2. Equal variances test (Levene's test):")
stat_lev, p_lev = levene(group1, group2)
print(f"   Levene's test: W = {stat_lev:.4f}, p-value = {p_lev:.4f}")

if p_lev > alpha:
    print("   Equal variances assumption is satisfied (p > 0.05)")
    equal_var = True
else:
    print("   Equal variances assumption may be violated (p ≤ 0.05)")
    equal_var = False

# Determine appropriate t-test
print("\n3. T-Test selection:")
print("   Independent t-test because:")
print("   - We have two separate groups: different social classes")
print("   - The observations are NOT paired or matched")
print("   - Each individual appears ONLY ONCE in the dataset")

print("\nIndependent Samples T-Test Results:")
print("=" * 40)

if equal_var:
    t_stat, p_val = ttest_ind(group1, group2, equal_var = True)
    test_type = "Student's t-test (equal variances)"
else:
    t_stat, p_val = ttest_ind(group1, group2, equal_var = False)
    test_type = "Welch's t-test (unequal variances)"

print(f"Test used: {test_type}")
print(f"t-statistic: {t_stat:.4f}")
print(f"p-value: {p_val:.4f}")
print(f"Alpha level: {alpha}")

if equal_var:
    df = len(group1) + len(group2) - 2
else:
    # Welch's formula for unequal variances
    s1_sq = np.var(group1, ddof=1)
    s2_sq = np.var(group2, ddof=1)
    n1, n2 = len(group1), len(group2)
    df = (s1_sq/n1 + s2_sq/n2)**2 / ((s1_sq/n1)**2/(n1-1) + (s2_sq/n2)**2/(n2-1))

print(f"Degrees of freedom: {df:.1f}")

# Effect size (Cohen's d)
pooled_std = np.sqrt(((len(group1)-1)*np.var(group1, ddof=1) + (len(group2)-1)*np.var(group2, ddof=1)) / (len(group1)+len(group2)-2))
cohens_d = (np.mean(group1) - np.mean(group2)) / pooled_std
print(f"Cohen's d (effect size): {cohens_d:.4f}")

# Interpret effect size
if abs(cohens_d) < 0.2:
    effect_size = "small"
elif abs(cohens_d) < 0.5:
    effect_size = "small to medium"
elif abs(cohens_d) < 0.8:
    effect_size = "medium to large"
else:
    effect_size = "large"

print(f"Effect size interpretation: {effect_size}")

# Conclusion
print("\nConclusion:")
print("=" * 50)
if p_val < alpha:
    print(f"REJECT the null hypothesis (p = {p_val:.4f} < α = {alpha})")
    print("There IS a statistically significant difference between the mean ages at death")
    print(f"of the two social classes at the {alpha*100}% significance level.")
else:
    print(f"FAIL TO REJECT the null hypothesis (p = {p_val:.4f} ≥ α = {alpha})")
    print("There is NO statistically significant difference between the mean ages at death")
    print(f"of the two social classes at the {alpha*100}% significance level.")

print(f"\nMean difference: {np.mean(group1) - np.mean(group2):.2f} years")
print(f"95% Confidence interval for the difference:")

# Calculate 95% CI for the difference
from scipy.stats import t
se_diff = np.sqrt(np.var(group1, ddof=1)/len(group1) + np.var(group2, ddof=1)/len(group2))
t_critical = t.ppf(0.975, df)
diff = np.mean(group1) - np.mean(group2)
ci_lower = diff - t_critical * se_diff
ci_upper = diff + t_critical * se_diff
print(f"[{ci_lower:.2f}, {ci_upper:.2f}]")





data = pd.read_csv("horse_beginners.dat", sep='\s+')

print("Horse Riding Time Analysis")
print("=" * 30)
print(data)

# Calculate differences
data['Difference'] = data['Imaginary'] - data['Actual']

print(f"\nDescriptive Statistics:")
print(f"Mean Imaginary: {data['Imaginary'].mean():.2f}")
print(f"Mean Actual: {data['Actual'].mean():.2f}")
print(f"Mean difference (Imaginary - Actual): {data['Difference'].mean():.2f}")
print()

plt.figure(figsize = (10, 6))

plt.subplot(1, 2, 1)
plt.boxplot([data['Imaginary'], data['Actual']], labels=['Imaginary', 'Actual'])
plt.title('Boxplot: Imaginary vs Actual times')
plt.ylabel('Time')

plt.subplot(1, 2, 2)
plt.plot(data['Imaginary'], data['Actual'], 'o', markersize=8)
min_val = min(data['Imaginary'].min(), data['Actual'].min())
max_val = max(data['Imaginary'].max(), data['Actual'].max())
plt.plot([min_val, max_val], [min_val, max_val], 'r--', label='Perfect prediction')
plt.xlabel('Imaginary time')
plt.ylabel('Actual time')
plt.title('Imaginary vs Actual times')
plt.legend()

plt.tight_layout()
plt.show()

shapiro_stat, shapiro_p = shapiro(data['Difference'])
print(f"\nNormality test (Shapiro-Wilk): p = {shapiro_p:.4f}")

print(f"Choose paired t-test: the subjects are the same.")
t_stat, p_val_two = ttest_rel(data['Imaginary'], data['Actual'])

print(f"\nPaired t-test results:")
print(f"t-statistic: {t_stat:.4f}")
print(f"p-value (two-tailed): {p_val_two:.6f}")

alpha = 0.05
print(f"\nAre people good at predicting their ride times? (α = {alpha})")
if p_val_two < alpha:
    print("REJECT H0: There IS a significant difference")
    print("People are NOT good at predicting their ride times")
else:
    print("FAIL TO REJECT H0: No significant difference")
    print("We cannot say that people are not good in predicting their ride times")

print(f"\nIs imagined time significantly longer than actual?")
if data['Difference'].mean() > 0:
    p_val_one = p_val_two / 2
    print(f"p-value (one-tailed): {p_val_one:.6f}")
    if p_val_one < alpha:
        print("REJECT H0: Imagined time IS significantly longer than actual")
    else:
        print("FAIL TO REJECT H0: Imagined time is NOT significantly longer")
else:
    print("Mean difference is negative - people UNDERestimate, not overestimate their riding times.")
    print("Imagined time is actually significantly SHORTER than actual time.")
print()





data = pd.read_csv("newcar.dat", sep='\s+', skiprows=25)
data.columns = ['Rate', 'City']

print("\nNew Car Interest Rates Dataset")
print("=" * 30)
print(f"\nDataset shape: {data.shape}")
print(f"Cities: {sorted(data['City'].unique())}")

print("\nDescriptive statistics by city:")
print(data.groupby('City')['Rate'].describe().round(3))
print()

plt.figure(figsize=(10, 5))

plt.subplot(1, 2, 1)
plt.boxplot([data[data['City'] == city]['Rate'] for city in sorted(data['City'].unique())],
            labels=[f'City {city}' for city in sorted(data['City'].unique())])
plt.title('Interest rates by city with outliers present')
plt.ylabel('Rate (%)')

plt.subplot(1, 2, 2)
city_means = data.groupby('City')['Rate'].mean()
plt.bar(range(1, 7), city_means.values)
plt.xlabel('City')
plt.ylabel('Mean rate (%)')
plt.title('Mean Interest rates by city')
plt.xticks(range(1, 7), [f'City {i}' for i in range(1, 7)])

plt.tight_layout()
plt.show()

print("\nAnova is robust to a small number of outliers.")
print("\nOne-way ANOVA results:")
print("=" * 22)

groups = {k: v.tolist() for k, v in data.groupby("City")["Rate"]}

f_stat, p_val = f_oneway(*groups.values())

print(f"F-statistic: {f_stat:.4f}")
print(f"p-value: {p_val:.6f}")

alpha = 0.05
print(f"Alpha: {alpha}")

if p_val < alpha:
    print(f"\nREJECT H0 (p < {alpha})")
    print("Interest rates DO differ significantly between cities.")
else:
    print(f"\nFAIL TO REJECT H0 (p >= {alpha})")
    print("Interest rates do NOT differ significantly between cities.")
print()





data = pd.read_csv("ratfeed.dat", sep='\s+', skiprows=25)
data.columns = ['Weight_Gain', 'Diet_Amount', 'Diet_Type']

print("\nRat Feed Dataset")
print("=" * 20)
print(f"\nDataset shape: {data.shape}")
print(f"Diet Amounts: {sorted(data['Diet_Amount'].unique())} (1=high, 2=low)")
print(f"Diet Types: {sorted(data['Diet_Type'].unique())} (1=beef, 2=pork, 3=cereal)")

print(f"\nObservations by diet Amount:")
print(data['Diet_Amount'].value_counts().sort_index())
print(f"\nObservations by diet Type:")
print(data['Diet_Type'].value_counts().sort_index())

print(f"\nDescriptive Statistics by Diet Amount:")
desc_amount = data.groupby('Diet_Amount')['Weight_Gain'].describe()
# Keep count as integer, round others
desc_amount['count'] = desc_amount['count'].astype(int)
print(desc_amount.round(2))

print(f"\nDescriptive Statistics by Diet Type:")
desc_type = data.groupby('Diet_Type')['Weight_Gain'].describe()
# Keep count as integer, round others  
desc_type['count'] = desc_type['count'].astype(int)
print(desc_type.round(2))
print()

fig, axes = plt.subplots(2, 2, figsize=(10, 8))

axes[0, 0].boxplot([data[data['Diet_Amount'] == amount]['Weight_Gain'] for amount in sorted(data['Diet_Amount'].unique())],
                   labels=['High (1)', 'Low (2)'])
axes[0, 0].set_title('Weight gain by diet Amount')
axes[0, 0].set_ylabel('Weight gain (grams)')

amount_means = data.groupby('Diet_Amount')['Weight_Gain'].mean()
axes[0, 1].bar(['High (1)', 'Low (2)'], amount_means.values)
axes[0, 1].set_title('Mean Weight gain by diet Amount')
axes[0, 1].set_ylabel('Mean Weight gain (grams)')

axes[1, 0].boxplot([data[data['Diet_Type'] == diet]['Weight_Gain'] for diet in sorted(data['Diet_Type'].unique())],
                   labels=['Beef (1)', 'Pork (2)', 'Cereal (3)'])
axes[1, 0].set_title('Weight gain by diet Type')
axes[1, 0].set_ylabel('Weight gain (grams)')

type_means = data.groupby('Diet_Type')['Weight_Gain'].mean()
axes[1, 1].bar(['Beef (1)', 'Pork (2)', 'Cereal (3)'], type_means.values)
axes[1, 1].set_title('Mean Weight gain by diet Type')
axes[1, 1].set_ylabel('Mean Weight gain (grams)')

plt.tight_layout()
plt.show()

print("\nONE-WAY ANOVA #1: DIET AMOUNT")
print("="*30)
print("Grouping by Diet Amount, ignoring Diet Type")

amount_groups = {k: v.tolist() for k, v in data.groupby("Diet_Amount")["Weight_Gain"]}

print(f"\nGroups:")
for amount, weights in amount_groups.items():
    amount_label = "High" if amount == 1 else "Low"
    print(f"Amount {amount} ({amount_label}): n={len(weights)}, mean={sum(weights)/len(weights):.2f}")

f_stat_amount, p_val_amount = f_oneway(*amount_groups.values())

print(f"\nANOVA Results for Diet Amount:")
print(f"F-statistic: {f_stat_amount:.4f}")
print(f"p-value: {p_val_amount:.6f}")

alpha = 0.05
if p_val_amount < alpha:
    print(f"REJECT H0 (p < {alpha})")
    print("Diet amounts DO differ significantly in weight gain")
else:
    print(f"FAIL TO REJECT H0 (p >= {alpha})")
    print("Diet amounts do NOT differ significantly in weight gain")

print()
print("ONE-WAY ANOVA #2: DIET TYPE")
print("="*30)
print("Grouping by Diet Type, ignoring Diet Amount")

type_groups = {k: v.tolist() for k, v in data.groupby("Diet_Type")["Weight_Gain"]}

print(f"\nGroups:")
for diet_type, weights in type_groups.items():
    if diet_type == 1:
        type_label = "Beef"
    elif diet_type == 2:
        type_label = "Pork"
    else:
        type_label = "Cereal"
    print(f"Type {diet_type} ({type_label}): n={len(weights)}, mean={sum(weights)/len(weights):.2f}")

f_stat_type, p_val_type = f_oneway(*type_groups.values())

print(f"\nANOVA Results for Diet Type:")
print(f"F-statistic: {f_stat_type:.4f}")
print(f"p-value: {p_val_type:.6f}")

if p_val_type < alpha:
    print(f"REJECT H0 (p < {alpha})")
    print("Diet types DO differ significantly in weight gain.")
else:
    print(f"FAIL TO REJECT H0 (p >= {alpha})")
    print("Diet types do NOT differ significantly in weight gain.")
print()





data = pd.read_csv("ratfeed.dat", sep='\s+', skiprows=25)
data.columns = ['Weight', 'Amount', 'Diet']

print("\nRat Feed Dataset - Two-Way ANOVA with Interaction")
print("=" * 45)
print(f"\nDataset shape: {data.shape}")

print(f"\nCombinations of Amount and Diet:")
combinations = data.groupby(['Amount', 'Diet']).size().reset_index(name='Count')
combinations['Amount_Label'] = combinations['Amount'].map({1: 'High', 2: 'Low'})
combinations['Diet_Label'] = combinations['Diet'].map({1: 'Beef', 2: 'Pork', 3: 'Cereal'})
print(combinations[['Amount_Label', 'Diet_Label', 'Count']])

print(f"\nMean weight gain by combination:")
means_table = data.groupby(['Amount', 'Diet'])['Weight'].mean().unstack()
means_table.index = ['High (1)', 'Low (2)']
means_table.columns = ['Beef (1)', 'Pork (2)', 'Cereal (3)']
print(means_table.round(2))
print()

plt.figure(figsize=(10, 5))

plt.subplot(1, 2, 1)
for diet in [1, 2, 3]:
    diet_data = data[data['Diet'] == diet]
    means = diet_data.groupby('Amount')['Weight'].mean()
    diet_label = {1: 'Beef', 2: 'Pork', 3: 'Cereal'}[diet]
    plt.plot([1, 2], means.values, 'o-', label=diet_label, linewidth=2, markersize=8)

plt.xlabel('Diet Amount')
plt.ylabel('Mean Weight gain')
plt.title('Interaction plot: Amount × Diet')
plt.xticks([1, 2], ['High', 'Low'])
plt.legend()
plt.grid(True, alpha=0.3)

plt.subplot(1, 2, 2)
combo_means = data.groupby(['Amount', 'Diet'])['Weight'].mean()
x_labels = []
x_pos = range(len(combo_means))

for (amount, diet), mean in combo_means.items():
    amount_label = 'High' if amount == 1 else 'Low'
    diet_label = {1: 'Beef', 2: 'Pork', 3: 'Cereal'}[diet]
    x_labels.append(f'{amount_label}\n{diet_label}')

plt.bar(x_pos, combo_means.values)
plt.xlabel('Amount-Diet combination')
plt.ylabel('Mean Weight gain')
plt.title('Mean Weight gain by combination')
plt.xticks(x_pos, x_labels, rotation=45)

plt.tight_layout()
plt.show()

print("\nTwo-way ANOVA with interaction")
print("="*45)


formula = "Weight ~ C(Amount) + C(Diet) + C(Amount):C(Diet)"
print(f"Formula: {formula}")
print()
print("Where:")
print("  Weight ~ dependent variable (weight gain)")
print("  C(Amount) ~ main effect of Amount (categorical)")
print("  C(Diet) ~ main effect of Diet (categorical)")
print("  C(Amount):C(Diet) ~ interaction effect")


model = ols(formula, data).fit()
table = anova_lm(model, typ=2)

print(f"\nANOVA table (Type II):")
print("="*30)
print(table.round(6))

# Interpret results
alpha = 0.05
print(f"\nInterpretation (α = {alpha}):")
print("="*27)

print(f"1. Main Effect - Amount:")
p_amount = table.loc['C(Amount)', 'PR(>F)']
if p_amount < alpha:
    print(f"SIGNIFICANT (p = {p_amount:.6f} < {alpha})")
    print("Diet amount DOES affect weight gain")
else:
    print(f"NOT SIGNIFICANT (p = {p_amount:.6f} >= {alpha})")
    print("Diet amount does NOT affect weight gain")

print(f"\n2. Main Effect - Diet:")
p_diet = table.loc['C(Diet)', 'PR(>F)']
if p_diet < alpha:
    print(f"SIGNIFICANT (p = {p_diet:.6f} < {alpha})")
    print("Diet type DOES affect weight gain")
else:
    print(f"NOT SIGNIFICANT (p = {p_diet:.6f} >= {alpha})")
    print("Diet type does NOT affect weight gain")

print(f"\n3. Interaction Effect - Amount × Diet:")
print()
p_interaction = table.loc['C(Amount):C(Diet)', 'PR(>F)']
if p_interaction < alpha:
    print(f"SIGNIFICANT (p = {p_interaction:.6f} < {alpha})")
    print("There IS a significant interaction between amount and diet")
    print("The effect of amount depends on diet type (or vice versa)")
else:
    print(f"NOT SIGNIFICANT (p = {p_interaction:.6f} >= {alpha})")
    print("There is NO significant interaction between amount and diet")
    print("Amount and diet effects are independent")






# Write your code here





# Write your code here





# Write your code here








original_image = imread("https://upload.wikimedia.org/wikipedia/commons/d/d9/Norwegian_Forest_Cat_Portrait.JPG")

def display(image):
    # If there is only one channel to show, display it as grayscale
    cm = None
    if(len(image.shape)) == 2:
        cm = "gray"
    plt.figure(figsize = (5, 10))
    plt.imshow(image, cmap = cm)
    plt.xticks([])
    plt.yticks([])
    plt.show()

display(original_image)
r = original_image[:, :, 0]
display(r)





# Write your code here





# Write your code here







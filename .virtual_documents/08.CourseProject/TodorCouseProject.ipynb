import numpy as np
from sklearn.feature_extraction.text import TfidfVectorizer
import pandas as pd
from sklearn.metrics.pairwise import cosine_similarity
import seaborn as sns
import matplotlib.pyplot as plt



































corpus = [
    "Climate change is real",
    "The earth is flat",
    "Global warming is a serious issue",
    "The moon landing was faked"
]

vectorizer = TfidfVectorizer()
X = vectorizer.fit_transform(corpus)

df = pd.DataFrame(X.toarray(), columns=vectorizer.get_feature_names_out())
df

















cosine_matrix = cosine_similarity(X)
cosine_matrix








plt.figure(figsize=(8, 6))
sns.heatmap(cosine_matrix, annot=True, xticklabels=doc_labels, yticklabels=doc_labels, cmap="Blues")
plt.title("Cosine Similarity Between Claims")
plt.show()











# Example function (see code cell in section 4.1)
results, avg_true, avg_false, prediction = check_claim_similarity(
    "COVID vaccines cause infertility",
    vectorizer,
    tfidf_matrix,
    labels
)

print("Predicted label:", prediction)
results




























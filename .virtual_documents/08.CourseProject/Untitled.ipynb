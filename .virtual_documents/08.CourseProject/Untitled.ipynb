





# Uncomment if needed:
# !pip install pandas scikit-learn matplotlib



import pandas as pd
import numpy as np
from sklearn.feature_extraction.text import TfidfVectorizer
from sklearn.model_selection import train_test_split
from sklearn.linear_model import LogisticRegression
from sklearn.metrics import accuracy_score, confusion_matrix, classification_report
import matplotlib.pyplot as plt
%matplotlib inline






# Adjust the filename/path if necessary
DATA_PATH = "train.csv"

# Load the dataset
df = pd.read_csv(DATA_PATH)

# Quick overview
print(f"Total rows: {df.shape[0]}, columns: {df.shape[1]}")
print(df.head(3))






df['title'] = df['title'].fillna('')
df['text']  = df['text'].fillna('')
df['content'] = df['title'] + " " + df['text']

# Confirm
print(df[['content','label']].sample(3))






vectorizer = TfidfVectorizer(
    stop_words='english',
    max_features=5000  # keep the 5,000 most frequent terms
)

# Fit on entire corpus and transform
X = vectorizer.fit_transform(df['content'])
y = df['label'].values

print(f"TF-IDF matrix shape: {X.shape}")
# e.g., (number_of_articles, 5000)






X_train, X_test, y_train, y_test = train_test_split(
    X, y, test_size=0.20, random_state=42
)

print("Training set:", X_train.shape, y_train.shape)
print("Test set:",     X_test.shape,  y_test.shape)




















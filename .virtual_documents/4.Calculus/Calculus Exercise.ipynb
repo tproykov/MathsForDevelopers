%matplotlib inline


import numpy as np
import matplotlib.pyplot as plt
from matplotlib.animation import FuncAnimation








def calculate_derivative_at_point(function, point, precision=1e-7):
    """
    Calculates a numerical approximation to the derivative of the specified function
    at the given point
    """
    return (function(point + precision) - function(point)) / precision

def plot_derivative(function, derivative = None, min_x = -10, max_x = 10, equal_aspect = True):
    """
    Plots the function and its derivative. 
    The `derivative` parameter is optional and can be provided as a separate function.
    If it's not provided, the derivative will be calculated automatically
    """
    # We're using vectorized functions to make our code simpler: this only hides the for-loop,
    # it doesn't provide any performance gain
    vectorized_function = np.vectorize(function)
    
    x = np.linspace(min_x, max_x, 1000)
    y = vectorized_function(x)  # Generate the function values `y`
    
    if derivative is None:
        precision = 1e-7
        dy = np.array([(function(point + precision) - function(point)) / precision for point in x])
    else:
        dy = np.vectorize(derivative)(x)
    
    # Plot the function and its derivative
    plt.figure(figsize = (10, 6))
    plt.plot(x, y, label = 'Function f(x)', color='tab:blue')
    plt.plot(x, dy, label = 'Derivative f\'(x)', color='tab:orange')
    plt.axhline(y=0, color = 'black', linestyle = '-', alpha = 0.3)
    plt.axvline(x=0, color = 'black', linestyle = '-', alpha = 0.3)
    plt.grid(True, alpha=0.3)

    # Apply equal aspect ratio only if requested
    if equal_aspect:
        plt.gca().set_aspect('equal')

    plt.legend()
    plt.title('Function and its Derivative')
    plt.xlabel('x')
    plt.ylabel('y')
    
    plt.show()





plot_derivative(lambda x: x ** 2, lambda x: 2 * x) # The derivative is calculated by hand
plot_derivative(lambda x: x ** 2) # The derivative is not pre-calculated, should be calculated inside the function





plot_derivative(np.sin)





def plot_derivative_at_point(function, point, derivative = None, min_x = -10, max_x = 10):
    """
    Plots the function in the range [x_min; x_max]. Computes the tangent line to the function
    at the given point and also plots it
    """
    vectorized_function = np.vectorize(function)
    
    x = np.linspace(min_x, max_x, 1000)
    y = vectorized_function(x)
    
    slope = 0 # Slope of the tangent line
    if derivative is None:
        slope = calculate_derivative_at_point(function, point)
    else:
        slope = derivative(point)
    
    intercept = function(point) - slope * point
    tangent_line_x = np.linspace(point - 2, point + 2, 10)
    tangent_line_y = slope * tangent_line_x + intercept

    plt.figure(figsize = (7, 4))
    plt.plot(x, y, label = 'Function f(x)', color = 'tab:blue')
    plt.plot(tangent_line_x, tangent_line_y, label = 'Tangent line', color = 'tab:orange')

    plt.grid(True, alpha=0.3)
    # plt.gca().set_aspect('equal')
    
    plt.legend()
    plt.title(f'Tangent line at x = {point:.0f}')
    plt.xlabel('x')
    plt.ylabel('y')
    
    plt.show()


plot_derivative_at_point(lambda x: x ** 2, 2)





plot_derivative_at_point(lambda x: x ** 2, 2, min_x = 0, max_x = 4)





for x in np.arange(-8, 10, 2):
    plot_derivative_at_point(lambda x: x ** 2, x)


for x in np.arange(-8, 10, 2):
    plot_derivative_at_point(np.sin, x)


def calculate_derivative_at_point(function, point, h=1e-6):
    """Calculate numerical derivative of function at point"""
    return (function(point + h) - function(point)) / h

def animate_tangent_lines(function, points, derivative = None, min_x =- 10, max_x = 10):
    """
    Creates an animation showing tangent lines at multiple points on a function
    """
    # Set up the figure and axis
    fig, ax = plt.figure(figsize = (10, 6)), plt.axes(xlim = (min_x, max_x), ylim = None)
    
    x_vals = np.linspace(min_x, max_x, 1000)
    y_vals = np.vectorize(function)(x_vals)
    
    max_y = np.max(y_vals) * 1.1
    min_y = np.min(y_vals) * 1.1
    ax.set_ylim(min_y, max_y)
    
    function_line, = ax.plot(x_vals, y_vals, color = 'tab:blue', label = 'Function f(x)')
    tangent_line, = ax.plot([], [], color = 'tab:orange', label = 'Tangent line')
    point_marker, = ax.plot([], [], color='tab:orange', marker='o', markersize=8)
    
    ax.grid(True, alpha=0.3)
    ax.legend(loc = 'upper left')
    title = ax.set_title('Tangent line at x = 0')
    plt.xlabel('x')
    plt.ylabel('y')
    
    def init():
        """Initialize animation"""
        tangent_line.set_data([], [])
        point_marker.set_data([], [])
        return tangent_line, point_marker, title
    
    def update(frame):
        """Update animation for each frame"""
        point = points[frame]
        
        # Calculate slope at the point
        if derivative is None:
            slope = calculate_derivative_at_point(function, point)
        else:
            slope = derivative(point)
        
        # Calculate y-value at the point
        y_point = function(point)
        
        # Update point marker
        point_marker.set_data([point], [y_point])
        
        # Calculate tangent line
        intercept = y_point - slope * point
        tangent_x = np.linspace(point - 3, point + 3, 100)
        tangent_y = slope * tangent_x + intercept
        
        # Update tangent line
        tangent_line.set_data(tangent_x, tangent_y)
        
        # Update title with current point
        title.set_text(f'Tangent line at x = {point:.0f}, slope = {slope:.2f}')
        
        return tangent_line, point_marker, title
    
    # Create animation
    ani = FuncAnimation(fig, update, frames=range(len(points)),
                        init_func=init, blit=True, interval=800)
    
    plt.close() # Prevents duplicate display in Jupyter
    return ani

# Example usage (as per the example above: f(x) = x^2):
points = np.arange(-8, 10, 2)
animation = animate_tangent_lines(lambda x: x**2, points)

# Save animation
animation.save('tangent_animation.gif', writer='pillow', fps=2)

# Display animation
from IPython.display import HTML
HTML(animation.to_jshtml())








def calculate_limit_at_infinity(function):
    """
    Calculates a numerical approximation of the limit of the specified function
    as its parameter goes to infinity
    """
    n = 10 ** np.arange(0, 10)
    return zip(n, function(n))


limits = calculate_limit_at_infinity(lambda x: (1 + 1 / x) ** x)
for limit in limits:
    print(limit)


limits = calculate_limit_at_infinity(np.exp)
for limit in limits:
    print(limit)


limits = calculate_limit_at_infinity(lambda x: np.exp(-x))
for limit in limits:
    print(limit)





limits = calculate_limit_at_infinity(lambda x: 1 / (1 + np.exp(-x)))
for limit in limits:
    print(limit)





limits = calculate_limit_at_infinity(lambda x: 2 * (1 / (1 + np.exp(-x))) - 1)
for limit in limits:
    print(limit)





plot_derivative(lambda x: 2 ** x, min_x = 0, max_x = 10, equal_aspect=False)





plot_derivative(lambda x: 2 ** x, min_x = 0, max_x = 20, equal_aspect=False)





plot_derivative(lambda x: 0.5 ** x, equal_aspect=False)





plot_derivative(np.exp, equal_aspect = False)











def calculate_integral(function, x_min, x_max, num_points = 5000):
    """
    Calculates a numerical approximation of the definite integral of the provided function
    between the points x_min and x_max.
    The parameter n specifies the number of points at which the integral will be calculated
    """
    # Write your code here
    pass


print(calculate_integral(lambda x: x ** 2, 0, 1)) # Should be close to 0.333
print(calculate_integral(lambda x: np.sin(x ** 2), 0, 5)) # Should be close to 0.528





circle_piece_area = calculate_integral(lambda x: np.sqrt(1 - x ** 2), 0, 1)
total_area = 4 * circle_piece_area
print(total_area)






















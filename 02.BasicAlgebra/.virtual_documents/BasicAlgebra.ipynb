import numpy as np
import numpy.polynomial as p
import numpy as np


first_polynomial = p.Polynomial([-8, 5, 2])


second_polynomial = p.Polynomial([-2, 0, 0, 0, 3])


polynomial_sum = first_polynomial + second_polynomial


polynomial_sum


print(polynomial_sum)


polynomial_product = first_polynomial * second_polynomial


polynomial_product


print(polynomial_product)


polynomial_sum(5)




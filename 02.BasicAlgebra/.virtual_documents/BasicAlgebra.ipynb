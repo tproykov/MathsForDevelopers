import numpy as np
import numpy.polynomial as p


first_polynomial = p.Polynomial([-8, 5, 2])


second_polynomial = p.Polynomial([-2, 0, 0, 0, 3])


result = first_polynomial + second_polynomial


result




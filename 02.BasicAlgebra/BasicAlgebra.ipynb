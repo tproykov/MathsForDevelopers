{
 "cells": [
  {
   "cell_type": "code",
   "execution_count": 3,
   "id": "7171de81-5657-4494-b925-4598eabf029c",
   "metadata": {},
   "outputs": [],
   "source": [
    "import numpy as np\n",
    "import numpy.polynomial as p"
   ]
  },
  {
   "cell_type": "code",
   "execution_count": 4,
   "id": "b352f3ab-1712-4a84-93fe-058dab1115c5",
   "metadata": {},
   "outputs": [],
   "source": [
    "first_polynomial = p.Polynomial([-8, 5, 2])"
   ]
  },
  {
   "cell_type": "code",
   "execution_count": 5,
   "id": "5b272c45-f1b3-49cf-8c91-b9603c012ed8",
   "metadata": {},
   "outputs": [],
   "source": [
    "second_polynomial = p.Polynomial([-2, 0, 0, 0, 3])"
   ]
  },
  {
   "cell_type": "code",
   "execution_count": 6,
   "id": "a440014e-c36f-4188-b9fa-fc43a9f5a1ff",
   "metadata": {},
   "outputs": [],
   "source": [
    "result = first_polynomial + second_polynomial"
   ]
  },
  {
   "cell_type": "code",
   "execution_count": null,
   "id": "459844f7-6833-41e9-9638-ec876956aa37",
   "metadata": {},
   "outputs": [],
   "source": [
    "result"
   ]
  }
 ],
 "metadata": {
  "kernelspec": {
   "display_name": "Python 3 (ipykernel)",
   "language": "python",
   "name": "python3"
  },
  "language_info": {
   "codemirror_mode": {
    "name": "ipython",
    "version": 3
   },
   "file_extension": ".py",
   "mimetype": "text/x-python",
   "name": "python",
   "nbconvert_exporter": "python",
   "pygments_lexer": "ipython3",
   "version": "3.12.3"
  }
 },
 "nbformat": 4,
 "nbformat_minor": 5
}

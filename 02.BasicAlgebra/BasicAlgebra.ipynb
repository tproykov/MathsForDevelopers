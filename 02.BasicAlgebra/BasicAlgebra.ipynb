{
 "cells": [
  {
   "cell_type": "code",
   "execution_count": 13,
   "id": "7171de81-5657-4494-b925-4598eabf029c",
   "metadata": {},
   "outputs": [],
   "source": [
    "import numpy as np\n",
    "import numpy.polynomial as p"
   ]
  },
  {
   "cell_type": "code",
   "execution_count": 14,
   "id": "b352f3ab-1712-4a84-93fe-058dab1115c5",
   "metadata": {},
   "outputs": [],
   "source": [
    "first_polynomial = p.Polynomial([-8, 5, 2])"
   ]
  },
  {
   "cell_type": "code",
   "execution_count": 15,
   "id": "5b272c45-f1b3-49cf-8c91-b9603c012ed8",
   "metadata": {},
   "outputs": [],
   "source": [
    "second_polynomial = p.Polynomial([-2, 0, 0, 0, 3])"
   ]
  },
  {
   "cell_type": "code",
   "execution_count": 16,
   "id": "a440014e-c36f-4188-b9fa-fc43a9f5a1ff",
   "metadata": {},
   "outputs": [],
   "source": [
    "polynomial_sum = first_polynomial + second_polynomial"
   ]
  },
  {
   "cell_type": "code",
   "execution_count": 17,
   "id": "144f50e4-ffa8-4c36-83ef-9397405f3085",
   "metadata": {},
   "outputs": [],
   "source": [
    "polynomial_product = first_polynomial * second_polynomial"
   ]
  },
  {
   "cell_type": "code",
   "execution_count": 18,
   "id": "459844f7-6833-41e9-9638-ec876956aa37",
   "metadata": {},
   "outputs": [
    {
     "data": {
      "text/latex": [
       "$x \\mapsto \\text{-10.0} + \\text{5.0}\\,x + \\text{2.0}\\,x^{2}\\color{LightGray}{ + \\text{0.0}\\,x^{3}} + \\text{3.0}\\,x^{4}$"
      ],
      "text/plain": [
       "Polynomial([-10.,   5.,   2.,   0.,   3.], domain=[-1.,  1.], window=[-1.,  1.], symbol='x')"
      ]
     },
     "execution_count": 18,
     "metadata": {},
     "output_type": "execute_result"
    }
   ],
   "source": [
    "polynomial_sum"
   ]
  },
  {
   "cell_type": "code",
   "execution_count": 19,
   "id": "cfb64b79-7469-4fe0-be2e-373b78d743ae",
   "metadata": {},
   "outputs": [
    {
     "data": {
      "text/latex": [
       "$x \\mapsto \\text{16.0} - \\text{10.0}\\,x - \\text{4.0}\\,x^{2}\\color{LightGray}{ + \\text{0.0}\\,x^{3}} - \\text{24.0}\\,x^{4} + \\text{15.0}\\,x^{5} + \\text{6.0}\\,x^{6}$"
      ],
      "text/plain": [
       "Polynomial([ 16., -10.,  -4.,   0., -24.,  15.,   6.], domain=[-1.,  1.], window=[-1.,  1.], symbol='x')"
      ]
     },
     "execution_count": 19,
     "metadata": {},
     "output_type": "execute_result"
    }
   ],
   "source": [
    "polynomial_product"
   ]
  },
  {
   "cell_type": "code",
   "execution_count": null,
   "id": "ecc1e0f4-9770-48c9-bbf3-9a831f32c4ca",
   "metadata": {},
   "outputs": [],
   "source": []
  }
 ],
 "metadata": {
  "kernelspec": {
   "display_name": "Python 3 (ipykernel)",
   "language": "python",
   "name": "python3"
  },
  "language_info": {
   "codemirror_mode": {
    "name": "ipython",
    "version": 3
   },
   "file_extension": ".py",
   "mimetype": "text/x-python",
   "name": "python",
   "nbconvert_exporter": "python",
   "pygments_lexer": "ipython3",
   "version": "3.12.3"
  }
 },
 "nbformat": 4,
 "nbformat_minor": 5
}

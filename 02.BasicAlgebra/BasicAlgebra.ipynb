{
 "cells": [
  {
   "cell_type": "code",
   "execution_count": 11,
   "id": "7171de81-5657-4494-b925-4598eabf029c",
   "metadata": {},
   "outputs": [],
   "source": [
    "import numpy as np\n",
    "import numpy.polynomial as p\n",
    "import numpy as np\n",
    "import matplotlib.pyplot as plt"
   ]
  },
  {
   "cell_type": "code",
   "execution_count": 12,
   "id": "b352f3ab-1712-4a84-93fe-058dab1115c5",
   "metadata": {},
   "outputs": [],
   "source": [
    "first_polynomial = p.Polynomial([-8, 5, 2])"
   ]
  },
  {
   "cell_type": "code",
   "execution_count": 13,
   "id": "5b272c45-f1b3-49cf-8c91-b9603c012ed8",
   "metadata": {},
   "outputs": [],
   "source": [
    "second_polynomial = p.Polynomial([-2, 0, 0, 0, 3])"
   ]
  },
  {
   "cell_type": "code",
   "execution_count": 14,
   "id": "a440014e-c36f-4188-b9fa-fc43a9f5a1ff",
   "metadata": {},
   "outputs": [],
   "source": [
    "polynomial_sum = first_polynomial + second_polynomial"
   ]
  },
  {
   "cell_type": "code",
   "execution_count": 15,
   "id": "18a43223-6c5e-4af3-b464-bb94d6a63cf8",
   "metadata": {},
   "outputs": [
    {
     "data": {
      "text/latex": [
       "$x \\mapsto \\text{-10.0} + \\text{5.0}\\,x + \\text{2.0}\\,x^{2}\\color{LightGray}{ + \\text{0.0}\\,x^{3}} + \\text{3.0}\\,x^{4}$"
      ],
      "text/plain": [
       "Polynomial([-10.,   5.,   2.,   0.,   3.], domain=[-1.,  1.], window=[-1.,  1.], symbol='x')"
      ]
     },
     "execution_count": 15,
     "metadata": {},
     "output_type": "execute_result"
    }
   ],
   "source": [
    "polynomial_sum"
   ]
  },
  {
   "cell_type": "code",
   "execution_count": 16,
   "id": "35b04367-a8b7-464f-a001-77dcd41b2a19",
   "metadata": {},
   "outputs": [
    {
     "name": "stdout",
     "output_type": "stream",
     "text": [
      "-10.0 + 5.0 x + 2.0 x**2 + 0.0 x**3 + 3.0 x**4\n"
     ]
    }
   ],
   "source": [
    "print(polynomial_sum)"
   ]
  },
  {
   "cell_type": "code",
   "execution_count": 17,
   "id": "144f50e4-ffa8-4c36-83ef-9397405f3085",
   "metadata": {},
   "outputs": [],
   "source": [
    "polynomial_product = first_polynomial * second_polynomial"
   ]
  },
  {
   "cell_type": "code",
   "execution_count": 18,
   "id": "459844f7-6833-41e9-9638-ec876956aa37",
   "metadata": {},
   "outputs": [
    {
     "data": {
      "text/latex": [
       "$x \\mapsto \\text{16.0} - \\text{10.0}\\,x - \\text{4.0}\\,x^{2}\\color{LightGray}{ + \\text{0.0}\\,x^{3}} - \\text{24.0}\\,x^{4} + \\text{15.0}\\,x^{5} + \\text{6.0}\\,x^{6}$"
      ],
      "text/plain": [
       "Polynomial([ 16., -10.,  -4.,   0., -24.,  15.,   6.], domain=[-1.,  1.], window=[-1.,  1.], symbol='x')"
      ]
     },
     "execution_count": 18,
     "metadata": {},
     "output_type": "execute_result"
    }
   ],
   "source": [
    "polynomial_product"
   ]
  },
  {
   "cell_type": "code",
   "execution_count": 19,
   "id": "cfb64b79-7469-4fe0-be2e-373b78d743ae",
   "metadata": {},
   "outputs": [
    {
     "name": "stdout",
     "output_type": "stream",
     "text": [
      "16.0 - 10.0 x - 4.0 x**2 + 0.0 x**3 - 24.0 x**4 + 15.0 x**5 + 6.0 x**6\n"
     ]
    }
   ],
   "source": [
    "print(polynomial_product)"
   ]
  },
  {
   "cell_type": "code",
   "execution_count": 20,
   "id": "ecc1e0f4-9770-48c9-bbf3-9a831f32c4ca",
   "metadata": {},
   "outputs": [
    {
     "data": {
      "text/plain": [
       "1940.0"
      ]
     },
     "execution_count": 20,
     "metadata": {},
     "output_type": "execute_result"
    }
   ],
   "source": [
    "polynomial_sum(5)"
   ]
  },
  {
   "cell_type": "code",
   "execution_count": 21,
   "id": "2f3d830b-b7db-400a-b648-1a23bd4bb104",
   "metadata": {},
   "outputs": [
    {
     "data": {
      "image/png": "[encoded data removed]",
      "text/plain": [
       "<Figure size 600x600 with 1 Axes>"
      ]
     },
     "metadata": {},
     "output_type": "display_data"
    }
   ],
   "source": [
    "def plot_complex_number(z):\n",
    "    \"\"\"\n",
    "    Plots the complex number z as a radius vector in the 2D space\n",
    "    \"\"\"\n",
    "    fig, ax = plt.subplots(figsize=(6, 6))\n",
    "\n",
    "    ax.axhline(0, color='gray', lw=1)\n",
    "    ax.axvline(0, color='gray', lw=1)\n",
    "    ax.quiver(0,                        # x start coordinate\n",
    "              0,                        # y start coordinate\n",
    "                                        # - define the arrow's direction and length -\n",
    "              z.real,                   # x end coordinate\n",
    "              z.imag,                   # y coordinate\n",
    "                                        # --- optional parameters ---\n",
    "              angles=\"xy\",              # determines how angles are specified: 'xy' or 'uv'\n",
    "              scale_units=\"xy\", \n",
    "              scale=1, color='b')\n",
    "    \n",
    "    ax.set_xticks(range(-3, 4))\n",
    "    ax.set_yticks(range(-3, 5))\n",
    "    ax.set_xlabel('Real')\n",
    "    ax.set_ylabel('Imaginary')\n",
    "    ax.grid(True, linestyle='--', alpha=0.4)\n",
    "    ax.set_aspect('equal')\n",
    "    \n",
    "    plt.tight_layout()\n",
    "    plt.show()\n",
    "\n",
    "plot_complex_number(2 + 3j)"
   ]
  },
  {
   "cell_type": "code",
   "execution_count": null,
   "id": "03d9518f-836d-4ad2-aa79-c63fbbd8c62f",
   "metadata": {},
   "outputs": [],
   "source": []
  },
  {
   "cell_type": "code",
   "execution_count": null,
   "id": "1884433e-8441-4402-b095-0f69673e8eae",
   "metadata": {},
   "outputs": [],
   "source": []
  }
 ],
 "metadata": {
  "kernelspec": {
   "display_name": "Python 3 (ipykernel)",
   "language": "python",
   "name": "python3"
  },
  "language_info": {
   "codemirror_mode": {
    "name": "ipython",
    "version": 3
   },
   "file_extension": ".py",
   "mimetype": "text/x-python",
   "name": "python",
   "nbconvert_exporter": "python",
   "pygments_lexer": "ipython3",
   "version": "3.12.3"
  }
 },
 "nbformat": 4,
 "nbformat_minor": 5
}

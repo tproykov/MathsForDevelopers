{
 "cells": [
  {
   "cell_type": "code",
   "execution_count": 4,
   "id": "800b6f6f-212e-4f2d-bc48-c4ea56bf42a5",
   "metadata": {},
   "outputs": [],
   "source": [
    "import numpy as np\n",
    "import matplotlib.pyplot as plt"
   ]
  },
  {
   "cell_type": "markdown",
   "id": "2f0e0334-4ecd-4c8d-aafa-4334df25229b",
   "metadata": {},
   "source": [
    "#### Formula for all four trigonometric functions\n",
    "\n",
    "* Sine: $$\\sin(\\theta) = \\frac{\\text{opposite}}{\\text{hypotenuse}}$$\n",
    "* Cosine: $$\\cos(\\theta) = \\frac{\\text{adjacent}}{\\text{hypotenuse}}$$\n",
    "* Tangent: $$\\tan(\\theta) = \\frac{\\text{opposite}}{\\text{adjacent}} = \\frac{\\sin(\\theta)}{\\cos(\\theta)}$$\n",
    "* Cotangent: $$\\cot(\\theta) = \\frac{\\text{adjacent}}{\\text{opposite}} = \\frac{\\cos(\\theta)}{\\sin(\\theta)} = \\frac{1}{\\tan(\\theta)}$$\n"
   ]
  },
  {
   "cell_type": "markdown",
   "id": "4333dcac-bc59-4c92-a4da-6149a44cae8e",
   "metadata": {},
   "source": [
    "#### Vector notations\n",
    "\n",
    "* Column vector notations: $$ \\vec{v} = \\begin{bmatrix} x_1 \\\\ x_2 \\\\ x_3 \\end{bmatrix} $$\n",
    "* Row vector notations: $$ \\vec{v} = \\begin{bmatrix} x_1 & x_2 & x_3 \\end{bmatrix} $$\n",
    "* Using parentheses: $$\\vec{v} = (x_1, x_2, x_3)$$\n",
    "* Using square brackets: $$\\vec{v} = [x_1, x_2, x_3]$$\n",
    "* Using pmatrix for a column vector with parentheses: $$\\vec{v} = \\begin{pmatrix} x_1 \\\\ x_2 \\\\ x_3 \\end{pmatrix}$$\n",
    "* Represented by polar coordinates: $$\\vec{v} = |\\vec{v}|, \\theta$$\n",
    "* Or this: $\\vec{v} = (r, \\theta)$ where $r = |\\vec{v}|$\n",
    "\n",
    "Finding components from polar coordinates: $$v_x = v \\cos(\\theta), \\quad v_y = v \\sin(\\theta)$$\n",
    "\n",
    "Finding the polar coordinates: $$v = \\sqrt{v_x^2 + v_y^2}, \\quad \\theta = \\tan^{-1}\\left(\\frac{v_y}{v_x}\\right)$$\n",
    "\n",
    "##### All these generalisable for more than two dimensions!\n",
    "\n",
    "<p></p>"
   ]
  },
  {
   "cell_type": "markdown",
   "id": "ad722f85-1de3-4628-90a4-4a60f9459497",
   "metadata": {},
   "source": [
    "#### Vector operations\n",
    "\n",
    "##### Addition $$\\vec{a} + \\vec{b} = \\vec{c}$$\n",
    "  \n",
    "* Or: $$\\vec{a} + \\vec{b} = (a_x + b_x,\\; a_y + b_y,\\; a_z + b_z)$$\n",
    "* Column vector notation: $$\\begin{bmatrix} a_x \\\\ a_y \\\\ a_z \\end{bmatrix} + \\begin{bmatrix} b_x \\\\ b_y \\\\ b_z \\end{bmatrix} = \\begin{bmatrix} a_x + b_x \\\\ a_y + b_y \\\\ a_z + b_z \\end{bmatrix}$$\n",
    "* With unit vectors: $$\\vec{a} + \\vec{b} = (a_x\\hat{i} + a_y\\hat{j} + a_z\\hat{k}) + (b_x\\hat{i} + b_y\\hat{j} + b_z\\hat{k})$$\n",
    "* General form for n vectors: $$\\sum_{i=1}^{n} \\vec{v}_i = \\vec{v}_1 + \\vec{v}_2 + \\cdots + \\vec{v}_n$$\n",
    "* Geometric representation: $$\\vec{AB} + \\vec{BC} = \\vec{AC}$$\n",
    "<p></p>\n",
    "\n",
    "##### Multiplication by a number (scalar)\n",
    "\n",
    "* Basic scalar multiplication: $$k\\vec{v} = \\vec{w}$$\n",
    "* Component-wise multiplication: $$k\\vec{v} = k(v_x, v_y, v_z) = (kv_x, kv_y, kv_z)$$\n",
    "* Column vector notation: $$k\\begin{bmatrix} v_x \\\\ v_y \\\\ v_z \\end{bmatrix} = \\begin{bmatrix} kv_x \\\\ kv_y \\\\ kv_z \\end{bmatrix}$$\n",
    "* With unit vectors: $$k\\vec{v} = k(v_x\\hat{i} + v_y\\hat{j} + v_z\\hat{k}) = kv_x\\hat{i} + kv_y\\hat{j} + kv_z\\hat{k}$$\n",
    "* Using cdot notations: $$k \\cdot \\vec{v} = (k \\cdot v_x,\\, k \\cdot v_y,\\, k \\cdot v_z)$$\n",
    "<p></p>\n",
    "\n",
    "##### Scalar product of two vectors (dot product or inner product)\n",
    "\n",
    "* Basic dot product notation: $$\\vec{a} \\cdot \\vec{b} = c$$\n",
    "* Component formula: $$\\vec{a} \\cdot \\vec{b} = a_x b_x + a_y b_y + a_z b_z$$\n",
    "* Using angle $\\theta$ between vectors: $$\\vec{a} \\cdot \\vec{b} = |\\vec{a}| |\\vec{b}| \\cos(\\theta)$$\n",
    "* Column vector notation: $$\\begin{bmatrix} a_x \\\\ a_y \\\\ a_z \\end{bmatrix} \\cdot \\begin{bmatrix} b_x \\\\ b_y \\\\ b_z \\end{bmatrix} = a_x b_x + a_y b_y + a_z b_z$$\n",
    "* As a sum: $$\\vec{a} \\cdot \\vec{b} = \\sum_{i=1}^{n} a_i b_i$$\n",
    "* Multiplication by itself: $$\\vec{a} \\cdot \\vec{a} = |\\vec{a}|^2$$\n",
    "* Perpendicular vectors: $$\\vec{a} \\cdot \\vec{b} = 0 \\Rightarrow \\vec{a} \\perp \\vec{b}$$\n",
    "* Dot product of two vectors using magnitude and angle $ \\theta $: $$\\vec{a} \\cdot \\vec{b} = |\\vec{a}|\\,|\\vec{b}| \\cos(\\theta)$$\n",
    "<p></p>\n",
    "<p></p>\n",
    "##### Vector product of two vectors (cross product) - only in 2D and 3D spaces!\n",
    "\n",
    "* Basic cross product notation: $$\\vec{a} \\times \\vec{b} = \\vec{c}$$\n",
    "* Using magnitute and angle $ \\theta $: $$|\\vec{a} \\times \\vec{b}| = |\\vec{a}||\\vec{b}| \\sin(\\theta)\\vec{n}$$\n",
    "* ... where $\\vec{n}$ stands for normal vector and $|\\vec{a}||\\vec{b}| \\sin(\\theta)$ is the magnitude (area of parallelogram). The direction coincides with the direction of $\\vec{n}$\n",
    "<p></p>\n",
    "* Component formula (determinant form): $$\\vec{a} \\times \\vec{b} = \\begin{vmatrix} \\hat{i} & \\hat{j} & \\hat{k} \\\\ a_x & a_y & a_z \\\\ b_x & b_y & b_z \\end{vmatrix}$$\n",
    "* ... or: $$\\vec{a} \\times \\vec{b} = \\begin{vmatrix} \\hat{i} & \\hat{j} & \\hat{k} \\\\ a_x & a_y & 0 \\\\ b_x & b_y & 0 \\end{vmatrix}$$\n",
    "  $$\\vec{a} \\times \\vec{b} = (0)\\hat{i} - (0)\\hat{j} + (a_x b_y - a_y b_x)\\hat{k}$$\n",
    "  $$\\vec{a} \\times \\vec{b} = (0, 0, a_x b_y - a_y b_x)$$\n",
    "* Expanded component form: $$\\vec{a} \\times \\vec{b} = (a_y b_z - a_z b_y)\\hat{i} - (a_x b_z - a_z b_x)\\hat{j} + (a_x b_y - a_y b_x)\\hat{k}$$\n",
    "* Alternative component notation: $$\\vec{a} \\times \\vec{b} = \\begin{bmatrix} a_y b_z - a_z b_y \\\\ a_z b_x - a_x b_z \\\\ a_x b_y - a_y b_x \\end{bmatrix}$$\n",
    "* Special cases: $$\\vec{a} \\times \\vec{a} = \\vec{0}$$\n",
    "* Parallel vectors: $$\\vec{a} \\times \\vec{b} = \\vec{0} \\Rightarrow \\vec{a} \\parallel \\vec{b}$$\n",
    "* Right-hand rule notation: $$\\vec{a} \\times \\vec{b} \\perp \\vec{a}$ and $\\vec{a} \\times \\vec{b} \\perp \\vec{b}$$\n",
    "\n",
    "\n",
    "\n"
   ]
  },
  {
   "cell_type": "markdown",
   "id": "e0ebea83-baf5-4072-85bf-0ec6cdd49b73",
   "metadata": {},
   "source": [
    "#### Vector spaces\n",
    "\n",
    "A **field** (usually $\\mathbb{R}$ or $\\mathbb{C}$): *F*\n",
    "\n",
    "A set of **elements** (vectors): *V*\n",
    "\n",
    "We read this as \"vector space (or linear space) *V* over the field *F*\"\n",
    "\n",
    "Examples of vector spaces\n",
    "* Coordinate space, e.g., real coordinate space: 𝑛-dimensional vectors\n",
    "* Infinite coordinate space $\\mathbb{R}^{\\infty}$: vectors with infinitely many components\n",
    "* Polynomial space: all polynomials of variable 𝑥 with real coefficients $\\mathbb{R}[x]$ \n",
    "* Function space\n",
    "\n",
    "#### Linear combinations\n",
    "\n",
    "Linear combination: The sum of each vector multiplied by a scalar coefficient:\n",
    "$$\\lambda_1 v_1 + \\lambda_2 v_2 + \\cdots + \\lambda_n v_n = \\sum_{i=1}^{n} \\lambda_i v_i$$\n",
    "$$\\lambda_1 \\vec{v}_1 + \\lambda_2 \\vec{v}_2 + \\cdots + \\lambda_n \\vec{v}_n = \\sum_{i=1}^{n} \\lambda_i \\vec{v}_i$$\n",
    "\n",
    "The result is:\n",
    "* A vector in the same space as the original vectors\n",
    "* Has the same dimensions as the input vectors\n",
    "* Is still a vector, not a scalar\n",
    "\n",
    "*Span* (linear hull) of vectors: the set of all their linear combinations\n",
    "\n",
    "Linear (in)dependence\n",
    "* The vectors $v_1, \\ldots, v_n$ are linearly independent if the only solution to the equation $\\lambda_1 v_1 + \\lambda_2 v_2 + \\cdots + \\lambda_n v_n = \\vec{0} \\;$ is $\\;\\lambda_1 = 0, \\lambda_2 = 0, \\ldots, \\lambda_n = 0$.\n",
    "* Conversely, they are linearly dependent if there is a non-trivial linear combination ",
    "which is equal to zero\n",
    "\n",
    "\n"
   ]
  },
  {
   "cell_type": "markdown",
   "id": "56b7ca5d-7ffd-4f8d-a869-01093cd6944e",
   "metadata": {},
   "source": [
    "#### Examples\n",
    "\n",
    "1. Dependent or independent?\n",
    "\n",
    "$$\\vec{u} = (2, -1, 1),\\quad \\vec{v} = (3, -4, -2),\\quad \\vec{w} = (5, -10, -8)$$\n",
    "\n",
    "Calculate by the use of system of equations for $\\vec{w}$:\n",
    "\n",
    "$$\\begin{cases}\n",
    "5 = 2a + 3b & \\text{(x-component)} \\\\\n",
    "-10 = -a - 4b & \\text{(y-component)} \\\\\n",
    "-8 = a - 2b & \\text{(z-component)}\n",
    "\\end{cases}$$\n",
    "\n",
    "$$\\vec{w} = -2\\vec{u} + 3\\vec{v} \\; \\Rightarrow \\; 2\\vec{u} - 3\\vec{v} + 1\\vec{w} = \\vec{0}$$\n",
    "\n",
    "This means the vectors are linearly dependent - this is a non-trivial combination (coefficients aren't all zero) that equals the zero vector.\n",
    "\n",
    "<p></p>\n",
    "<p></p>\n",
    "\n",
    "2.  How any vector can be expressed as a linear combination of basis vectors?\n",
    "\n",
    "Consider: $$\\hat{i} = \\begin{bmatrix} 1 \\\\ 0 \\end{bmatrix},\\quad \\hat{j} = \\begin{bmatrix} 0 \\\\ 1 \\end{bmatrix}$$\n",
    "Now consider the vector: $$\\vec{a} = \\begin{bmatrix} -2 \\\\ 1 \\end{bmatrix}$$\n",
    "Use system of equations for $\\vec{a}$:\n",
    "\n",
    "$$\\begin{cases}\n",
    "-2 = 1\\hat{i} + 0\\hat{j} & \\text{(x-component)} \\\\\n",
    "1 = 0\\hat{i} + 1\\hat{j} & \\text{(y-component)}\n",
    "\\end{cases}$$\n",
    "\n",
    "We can see that we can express $\\vec{a}$ as the linear combination: $$\\vec{a} = -2\\hat{i} + 1\\hat{j}$$\n",
    "$$\\begin{bmatrix} -2 \\\\ 1 \\end{bmatrix} = -2\\begin{bmatrix} 1 \\\\ 0 \\end{bmatrix} + 1\\begin{bmatrix} 0 \\\\ 1 \\end{bmatrix}$$\n",
    "\n",
    "\n"
   ]
  },
  {
   "cell_type": "code",
   "execution_count": 12,
   "id": "e7cdcb80-95ac-433b-b281-6394ec82f1fc",
   "metadata": {},
   "outputs": [
    {
     "data": {
      "image/png": "[encoded data removed]",
      "text/plain": [
       "<Figure size 600x600 with 1 Axes>"
      ]
     },
     "metadata": {},
     "output_type": "display_data"
    }
   ],
   "source": [
    "def plot_vectors(vectors, colors):\n",
    "    \"\"\"\n",
    "    Plots the given vectors as arrows from the origin in a 2D space.\n",
    "    \n",
    "    Parameters:\n",
    "    -----------\n",
    "    vectors : list of tuples\n",
    "        List of (x, y) coordinates representing vector endpoints\n",
    "    colors : list of str\n",
    "        List of colors for each vector\n",
    "    \"\"\"\n",
    "    fig, ax = plt.subplots(figsize=(6, 6))\n",
    "    \n",
    "    # Draw axis lines\n",
    "    ax.axhline(0, color='gray', lw=1)\n",
    "    ax.axvline(0, color='gray', lw=1)\n",
    "    \n",
    "    # Extract vector components\n",
    "    zeros = [0] * len(vectors)\n",
    "    x_components = [v[0] for v in vectors]\n",
    "    y_components = [v[1] for v in vectors]\n",
    "    \n",
    "    # Plot vectors\n",
    "    ax.quiver(zeros,                    # x start coordinates\n",
    "              zeros,                    # y start coordinates\n",
    "              x_components,             # x components\n",
    "              y_components,             # y components\n",
    "              # --- OPTIONAL parameters ---\n",
    "              angles=\"xy\",              # (string) determines how angles are specified: 'xy' or 'uv'\n",
    "              scale=1,                  # (float) scales the length of the arrow\n",
    "              scale_units=\"xy\",         # (string) defines the units for the scale parameter\n",
    "              width=0.01,               # (float) shaft width of the arrow\n",
    "              headwidth=3,              # (float) head width as multiple of shaft width\n",
    "              headlength=5,             # (float) head length as multiple of shaft width\n",
    "              color=colors,             # Color for each arrow\n",
    "              alpha=0.5                 # (float) transparency level\n",
    "             )   \n",
    "    \n",
    "    # Set plot limits and appearance\n",
    "    ax.set_xlim(-3, 2)\n",
    "    ax.set_ylim(-1, 2)\n",
    "    ax.set_aspect('equal')\n",
    "    ax.set_xlabel('X')\n",
    "    ax.set_ylabel('Y')\n",
    "    ax.grid(True, linestyle='--', alpha=0.4)\n",
    "\n",
    "    # Set consistent grid spacing\n",
    "    ax.set_xticks(range(-3, 3, 1))  # x-ticks from -3 to 2 in steps of 1\n",
    "    ax.set_yticks(range(-1, 3, 1))  # y-ticks from -1 to 2 in steps of 1\n",
    "    \n",
    "    plt.tight_layout()\n",
    "    plt.show()\n",
    "\n",
    "# Example usage with four vectors\n",
    "vectors = [(1, 0), (0, 1), (-2, 1)]\n",
    "plot_vectors(vectors, [\"blue\", \"red\", \"green\"])"
   ]
  },
  {
   "cell_type": "markdown",
   "id": "35f957f4-a5c9-4fc5-9499-94e2231e4600",
   "metadata": {},
   "source": [
    "#### Matrices - notation\n",
    "\n",
    "Basic matrix notation: $$A = \\begin{bmatrix} -1 & 2 & 3 \\\\ 4 & 5 & 6 \\\\ 7 & 8 & -9 \\end{bmatrix}$$\n",
    "Matrix with parentheses: $$B = \\begin{pmatrix} a & b \\\\ c & d \\end{pmatrix}$$\n",
    "Matrix with vertical bars (determinants): $$|A| = \\begin{vmatrix} 1 & 2 \\\\ 3 & 4 \\end{vmatrix}$$\n",
    "Matrix with double vertical bars (norm): $$\\|A\\| = \\begin{Vmatrix} 1 & 2 \\\\ 3 & 4 \\end{Vmatrix}$$\n",
    "Small inline matrix: $$\\begin{smallmatrix} a & b \\\\ c & d \\end{smallmatrix}$$\n",
    "Matrix with dimensions: $$A_{m \\times n} = \\begin{bmatrix} a_{11} & \\cdots & a_{1n} \\\\ \\vdots & \\ddots & \\vdots \\\\ a_{m1} & \\cdots & a_{mn} \\end{bmatrix}$$\n",
    "Identity matrix: $$I_3 = \\begin{bmatrix} 1 & 0 & 0 \\\\ 0 & 1 & 0 \\\\ 0 & 0 & 1 \\end{bmatrix}$$\n",
    "Zero matrix: $$0_{2 \\times 3} = \\begin{bmatrix} 0 & 0 & 0 \\\\ 0 & 0 & 0 \\end{bmatrix}$$\n",
    "\n",
    "<p></p>\n",
    "<p></p>\n",
    "\n",
    "- **R** – row vector, **C** – column vector\n",
    "- Elements: $A = \\{a_{ij}\\}$\n",
    "- **Scalars** have no dimensions: $2$, $3$, $18$, $-42$, $0.5$\n",
    "- **Vectors** have one dimension: $\\vec{v} = \\{v_i\\}$\n",
    "- **Matrices** have two dimensions: $A = \\{a_{ij}\\}$\n",
    "- A generalization of this pattern to many dimensions is called a **tensor**\n",
    "    - Tensors are quite more complicated than this\n",
    "    - For almost all purposes it's OK to think about them as multidimensional matrices.\n",
    "\n",
    "<p></p>\n",
    "<p></p>\n",
    "\n",
    "\n",
    "\n"
   ]
  },
  {
   "cell_type": "markdown",
   "id": "7c32c20b-67aa-4208-904c-6cf9cdcc683d",
   "metadata": {},
   "source": [
    "#### Matrix addition"
   ]
  },
  {
   "cell_type": "markdown",
   "id": "737f1e01-85cf-4f2a-b242-457362016cfd",
   "metadata": {},
   "source": [
    "$$A = \\begin{bmatrix} 2 & 3 & 7 \\\\ 8 & 9 & 1 \\end{bmatrix}, \\quad B = \\begin{bmatrix} 1 & -3 & 0 \\\\ 2 & -4 & 1 \\end{bmatrix} \\;\\Rightarrow \\; A+B = \\begin{bmatrix} 2+1 & 3-3 & 7+0 \\\\ 8+2 & 9-4 & 1+1 \\end{bmatrix} = \\begin{bmatrix} 3 & 0 & 7 \\\\ 10 & 5 & 2 \\end{bmatrix}$$"
   ]
  },
  {
   "cell_type": "code",
   "execution_count": 16,
   "id": "e1b314f6-1174-4d28-bff6-a5d1daf972b4",
   "metadata": {},
   "outputs": [
    {
     "name": "stdout",
     "output_type": "stream",
     "text": [
      "Matrix A:\n",
      "[[2 3 7]\n",
      " [8 9 1]]\n",
      "\n",
      "Matrix B:\n",
      "[[ 1 -3  0]\n",
      " [ 2 -4  1]]\n",
      "\n",
      "A + B =\n",
      "[[ 3  0  7]\n",
      " [10  5  2]]\n"
     ]
    }
   ],
   "source": [
    "A = np.array([[2, 3, 7],\n",
    "              [8, 9, 1]])\n",
    "\n",
    "B = np.array([[1, -3, 0],\n",
    "              [2, -4, 1]])\n",
    "\n",
    "C = A + B\n",
    "\n",
    "print(\"Matrix A:\")\n",
    "print(A)\n",
    "print(\"\\nMatrix B:\")\n",
    "print(B)\n",
    "print(\"\\nA + B =\")\n",
    "print(C)"
   ]
  },
  {
   "cell_type": "markdown",
   "id": "c0cd0ebc-c939-4d95-a002-1a91810480af",
   "metadata": {},
   "source": [
    "#### Matrix multipication by scalar"
   ]
  },
  {
   "cell_type": "markdown",
   "id": "c880fc53-e3de-439c-b39a-315d114ec5e8",
   "metadata": {},
   "source": [
    "$$\\lambda = 2, \\quad A = \\begin{bmatrix} 2 & 3 & 7 \\\\ 8 & 9 & 1 \\end{bmatrix} \\Rightarrow \\lambda A = \\begin{bmatrix} 2 \\cdot 2 & 2 \\cdot 3 & 2 \\cdot 7 \\\\ 2 \\cdot 8 & 2 \\cdot 9 & 2 \\cdot 1 \\end{bmatrix} = \\begin{bmatrix} 4 & 6 & 14 \\\\ 16 & 18 & 2 \\end{bmatrix}$$"
   ]
  },
  {
   "cell_type": "code",
   "execution_count": 17,
   "id": "31bfc4fb-840a-4284-9f93-ece033a0444f",
   "metadata": {},
   "outputs": [
    {
     "name": "stdout",
     "output_type": "stream",
     "text": [
      "λ = 2\n",
      "\n",
      "Matrix A:\n",
      "[[2 3 7]\n",
      " [8 9 1]]\n",
      "\n",
      "λA = 2 * A =\n",
      "[[ 4  6 14]\n",
      " [16 18  2]]\n"
     ]
    }
   ],
   "source": [
    "lambda_val = 2\n",
    "A = np.array([[2, 3, 7],\n",
    "              [8, 9, 1]])\n",
    "\n",
    "result = lambda_val * A\n",
    "\n",
    "print(f\"λ = {lambda_val}\")\n",
    "print(\"\\nMatrix A:\")\n",
    "print(A)\n",
    "print(f\"\\nλA = {lambda_val} * A =\")\n",
    "print(result)\n"
   ]
  },
  {
   "cell_type": "markdown",
   "id": "d941102e-3afe-44c9-a125-6a7a606737b2",
   "metadata": {},
   "source": [
    "#### Matrix transposition"
   ]
  },
  {
   "cell_type": "markdown",
   "id": "dde4bed3-b8f3-4eae-af32-02fba2cc9e6b",
   "metadata": {},
   "source": [
    "Turning rows into columns and vice versa - the transpose of a matrix is denoted by an **upper index T**\n",
    "\n",
    "$$A^T = (a_{ij})^T_{m \\times n} = (a_{ji})_{n \\times m}$$\n",
    "\n",
    "$$A = \\begin{bmatrix} 1 & 2 & 0 & 1 \\\\ -3 & -4 & 1 & 3 \\\\ 2 & 0 & 1 & 1 \\end{bmatrix} \\Rightarrow A^T = \\begin{bmatrix} 1 & -3 & 2 \\\\ 2 & -4 & 0 \\\\ 0 & 1 & 1 \\\\ 1 & 3 & 1 \\end{bmatrix}$$\n",
    "\n",
    "\n",
    "\n",
    "\n",
    "\n"
   ]
  },
  {
   "cell_type": "code",
   "execution_count": 20,
   "id": "f0939760-abae-42d1-9580-ba0b9a920e3c",
   "metadata": {},
   "outputs": [
    {
     "name": "stdout",
     "output_type": "stream",
     "text": [
      "Matrix A:\n",
      "[[ 1  2  0  1]\n",
      " [-3 -4  1  3]\n",
      " [ 2  0  1  1]]\n",
      "\n",
      "A^T = \n",
      "[[ 1 -3  2]\n",
      " [ 2 -4  0]\n",
      " [ 0  1  1]\n",
      " [ 1  3  1]]\n"
     ]
    }
   ],
   "source": [
    "A = np.array([[1, 2, 0, 1],\n",
    "              [-3, -4, 1, 3],\n",
    "              [2, 0, 1, 1]])\n",
    "\n",
    "A_T = A.T  # or np.transpose(A)\n",
    "\n",
    "print(\"Matrix A:\")\n",
    "print(A)\n",
    "\n",
    "print(\"\\nA^T = \")\n",
    "print(A_T)"
   ]
  },
  {
   "cell_type": "markdown",
   "id": "e7bf0dbe-798c-4453-98d0-feacc639fdeb",
   "metadata": {},
   "source": [
    "#### Matrix multiplication\n",
    "\n",
    "* Multiply for every row - every element by every column resulting into a number (i.e. vector multiplied by scalar) \n",
    "* Matrix multiplication is not commutative (unless $A_{m \\times p}$ and $B_{p \\times m}$)!\n",
    "* The dimensions must match **in this particular way** (internal and external): $$A_{m \\times p}B_{p \\times n} = C_{m \\times n}$$\n",
    "Definition: $$c_{ij} = \\sum_{k=1}^{p} a_{ik}b_{kj}$$\n",
    "Example: $$A = \\begin{bmatrix} 2 & 3 & 7 \\\\ 8 & 9 & 1 \\end{bmatrix}, \\quad B = \\begin{bmatrix} 1 & 2 & 0 & 1 \\\\ -3 & -4 & 1 & 3 \\\\ 2 & 0 & 1 & 1 \\end{bmatrix}$$\n",
    "$$AB = \\begin{bmatrix} 7 & -8 & 10 & 18 \\\\ -17 & -20 & 10 & 36 \\end{bmatrix}$$\n",
    "\n",
    "\n",
    "\n",
    "\n"
   ]
  },
  {
   "cell_type": "code",
   "execution_count": 23,
   "id": "885f249f-7c73-4961-ae0f-7da789be2d40",
   "metadata": {},
   "outputs": [
    {
     "name": "stdout",
     "output_type": "stream",
     "text": [
      "Matrix A:\n",
      "[[2 3 7]\n",
      " [8 9 1]]\n",
      "\n",
      "Matrix B:\n",
      "[[ 1  2  0  1]\n",
      " [-3 -4  1  3]\n",
      " [ 2  0  1  1]]\n",
      "\n",
      "Result AB:\n",
      "[[  7  -8  10  18]\n",
      " [-17 -20  10  36]]\n",
      "\n",
      "Detailed calculations:\n",
      "C[0,0] = 2*1 + 3*-3 + 7*2 = 7\n",
      "C[0,1] = 2*2 + 3*-4 + 7*0 = -8\n",
      "C[0,2] = 2*0 + 3*1 + 7*1 = 10\n",
      "C[0,3] = 2*1 + 3*3 + 7*1 = 18\n",
      "C[1,0] = 8*1 + 9*-3 + 1*2 = -17\n",
      "C[1,1] = 8*2 + 9*-4 + 1*0 = -20\n",
      "C[1,2] = 8*0 + 9*1 + 1*1 = 10\n",
      "C[1,3] = 8*1 + 9*3 + 1*1 = 36\n"
     ]
    }
   ],
   "source": [
    "import numpy as np\n",
    "A = np.array([[2, 3, 7],\n",
    "              [8, 9, 1]])\n",
    "\n",
    "B = np.array([[1, 2, 0, 1],\n",
    "              [-3, -4, 1, 3],\n",
    "              [2, 0, 1, 1]])\n",
    "\n",
    "C = np.dot(A, B)  # or A @ B\n",
    "\n",
    "print(\"Matrix A:\")\n",
    "print(A)\n",
    "\n",
    "print(\"\\nMatrix B:\")\n",
    "print(B)\n",
    "\n",
    "print(\"\\nResult AB:\")\n",
    "print(C)\n",
    "\n",
    "# Show detailed calculations\n",
    "print(\"\\nDetailed calculations:\")\n",
    "for i in range(A.shape[0]):\n",
    "    for j in range(B.shape[1]):\n",
    "        calculation = []\n",
    "        result = 0\n",
    "        for k in range(A.shape[1]):\n",
    "            term = A[i,k] * B[k,j]\n",
    "            calculation.append(f\"{A[i,k]}*{B[k,j]}\")\n",
    "            result += term\n",
    "        \n",
    "        calc_str = \" + \".join(calculation)\n",
    "        print(f\"C[{i},{j}] = {calc_str} = {result}\")"
   ]
  },
  {
   "cell_type": "code",
   "execution_count": 24,
   "id": "bc76b61b-68b6-449e-95e9-621b89615ef7",
   "metadata": {},
   "outputs": [
    {
     "name": "stdout",
     "output_type": "stream",
     "text": [
      "Matrix C using numpy matmul:\n",
      "[[ 50  60]\n",
      " [114 140]\n",
      " [178 220]]\n",
      "\n",
      "Matrix C using manual implementation:\n",
      "[[ 50.  60.]\n",
      " [114. 140.]\n",
      " [178. 220.]]\n",
      "\n",
      "Are results equal? True\n"
     ]
    }
   ],
   "source": [
    "# Define dimensions: A is (m x p) and B is (p x n)\n",
    "m, p, n = 3, 4, 2  # You can change these values as needed\n",
    "\n",
    "# Create matrices\n",
    "A = np.array([[1, 2, 3, 4],\n",
    "              [5, 6, 7, 8],\n",
    "              [9, 10, 11, 12]])\n",
    "\n",
    "B = np.array([[1, 2],\n",
    "              [3, 4],\n",
    "              [5, 6],\n",
    "              [7, 8]]) \n",
    "\n",
    "# Method 1: Using numpy's matrix multiplication\n",
    "C = np.matmul(A, B)  # or simply: C = A @ B in modern Python\n",
    "print(\"Matrix C using numpy matmul:\")\n",
    "print(C)\n",
    "\n",
    "# Method 2: Manual implementation of the formula c_ij = sum(a_ik * b_kj) for k=1 to p\n",
    "def manual_matrix_multiply(A, B):\n",
    "    m, p = A.shape\n",
    "    p_check, n = B.shape\n",
    "    \n",
    "    if p != p_check:\n",
    "        raise ValueError(\"Matrix dimensions don't match for multiplication\")\n",
    "    \n",
    "    # Initialize result matrix C with zeros\n",
    "    C = np.zeros((m, n))\n",
    "    \n",
    "    # Implement the formula c_ij = sum(a_ik * b_kj) for k=1 to p\n",
    "    for i in range(m):\n",
    "        for j in range(n):\n",
    "            for k in range(p):\n",
    "                C[i, j] += A[i, k] * B[k, j]\n",
    "    return C\n",
    "\n",
    "# Calculate C manually and compare\n",
    "C_manual = manual_matrix_multiply(A, B)\n",
    "print(\"\\nMatrix C using manual implementation:\")\n",
    "print(C_manual)\n",
    "\n",
    "# Verify that both methods produce the same result\n",
    "print(\"\\nAre results equal?\", np.array_equal(C, C_manual))\n",
    "\n",
    "# The explicit calculation for the first element c_00\n",
    "# c_00 = sum(A[0, k] * B[k, 0] for k in range(p))\n",
    "# print(f\"\\nExplicitly calculated c_00 = {c_00}\")\n",
    "# print(f\"Value from numpy: C[0, 0] = {C[0, 0]}\")"
   ]
  },
  {
   "cell_type": "markdown",
   "id": "ba6a6c6c-11f2-4427-8e69-7faec33ef72a",
   "metadata": {},
   "source": [
    "#### Transformation\n",
    "\n",
    "\n"
   ]
  },
  {
   "cell_type": "code",
   "execution_count": null,
   "id": "aa35da9f-bf6f-447f-83ff-358d67f78214",
   "metadata": {},
   "outputs": [],
   "source": []
  }
 ],
 "metadata": {
  "kernelspec": {
   "display_name": "Python 3 (ipykernel)",
   "language": "python",
   "name": "python3"
  },
  "language_info": {
   "codemirror_mode": {
    "name": "ipython",
    "version": 3
   },
   "file_extension": ".py",
   "mimetype": "text/x-python",
   "name": "python",
   "nbconvert_exporter": "python",
   "pygments_lexer": "ipython3",
   "version": "3.12.3"
  }
 },
 "nbformat": 4,
 "nbformat_minor": 5
}

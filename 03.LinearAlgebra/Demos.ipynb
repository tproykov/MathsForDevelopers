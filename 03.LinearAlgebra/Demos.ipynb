{
 "cells": [
  {
   "cell_type": "code",
   "execution_count": 5,
   "id": "800b6f6f-212e-4f2d-bc48-c4ea56bf42a5",
   "metadata": {},
   "outputs": [],
   "source": [
    "import numpy as np"
   ]
  },
  {
   "cell_type": "markdown",
   "id": "e7bf0dbe-798c-4453-98d0-feacc639fdeb",
   "metadata": {},
   "source": [
    "#### Matrix multiplications"
   ]
  },
  {
   "cell_type": "code",
   "execution_count": 6,
   "id": "bc76b61b-68b6-449e-95e9-621b89615ef7",
   "metadata": {},
   "outputs": [
    {
     "name": "stdout",
     "output_type": "stream",
     "text": [
      "Matrix C using numpy matmul:\n",
      "[[ 50  60]\n",
      " [114 140]\n",
      " [178 220]]\n",
      "\n",
      "Matrix C using manual implementation:\n",
      "[[ 50.  60.]\n",
      " [114. 140.]\n",
      " [178. 220.]]\n",
      "\n",
      "Are results equal? True\n"
     ]
    }
   ],
   "source": [
    "# Define dimensions: A is (m x p) and B is (p x n)\n",
    "m, p, n = 3, 4, 2  # You can change these values as needed\n",
    "\n",
    "# Create matrices\n",
    "A = np.array([[1, 2, 3, 4],\n",
    "              [5, 6, 7, 8],\n",
    "              [9, 10, 11, 12]])\n",
    "\n",
    "B = np.array([[1, 2],\n",
    "              [3, 4],\n",
    "              [5, 6],\n",
    "              [7, 8]]) \n",
    "\n",
    "# Method 1: Using numpy's matrix multiplication\n",
    "C = np.matmul(A, B)  # or simply: C = A @ B in modern Python\n",
    "print(\"Matrix C using numpy matmul:\")\n",
    "print(C)\n",
    "\n",
    "# Method 2: Manual implementation of the formula c_ij = sum(a_ik * b_kj) for k=1 to p\n",
    "def manual_matrix_multiply(A, B):\n",
    "    m, p = A.shape\n",
    "    p_check, n = B.shape\n",
    "    \n",
    "    if p != p_check:\n",
    "        raise ValueError(\"Matrix dimensions don't match for multiplication\")\n",
    "    \n",
    "    # Initialize result matrix C with zeros\n",
    "    C = np.zeros((m, n))\n",
    "    \n",
    "    # Implement the formula c_ij = sum(a_ik * b_kj) for k=1 to p\n",
    "    for i in range(m):\n",
    "        for j in range(n):\n",
    "            for k in range(p):\n",
    "                C[i, j] += A[i, k] * B[k, j]\n",
    "    return C\n",
    "\n",
    "# Calculate C manually and compare\n",
    "C_manual = manual_matrix_multiply(A, B)\n",
    "print(\"\\nMatrix C using manual implementation:\")\n",
    "print(C_manual)\n",
    "\n",
    "# Verify that both methods produce the same result\n",
    "print(\"\\nAre results equal?\", np.array_equal(C, C_manual))\n",
    "\n",
    "# The explicit calculation for the first element c_00\n",
    "# c_00 = sum(A[0, k] * B[k, 0] for k in range(p))\n",
    "# print(f\"\\nExplicitly calculated c_00 = {c_00}\")\n",
    "# print(f\"Value from numpy: C[0, 0] = {C[0, 0]}\")"
   ]
  },
  {
   "cell_type": "code",
   "execution_count": null,
   "id": "cafb5e07-709c-479a-aaed-15f2ccbb1800",
   "metadata": {},
   "outputs": [],
   "source": []
  }
 ],
 "metadata": {
  "kernelspec": {
   "display_name": "Python 3 (ipykernel)",
   "language": "python",
   "name": "python3"
  },
  "language_info": {
   "codemirror_mode": {
    "name": "ipython",
    "version": 3
   },
   "file_extension": ".py",
   "mimetype": "text/x-python",
   "name": "python",
   "nbconvert_exporter": "python",
   "pygments_lexer": "ipython3",
   "version": "3.12.3"
  }
 },
 "nbformat": 4,
 "nbformat_minor": 5
}

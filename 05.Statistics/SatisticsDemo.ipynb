{
 "cells": [
  {
   "cell_type": "code",
   "execution_count": 33,
   "id": "5387a924-2dcf-45c3-ade7-7c8bede7c6f0",
   "metadata": {},
   "outputs": [],
   "source": [
    "import numpy as np\n",
    "import pandas as pd\n",
    "import matplotlib.pyplot as plt"
   ]
  },
  {
   "cell_type": "markdown",
   "id": "20deb174-011a-43c6-895c-e8ef0a4bc1d5",
   "metadata": {},
   "source": [
    "# Statistics"
   ]
  },
  {
   "cell_type": "markdown",
   "id": "15863b89-bd65-4959-ac8d-f24553ccddea",
   "metadata": {},
   "source": [
    "## Live demos"
   ]
  },
  {
   "cell_type": "code",
   "execution_count": 34,
   "id": "63c08d0d-90e2-4855-a63f-99a401447864",
   "metadata": {},
   "outputs": [],
   "source": [
    "snowfall_data = pd.read_table(\"data/snowfall.csv\", header = None)"
   ]
  },
  {
   "cell_type": "code",
   "execution_count": 35,
   "id": "4e6abe6a-9c9b-44d4-bfe8-d257e71a00d9",
   "metadata": {},
   "outputs": [
    {
     "data": {
      "text/plain": [
       "pandas.core.frame.DataFrame"
      ]
     },
     "execution_count": 35,
     "metadata": {},
     "output_type": "execute_result"
    }
   ],
   "source": [
    "type(snowfall_data)"
   ]
  },
  {
   "cell_type": "code",
   "execution_count": 36,
   "id": "6f63d848-9ba7-4a1a-8dca-be6b470314dd",
   "metadata": {},
   "outputs": [],
   "source": [
    "snowfall_data.columns = [\"snowfall\"]"
   ]
  },
  {
   "cell_type": "code",
   "execution_count": 37,
   "id": "6eca638b-206f-40b0-b204-de673976e4c0",
   "metadata": {},
   "outputs": [
    {
     "data": {
      "text/html": [
       "<div>\n",
       "<style scoped>\n",
       "    .dataframe tbody tr th:only-of-type {\n",
       "        vertical-align: middle;\n",
       "    }\n",
       "\n",
       "    .dataframe tbody tr th {\n",
       "        vertical-align: top;\n",
       "    }\n",
       "\n",
       "    .dataframe thead th {\n",
       "        text-align: right;\n",
       "    }\n",
       "</style>\n",
       "<table border=\"1\" class=\"dataframe\">\n",
       "  <thead>\n",
       "    <tr style=\"text-align: right;\">\n",
       "      <th></th>\n",
       "      <th>snowfall</th>\n",
       "    </tr>\n",
       "  </thead>\n",
       "  <tbody>\n",
       "    <tr>\n",
       "      <th>0</th>\n",
       "      <td>126.4</td>\n",
       "    </tr>\n",
       "    <tr>\n",
       "      <th>1</th>\n",
       "      <td>82.4</td>\n",
       "    </tr>\n",
       "    <tr>\n",
       "      <th>2</th>\n",
       "      <td>78.1</td>\n",
       "    </tr>\n",
       "    <tr>\n",
       "      <th>3</th>\n",
       "      <td>51.1</td>\n",
       "    </tr>\n",
       "    <tr>\n",
       "      <th>4</th>\n",
       "      <td>90.9</td>\n",
       "    </tr>\n",
       "    <tr>\n",
       "      <th>...</th>\n",
       "      <td>...</td>\n",
       "    </tr>\n",
       "    <tr>\n",
       "      <th>58</th>\n",
       "      <td>66.1</td>\n",
       "    </tr>\n",
       "    <tr>\n",
       "      <th>59</th>\n",
       "      <td>78.4</td>\n",
       "    </tr>\n",
       "    <tr>\n",
       "      <th>60</th>\n",
       "      <td>120.5</td>\n",
       "    </tr>\n",
       "    <tr>\n",
       "      <th>61</th>\n",
       "      <td>97.0</td>\n",
       "    </tr>\n",
       "    <tr>\n",
       "      <th>62</th>\n",
       "      <td>110.0</td>\n",
       "    </tr>\n",
       "  </tbody>\n",
       "</table>\n",
       "<p>63 rows × 1 columns</p>\n",
       "</div>"
      ],
      "text/plain": [
       "    snowfall\n",
       "0      126.4\n",
       "1       82.4\n",
       "2       78.1\n",
       "3       51.1\n",
       "4       90.9\n",
       "..       ...\n",
       "58      66.1\n",
       "59      78.4\n",
       "60     120.5\n",
       "61      97.0\n",
       "62     110.0\n",
       "\n",
       "[63 rows x 1 columns]"
      ]
     },
     "execution_count": 37,
     "metadata": {},
     "output_type": "execute_result"
    }
   ],
   "source": [
    "snowfall_data"
   ]
  },
  {
   "cell_type": "code",
   "execution_count": 38,
   "id": "58b4323d-5852-4a1e-b772-26777007c7db",
   "metadata": {},
   "outputs": [
    {
     "data": {
      "text/plain": [
       "snowfall    80.296825\n",
       "dtype: float64"
      ]
     },
     "execution_count": 38,
     "metadata": {},
     "output_type": "execute_result"
    }
   ],
   "source": [
    "snowfall_data.mean()"
   ]
  },
  {
   "cell_type": "code",
   "execution_count": 39,
   "id": "628d5b0c-b9d1-4ed5-9dc7-c6af08a1db90",
   "metadata": {},
   "outputs": [
    {
     "data": {
      "image/png": "[encoded data removed]",
      "text/plain": [
       "<Figure size 640x480 with 1 Axes>"
      ]
     },
     "metadata": {},
     "output_type": "display_data"
    }
   ],
   "source": [
    "plt.hist(snowfall_data)\n",
    "plt.show()"
   ]
  },
  {
   "cell_type": "code",
   "execution_count": null,
   "id": "0fb567e2-c301-40ff-8e23-24ef443103a0",
   "metadata": {},
   "outputs": [],
   "source": []
  },
  {
   "cell_type": "code",
   "execution_count": null,
   "id": "c4512815-e2a9-4ce5-b7d3-720306b3dbe9",
   "metadata": {},
   "outputs": [],
   "source": []
  },
  {
   "cell_type": "code",
   "execution_count": null,
   "id": "2898ded7-70ca-4f2f-9d11-0d1bc659dbfd",
   "metadata": {},
   "outputs": [],
   "source": []
  }
 ],
 "metadata": {
  "citation-manager": {
   "items": {}
  },
  "kernelspec": {
   "display_name": "Python 3 (ipykernel)",
   "language": "python",
   "name": "python3"
  },
  "language_info": {
   "codemirror_mode": {
    "name": "ipython",
    "version": 3
   },
   "file_extension": ".py",
   "mimetype": "text/x-python",
   "name": "python",
   "nbconvert_exporter": "python",
   "pygments_lexer": "ipython3",
   "version": "3.12.3"
  }
 },
 "nbformat": 4,
 "nbformat_minor": 5
}

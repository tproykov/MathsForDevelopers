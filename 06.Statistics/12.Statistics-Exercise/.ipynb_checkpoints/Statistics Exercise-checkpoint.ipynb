{
 "cells": [
  {
   "cell_type": "code",
   "execution_count": null,
   "metadata": {},
   "outputs": [],
   "source": [
    "%matplotlib inline"
   ]
  },
  {
   "cell_type": "code",
   "execution_count": 10,
   "metadata": {},
   "outputs": [],
   "source": [
    "import numpy as np\n",
    "import matplotlib.pyplot as plt\n",
    "import pandas as pd\n",
    "from scipy import stats"
   ]
  },
  {
   "cell_type": "markdown",
   "metadata": {},
   "source": [
    "# Statistics Exercise\n",
    "## Statistical Distributions. Properties of distributions. Applications of Probability and Statistics in Computer Science"
   ]
  },
  {
   "cell_type": "markdown",
   "metadata": {},
   "source": [
    "### Problem 1. Plotting a Single Distribution. Digits in $\\pi$ and $e$\n",
    "We expect that the decimal digits in $\\pi$ and $e$ will be randomly distributed and there's no reason for any digit to dominate over others. Let's verify this.\n",
    "\n",
    "Using an algorithm, the first 10 004 digits of $\\pi$ and $e$ were generated:\n",
    "$$\n",
    "\\pi = 3.(141592 \\dots 5678)5667\n",
    "$$\n",
    "$$\n",
    "e = 2.(718281 \\dots 6788)5674\n",
    "$$\n",
    "\n",
    "The 10 000 digits in brackets were counted. You can see the results in `digits.dat`. Each column corresponds to one digit from 0 to 9. The first row is for $\\pi$ and the second row is for $e$.\n",
    "\n",
    "How are these digits distributed? Are the two distributions different?\n",
    "\n",
    "**Note:** The dataset is **not properly formatted** to work easily. You can transpose it. Now, digit counts will be in rows and variables - in columns. \n",
    "```python\n",
    "digits = pd.read_table(\"digits.dat\", header = None).T\n",
    "```\n",
    "\n",
    "You can also specify column names like this:\n",
    "```python\n",
    "digits.columns = [\"pi\", \"e\"]\n",
    "```\n",
    "\n",
    "Also note that **we are not creating the histogram of the distribution**. We already have the counts, we need to plot them. In a sense, the histogram has already been calculated.\n",
    "\n",
    "To do this, we can create a \"bar chart\" (using `plt.bar()`). We have to provide values for the x-axis and y-axis. For the x-axis, we have the numbers 0 through 9 (we can use the *index* of the dataset like this: `digits.index`). For the y-axis, we need to plot the digit counts directly.\n",
    "\n",
    "We can see that even the simplest datasets sometimes need a bit of preprocessing. This is always the case when we're working with data."
   ]
  },
  {
   "cell_type": "code",
   "execution_count": 11,
   "metadata": {},
   "outputs": [
    {
     "data": {
      "image/png": "[encoded data removed]",
      "text/plain": [
       "<Figure size 1000x600 with 1 Axes>"
      ]
     },
     "metadata": {},
     "output_type": "display_data"
    },
    {
     "name": "stdout",
     "output_type": "stream",
     "text": [
      "Counts for π:\n",
      "0     968\n",
      "1    1026\n",
      "2    1021\n",
      "3     974\n",
      "4    1012\n",
      "5    1046\n",
      "6    1021\n",
      "7     970\n",
      "8     948\n",
      "9    1014\n",
      "Name: pi, dtype: int64\n",
      "Mean count for π: 1000.0\n",
      "Standard deviation for π: 32.2\n",
      "\n",
      "Counts for e:\n",
      "0     974\n",
      "1     989\n",
      "2    1004\n",
      "3    1008\n",
      "4     982\n",
      "5     992\n",
      "6    1079\n",
      "7    1008\n",
      "8     996\n",
      "9     968\n",
      "Name: e, dtype: int64\n",
      "Mean count for e: 1000.0\n",
      "Standard deviation for e: 30.9\n",
      "\n",
      "Difference in means: 0.0\n"
     ]
    }
   ],
   "source": [
    "digits = pd.read_table(\"digits.dat\", header=None).T\n",
    "digits.columns = [\"pi\", \"e\"]\n",
    "\n",
    "plt.figure(figsize=(10, 6))\n",
    "\n",
    "x_positions = digits.index\n",
    "width = 0.35\n",
    "plt.bar(x_positions - width/2, digits[\"pi\"], width, label = 'π', alpha=0.7)\n",
    "plt.bar(x_positions + width/2, digits[\"e\"], width, label = 'e', alpha=0.7)\n",
    "\n",
    "plt.xlabel('Digit')\n",
    "plt.ylabel('Count')\n",
    "plt.title('Distribution of Digits in π and e - first 10 000 digits after the decimal point')\n",
    "plt.xticks(x_positions)\n",
    "plt.legend()\n",
    "plt.grid(axis='y', alpha=0.3)\n",
    "plt.tight_layout()\n",
    "plt.show()\n",
    "\n",
    "print(\"Counts for π:\")\n",
    "print(digits[\"pi\"])\n",
    "print(f\"Mean count for π: {digits['pi'].mean():.1f}\")\n",
    "print(f\"Standard deviation for π: {digits['pi'].std():.1f}\")\n",
    "\n",
    "print(\"\\nCounts for e:\")\n",
    "print(digits[\"e\"]) \n",
    "print(f\"Mean count for e: {digits['e'].mean():.1f}\")\n",
    "print(f\"Standard deviation for e: {digits['e'].std():.1f}\")\n",
    "\n",
    "print(f\"\\nDifference in means: {abs(digits['pi'].mean() - digits['e'].mean()):.1f}\")"
   ]
  },
  {
   "cell_type": "markdown",
   "metadata": {},
   "source": [
    "Let's try something else. Scientists have measured the percentage of silica ($\\text{SiO}_2$, sand / glass) for 22 meteors. You can find it in `silica.dat`. How are these distributed? What is a \"typical\" percentage? Is there such percentage at all?\n",
    "\n",
    "Print the mean, standard deviation (you can use the biased or unbiased formula), skewness and kurtosis of the distribution. What do these numbers tell you? How do they relateto the shape of the distribution? Can you characterize the distribution better? (An idea would be to characterize different parts of it on their own, as if they're different distributions.)"
   ]
  },
  {
   "cell_type": "code",
   "execution_count": 12,
   "metadata": {},
   "outputs": [
    {
     "name": "stdout",
     "output_type": "stream",
     "text": [
      "SILICA DISTRIBUTION STATISTICS\n",
      "========================================\n",
      "Sample size: 22\n",
      "Mean: 29.17%\n",
      "Standard deviation (unbiased): 4.29%\n",
      "Standard deviation (biased): 4.19%\n",
      "Skewness: -0.415\n",
      "Kurtosis (excess): -0.988\n",
      "Median: 29.02%\n",
      "Range: 20.77% to 34.82%\n",
      "\n",
      "INTERPRETATION:\n",
      "========================================\n",
      "Skewness (-0.415): approximately symmetric\n",
      "Kurtosis (-0.988): flatter than normal with lighter tails (platykurtic)\n"
     ]
    },
    {
     "data": {
      "image/png": "[encoded data removed]",
      "text/plain": [
       "<Figure size 1500x600 with 2 Axes>"
      ]
     },
     "metadata": {},
     "output_type": "display_data"
    },
    {
     "name": "stdout",
     "output_type": "stream",
     "text": [
      "\n",
      "DISTRIBUTION ANALYSIS:\n",
      "========================================\n",
      "Sorted values:\n",
      " 1:  20.8%\n",
      " 2:  22.6%\n",
      " 3:  22.7%\n",
      " 4:  23.0%\n",
      " 5:  26.4%\n",
      " 6:  27.1%\n",
      " 7:  27.3%\n",
      " 8:  27.3%\n",
      " 9:  27.6%\n",
      "10:  27.8%\n",
      "11:  28.7%\n",
      "12:  29.4%\n",
      "13:  30.2%\n",
      "14:  31.9%\n",
      "15:  32.9%\n",
      "16:  33.2%\n",
      "17:  33.3%\n",
      "18:  33.4%\n",
      "19:  33.5%\n",
      "20:  33.8%\n",
      "21:  34.0%\n",
      "22:  34.8%\n",
      "\n",
      "QUARTILE ANALYSIS:\n",
      "Q1 (25th percentile): 27.1%\n",
      "Q2 (50th percentile/median): 29.0%\n",
      "Q3 (75th percentile): 33.3%\n",
      "Interquartile Range (IQR): 6.1%\n",
      "\n",
      "No outliers detected using 1.5×IQR rule\n",
      "\n",
      "SUBGROUP ANALYSIS:\n",
      "========================================\n",
      "No obvious natural splits detected in the data.\n",
      "\n",
      "CONCLUSION:\n",
      "========================================\n",
      "The 'typical' silica percentage is around 29.2% (mean) or 29.0% (median).\n",
      "However, with a standard deviation of 4.3%, there's considerable variation.\n",
      "The range spans from 20.8% to 34.8% - a 14.1% spread.\n"
     ]
    }
   ],
   "source": [
    "silica = pd.read_table(\"silica.dat\", header = None)\n",
    "silica_values = silica.iloc[:, 0]\n",
    "\n",
    "mean_val = silica_values.mean()\n",
    "std_val = silica_values.std()  # Default is unbiased (ddof=1)\n",
    "std_biased = silica_values.std(ddof=0)  # Biased version\n",
    "skewness = stats.skew(silica_values)\n",
    "kurt = stats.kurtosis(silica_values)\n",
    "\n",
    "# --------------------------------------------\n",
    "print(\"Silica Distribution Statistics\")\n",
    "print(\"=\" * 40)\n",
    "print(f\"Sample size: {len(silica_values)}\")\n",
    "print(f\"Mean: {mean_val:.2f}%\")\n",
    "print(f\"Median: {silica_values.median():.2f}%\")\n",
    "print(f\"Range: {silica_values.min():.2f}% to {silica_values.max():.2f}%\")\n",
    "print(f\"Standard deviation (unbiased): {std_val:.2f}%\")\n",
    "print(f\"Standard deviation (biased): {std_biased:.2f}%\")\n",
    "print(f\"Skewness: {skewness:.3f}\")\n",
    "print(f\"Kurtosis: {kurt:.3f}\")\n",
    "\n",
    "# Interpretation of statistics\n",
    "print(\"\\nINTERPRETATION:\")\n",
    "print(\"=\" * 40)\n",
    "if abs(skewness) < 0.5:\n",
    "    skew_interp = \"approximately symmetric\"\n",
    "elif skewness > 0.5:\n",
    "    skew_interp = \"right-skewed (positive skew) - tail extends toward higher values\"\n",
    "else:\n",
    "    skew_interp = \"left-skewed (negative skew) - tail extends toward lower values\"\n",
    "\n",
    "if abs(kurt) < 0.5:\n",
    "    kurt_interp = \"similar to normal distribution (mesokurtic)\"\n",
    "elif kurt > 0.5:\n",
    "    kurt_interp = \"more peaked than normal with heavier tails (leptokurtic)\"\n",
    "else:\n",
    "    kurt_interp = \"flatter than normal with lighter tails (platykurtic)\"\n",
    "\n",
    "print(f\"Skewness ({skewness:.3f}): {skew_interp}\")\n",
    "print(f\"Kurtosis ({kurt:.3f}): {kurt_interp}\")\n",
    "\n",
    "# Create visualization\n",
    "fig, (ax1, ax2) = plt.subplots(1, 2, figsize=(15, 6))\n",
    "\n",
    "# Histogram\n",
    "ax1.hist(silica_values, bins=8, alpha=0.7, color='skyblue', edgecolor='black')\n",
    "ax1.axvline(mean_val, color='red', linestyle='--', linewidth=2, label=f'Mean: {mean_val:.1f}%')\n",
    "ax1.axvline(silica_values.median(), color='green', linestyle='--', linewidth=2, label=f'Median: {silica_values.median():.1f}%')\n",
    "ax1.set_xlabel('Silica Percentage (%)')\n",
    "ax1.set_ylabel('Frequency')\n",
    "ax1.set_title('Distribution of Silica in Meteors')\n",
    "ax1.legend()\n",
    "ax1.grid(axis='y', alpha=0.3)\n",
    "\n",
    "# Box plot\n",
    "ax2.boxplot(silica_values, vert=True)\n",
    "ax2.set_ylabel('Silica Percentage (%)')\n",
    "ax2.set_title('Box Plot of Silica Distribution')\n",
    "ax2.grid(axis='y', alpha=0.3)\n",
    "\n",
    "plt.tight_layout()\n",
    "plt.show()\n",
    "\n",
    "# Check for potential subgroups/multimodality\n",
    "print(\"\\nDISTRIBUTION ANALYSIS:\")\n",
    "print(\"=\" * 40)\n",
    "\n",
    "# Sort values for easier analysis\n",
    "sorted_values = np.sort(silica_values)\n",
    "print(\"Sorted values:\")\n",
    "for i, val in enumerate(sorted_values):\n",
    "    print(f\"{i+1:2d}: {val:5.1f}%\")\n",
    "\n",
    "# Look for potential gaps or clusters\n",
    "gaps = []\n",
    "for i in range(1, len(sorted_values)):\n",
    "    gap = sorted_values[i] - sorted_values[i-1]\n",
    "    if gap > std_val:  # Large gap (more than 1 std dev)\n",
    "        gaps.append((i, gap, sorted_values[i-1], sorted_values[i]))\n",
    "\n",
    "if gaps:\n",
    "    print(f\"\\nLarge gaps (>{std_val:.1f}%) found:\")\n",
    "    for i, gap, val1, val2 in gaps:\n",
    "        print(f\"  Gap of {gap:.1f}% between {val1:.1f}% and {val2:.1f}%\")\n",
    "\n",
    "# Quartile analysis\n",
    "q1 = silica_values.quantile(0.25)\n",
    "q2 = silica_values.quantile(0.5)  # median\n",
    "q3 = silica_values.quantile(0.75)\n",
    "iqr = q3 - q1\n",
    "\n",
    "print(f\"\\nQUARTILE ANALYSIS:\")\n",
    "print(f\"Q1 (25th percentile): {q1:.1f}%\")\n",
    "print(f\"Q2 (50th percentile/median): {q2:.1f}%\")\n",
    "print(f\"Q3 (75th percentile): {q3:.1f}%\")\n",
    "print(f\"Interquartile Range (IQR): {iqr:.1f}%\")\n",
    "\n",
    "# Check for outliers\n",
    "outlier_threshold_low = q1 - 1.5 * iqr\n",
    "outlier_threshold_high = q3 + 1.5 * iqr\n",
    "outliers = silica_values[(silica_values < outlier_threshold_low) | (silica_values > outlier_threshold_high)]\n",
    "\n",
    "if len(outliers) > 0:\n",
    "    print(f\"\\nPotential outliers (beyond 1.5×IQR):\")\n",
    "    for outlier in outliers:\n",
    "        print(f\"  {outlier:.1f}%\")\n",
    "else:\n",
    "    print(f\"\\nNo outliers detected using 1.5×IQR rule\")\n",
    "\n",
    "# Attempt to identify subgroups\n",
    "print(f\"\\nSUBGROUP ANALYSIS:\")\n",
    "print(\"=\" * 40)\n",
    "\n",
    "# Simple approach: split at natural breaks\n",
    "if len(gaps) > 0:\n",
    "    print(\"Potential subgroups based on large gaps:\")\n",
    "    # Split at the largest gap\n",
    "    largest_gap = max(gaps, key=lambda x: x[1])\n",
    "    split_point = largest_gap[2]  # Value before the gap\n",
    "    \n",
    "    group1 = silica_values[silica_values <= split_point]\n",
    "    group2 = silica_values[silica_values > split_point]\n",
    "    \n",
    "    print(f\"Group 1 (≤{split_point:.1f}%): {len(group1)} meteors\")\n",
    "    print(f\"  Mean: {group1.mean():.1f}%, Std: {group1.std():.1f}%\")\n",
    "    print(f\"  Range: {group1.min():.1f}% to {group1.max():.1f}%\")\n",
    "    \n",
    "    print(f\"Group 2 (>{split_point:.1f}%): {len(group2)} meteors\")\n",
    "    print(f\"  Mean: {group2.mean():.1f}%, Std: {group2.std():.1f}%\")\n",
    "    print(f\"  Range: {group2.min():.1f}% to {group2.max():.1f}%\")\n",
    "else:\n",
    "    print(\"No obvious natural splits detected in the data.\")\n",
    "\n",
    "print(f\"\\nCONCLUSION:\")\n",
    "print(\"=\" * 40)\n",
    "print(f\"The 'typical' silica percentage is around {mean_val:.1f}% (mean) or {silica_values.median():.1f}% (median).\")\n",
    "if abs(mean_val - silica_values.median()) > 2:\n",
    "    print(f\"The difference between mean and median ({abs(mean_val - silica_values.median()):.1f}%) suggests asymmetry.\")\n",
    "print(f\"However, with a standard deviation of {std_val:.1f}%, there's considerable variation.\")\n",
    "print(f\"The range spans from {silica_values.min():.1f}% to {silica_values.max():.1f}% - a {silica_values.max() - silica_values.min():.1f}% spread.\")"
   ]
  },
  {
   "cell_type": "markdown",
   "metadata": {},
   "source": [
    "### Problem 2. Categorical Variables. Comparing Categories\n",
    "In addition to numeric variables (like age and salary), in statistics we also use **categorical variables**. These are descriptions of quality (as opposed to quantity). Such variables can be gender, smoker / non-smoker, results of a medical study (healthy / not healthy), colors (red, green, blue), etc. To plot values of categories, we use *bar charts*. Since category names can be long, it's sometimes useful to plot the lines horizontally.\n",
    "\n",
    "<p style=\"color: #d9534f\"><strong>There is a very significant difference between histograms and bar charts. Histograms are used to plot the frequency distribution of one numeric variable. Bar charts are used to plot categorical variables - how each value compares to other values.</strong></p>\n",
    "\n",
    "The dataset `budget.dat` contains the figures for the eight main items in the US budget for 1978 and 1979 in billions\n",
    "of dollars.\n",
    "\n",
    "Display the two budgets separately. Use `xlabel()` (or `ylabel()` if your plot is horizontal) to write the names of each category. You can use [this](https://matplotlib.org/examples/pylab_examples/barchart_demo.html) and [this](https://matplotlib.org/examples/pylab_examples/barchart_demo2.html) examples as a guide.\n",
    "\n",
    "Create another variable which shows the difference in budget $\\Delta b = b_{1979} - b_{1978}$. Add this variable to the dataset (find out how). Plot it. How does the budget differ?\n",
    "\n",
    "Since the numbers are different, a better comparison will be if we convert them to percentages of the total budget. Create two more variables for 1978 and 1979 and add them to the dataset. Plot these now. Also plot the difference in percentage, like you did before."
   ]
  },
  {
   "cell_type": "code",
   "execution_count": null,
   "metadata": {
    "collapsed": true,
    "jupyter": {
     "outputs_hidden": true
    }
   },
   "outputs": [],
   "source": [
    "# Write your code here"
   ]
  },
  {
   "cell_type": "markdown",
   "metadata": {},
   "source": [
    "### Problem 3. Correlations between Variables. Alcohol and Tobacco Usage\n",
    "The dataset `alcohol_tobacco.dat` shows the average weekly household spending, in British pounds, on tobacco products and alcoholic beverages for each of the 11 regions of Great Britain.\n",
    "\n",
    "Create a scatter plot. Print the correlation coefficient. You can use the **correlation matrix** (find out how).\n",
    "\n",
    "There's a major outlier. Which one is it?\n",
    "\n",
    "Remove the outlier from the dataset (find out how). Calculate the correlation coefficient once again. It should be much higher.\n",
    "\n",
    "This example is useful to show what an outlier is, and how an outlier can influence the results of an experiment.\n",
    "\n",
    "**Note:** Be careful with outliers. Sometimes they indicate human error (e.g. human height 1588 cm is obviously wrong) but sometimes they indicate important patterns in the data. Should you remove, replace, or leave them is a difficult question and should be answered separately for each dataset."
   ]
  },
  {
   "cell_type": "code",
   "execution_count": null,
   "metadata": {
    "collapsed": true,
    "jupyter": {
     "outputs_hidden": true
    }
   },
   "outputs": [],
   "source": [
    "# Write your code here"
   ]
  },
  {
   "cell_type": "markdown",
   "metadata": {},
   "source": [
    "### Problem 4. Simulation\n",
    "Another prediction technique based on statistics, is simulation. This means recreating a system's parameters and running the experiment on a computer instead of running it in real life. Simulation can give us many insights. It's useful for prediction, \"what-if\" analysis, etc. It's also very useful if we have very limited \"real experimentation\" resources and want to narrow down our possibilities.\n",
    "\n",
    "Let's see how we can simulate the profit of a grocery shop.\n",
    "\n",
    "The profit is dependent on the customers and what items they buy. Let's assume that the number of customers per months follows a normal distribution with mean 500 and standard deviation 20.\n",
    "\n",
    "$$ C \\sim N(500, 20) $$\n",
    "\n",
    "In the shop, there are several items, each having a different popularity. The popularity represents the probability of buying each item.\n",
    "\n",
    "| Item               | Price | Popularity |\n",
    "|--------------------|-------|------------|\n",
    "| Bread              | 0.99  | 0.5        |\n",
    "| Milk               | 2.89  | 0.15       |\n",
    "| Eggs, dozen        | 2.00  | 0.2        |\n",
    "| Chicken fillet, kg | 6.39  | 0.15       |\n",
    "\n",
    "Each customer buys *exactly one* article at random. Each customer will generate an expected profit equal to $\\text{price} . \\text{popularity}$. Total profit: sum of all profits."
   ]
  },
  {
   "cell_type": "code",
   "execution_count": null,
   "metadata": {
    "collapsed": true,
    "jupyter": {
     "outputs_hidden": true
    }
   },
   "outputs": [],
   "source": [
    "def get_customer_profit():\n",
    "    n = np.random.random()\n",
    "    if n <= 0.5:\n",
    "        return 0.99\n",
    "    elif n < 0.65:\n",
    "        return 2.89\n",
    "    elif n <= 0.85:\n",
    "        return 2\n",
    "    else:\n",
    "        return 6.39"
   ]
  },
  {
   "cell_type": "code",
   "execution_count": null,
   "metadata": {
    "collapsed": true,
    "jupyter": {
     "outputs_hidden": true
    }
   },
   "outputs": [],
   "source": [
    "days = 1000\n",
    "def run_simulation():\n",
    "    profits = []\n",
    "    for day in range(days):\n",
    "        customers = np.floor(np.random.normal(500, 20))\n",
    "        profit = sum([get_customer_profit() for c in np.arange(customers)])\n",
    "        profits.append(profit)\n",
    "    return profits"
   ]
  },
  {
   "cell_type": "code",
   "execution_count": null,
   "metadata": {},
   "outputs": [],
   "source": [
    "profits = run_simulation()\n",
    "plt.hist(profits, bins = 50)\n",
    "plt.xlabel(\"Profit for \" + str(days) + \" days [$]\")\n",
    "plt.ylabel(\"Count\")\n",
    "plt.show()"
   ]
  },
  {
   "cell_type": "markdown",
   "metadata": {},
   "source": [
    "Now we can answer questions like:\n",
    "* What's the probability of profit less than \\$1100? \n",
    "* What's the probability of profit between \\$1300 and \\$1400?\n",
    "\n",
    "We can also change our model. Let's suppose now that one customer can take 1, 2 or 3 items, with probabilities 0.5, 0.3 and 0.2 respectively. The picked items are independent. How does this change the distribution?"
   ]
  },
  {
   "cell_type": "code",
   "execution_count": null,
   "metadata": {
    "collapsed": true,
    "jupyter": {
     "outputs_hidden": true
    }
   },
   "outputs": [],
   "source": [
    "def get_customer_profit_many_items(items = 1):\n",
    "    customer_sum = sum([get_customer_profit() for i in range(items)])\n",
    "    return customer_sum\n",
    "\n",
    "def get_total_customer_profit():\n",
    "    n = np.random.random()\n",
    "    if n <= 0.5:\n",
    "        return get_customer_profit_many_items(1)\n",
    "    elif n <= 0.8:\n",
    "        return get_customer_profit_many_items(2)\n",
    "    else:\n",
    "        return get_customer_profit_many_items(3)"
   ]
  },
  {
   "cell_type": "code",
   "execution_count": null,
   "metadata": {
    "collapsed": true,
    "jupyter": {
     "outputs_hidden": true
    }
   },
   "outputs": [],
   "source": [
    "def run_simulation_many_items():\n",
    "    days = 1000\n",
    "    profits_many_items = []\n",
    "    for day in range(days):\n",
    "        customers = np.floor(np.random.normal(500, 20))\n",
    "        profit = sum([get_total_customer_profit() for c in np.arange(customers)])\n",
    "        profits_many_items.append(profit)\n",
    "    return profits_many_items"
   ]
  },
  {
   "cell_type": "code",
   "execution_count": null,
   "metadata": {},
   "outputs": [],
   "source": [
    "profits_many_items = run_simulation_many_items()\n",
    "plt.hist(profits_many_items, bins = 50)\n",
    "plt.xlabel(\"Profit for \" + str(days) + \" days [$]\")\n",
    "plt.ylabel(\"Count\")\n",
    "plt.show()"
   ]
  },
  {
   "cell_type": "code",
   "execution_count": null,
   "metadata": {},
   "outputs": [],
   "source": [
    "plt.title(\"Comparison of profits: 1 vs 3 items\")\n",
    "plt.hist(profits, bins = 20)\n",
    "plt.hist(profits_many_items, bins = 20)\n",
    "plt.xlabel(\"Profit\")\n",
    "plt.ylabel(\"Count\")\n",
    "plt.show()"
   ]
  },
  {
   "cell_type": "markdown",
   "metadata": {},
   "source": [
    "### ** Problem 5. Monte Carlo Simulation\n",
    "One common technique to apply simulations is called **Monte Carlo simulation**. It's similar to the simulation from the previous example. The main idea is to use random sampling to solve deterministic problems.\n",
    "\n",
    "Research what these simulations are. Give examples. Implement at least one case of a Monte Carlo simulation. You can use the following checklist to help with your research and work:\n",
    "* What is a simulation?\n",
    "    * How is simulation used in science?\n",
    "    * Why is a simulation useful?\n",
    "* How are statistics useful in simulation? How can we simulate unknown, random processes?\n",
    "* What is a Monte Carlo simulation (also known as \"Monte Carlo method\")?\n",
    "* A common use of Monte Carlo methods is numeric integration\n",
    "    * Define the problem. Propose the solution. Implement it and test with some common functions\n",
    "    * How does this method compare to other methods, e.g. the trapezoidal rule? Compare the performance (accuracy and time to execute) of both methods\n",
    "* Apply Monte Carlo simulation to a real-life system. There are many examples. You can see [Wikipedia](https://en.wikipedia.org/wiki/Monte_Carlo_method#Applications) or some other resource for inspiration."
   ]
  },
  {
   "cell_type": "markdown",
   "metadata": {},
   "source": [
    "### ** Problem 6. Probabilistic Data Structures\n",
    "A very interesting application of probability in computer science is a kind of data structures which have a probabilistic behaviour. Examples of these are **Bloom filter**, **Skip list**, **Count-min sketch** and **HyperLogLog**.\n",
    "\n",
    "Research how one of these structures works. Or write about many of them, if you wish. You can use the following checklist as a guide:\n",
    "* What is a data structure? \n",
    "* What is a probabilistic data structure?\n",
    "    * Where does the probabilistic behaviour emerge?\n",
    "    * What advantages do these structures provide?\n",
    "* For your chosen structure, how is it constructed?\n",
    "    * What parts do you need? What are the details?\n",
    "* How does the structure work?\n",
    "    * What operations can you do?\n",
    "    * What are the typical probabilities associated with these operations?\n",
    "* Analyze the structure\n",
    "    * Analyze the runtimes for all operations\n",
    "    * Analyze the space usage\n",
    "    * Compare to a similar, non-probabilistic data structure\n",
    "    * What advantages does the new data structure have? What drawbacks do you need to be aware of?\n",
    "* Give at least one example where this structure is useful\n",
    "    * E.g. Bloom filter - spell checkers\n",
    "    * Analyze the use case\n",
    "    * If possible, implement the use case\n",
    "    * Display some metrics (e.g. % conserved space, % reduced time)"
   ]
  }
 ],
 "metadata": {
  "citation-manager": {
   "items": {}
  },
  "kernelspec": {
   "display_name": "Python 3 (ipykernel)",
   "language": "python",
   "name": "python3"
  },
  "language_info": {
   "codemirror_mode": {
    "name": "ipython",
    "version": 3
   },
   "file_extension": ".py",
   "mimetype": "text/x-python",
   "name": "python",
   "nbconvert_exporter": "python",
   "pygments_lexer": "ipython3",
   "version": "3.12.3"
  }
 },
 "nbformat": 4,
 "nbformat_minor": 4
}

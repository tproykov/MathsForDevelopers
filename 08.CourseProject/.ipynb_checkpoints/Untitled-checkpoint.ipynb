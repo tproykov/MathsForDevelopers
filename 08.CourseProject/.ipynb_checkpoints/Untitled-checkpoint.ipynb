{
 "cells": [
  {
   "cell_type": "code",
   "execution_count": null,
   "id": "7c545796-32f0-4f14-a586-e33eaea1216d",
   "metadata": {},
   "outputs": [],
   "source": []
  },
  {
   "cell_type": "markdown",
   "id": "a6c22d2f-56b3-4770-8a36-cf0a77a3d225",
   "metadata": {},
   "source": [
    "# Fake News Detection with TF-IDF and Logistic Regression\n",
    "\n",
    "This notebook shows how to:\n",
    "1. Load a CSV dataset of news articles.\n",
    "2. Preprocess and combine title/text.\n",
    "3. Compute TF-IDF features.\n",
    "4. Train a Logistic Regression classifier.\n",
    "5. Evaluate accuracy and confusion matrix.\n",
    "\n",
    "---\n",
    "\n",
    "## 1. Install and Import Libraries\n",
    "If you don’t already have the required packages, uncomment and run the pip installs below.\n"
   ]
  },
  {
   "cell_type": "code",
   "execution_count": null,
   "id": "5aa121e3-790e-482e-b776-e0bbb8fc51a1",
   "metadata": {},
   "outputs": [],
   "source": [
    "# Uncomment if needed:\n",
    "# !pip install pandas scikit-learn matplotlib\n"
   ]
  },
  {
   "cell_type": "code",
   "execution_count": null,
   "id": "208fe8ee-c88b-4e3b-af9b-06606765e11e",
   "metadata": {},
   "outputs": [],
   "source": [
    "import pandas as pd\n",
    "import numpy as np\n",
    "from sklearn.feature_extraction.text import TfidfVectorizer\n",
    "from sklearn.model_selection import train_test_split\n",
    "from sklearn.linear_model import LogisticRegression\n",
    "from sklearn.metrics import accuracy_score, confusion_matrix, classification_report\n",
    "import matplotlib.pyplot as plt\n",
    "%matplotlib inline\n"
   ]
  },
  {
   "cell_type": "markdown",
   "id": "622acdb2-091f-4795-9530-9ca2f8b7ce89",
   "metadata": {},
   "source": [
    "## 2. Load and Inspect the Dataset\n",
    "\n",
    "- Place your CSV (e.g. `train.csv`) in the same folder as this notebook.\n",
    "- The CSV must have columns: `id`, `title`, `author`, `text`, `label`  \n",
    "  where `label` is 0 for real news, 1 for fake news.\n"
   ]
  },
  {
   "cell_type": "code",
   "execution_count": null,
   "id": "27462d19-a3c6-439c-9386-587c3d97a161",
   "metadata": {},
   "outputs": [],
   "source": [
    "# Adjust the filename/path if necessary\n",
    "DATA_PATH = \"train.csv\"\n",
    "\n",
    "# Load the dataset\n",
    "df = pd.read_csv(DATA_PATH)\n",
    "\n",
    "# Quick overview\n",
    "print(f\"Total rows: {df.shape[0]}, columns: {df.shape[1]}\")\n",
    "print(df.head(3))\n"
   ]
  },
  {
   "cell_type": "markdown",
   "id": "3c85069d-e2e7-4791-9219-4b0bdd28f225",
   "metadata": {},
   "source": [
    "### 2.1. Handle Missing Values and Combine Text\n",
    "\n",
    "- Fill any missing `title` or `text` with an empty string.\n",
    "- Create a new column `content = title + \" \" + text`.\n"
   ]
  },
  {
   "cell_type": "code",
   "execution_count": null,
   "id": "b520f7ba-4db0-4693-abcc-9056d83403ec",
   "metadata": {},
   "outputs": [],
   "source": [
    "df['title'] = df['title'].fillna('')\n",
    "df['text']  = df['text'].fillna('')\n",
    "df['content'] = df['title'] + \" \" + df['text']\n",
    "\n",
    "# Confirm\n",
    "print(df[['content','label']].sample(3))\n"
   ]
  },
  {
   "cell_type": "markdown",
   "id": "d0d35f3c-6f77-4ff7-b663-8600f3689680",
   "metadata": {},
   "source": [
    "## 3. TF-IDF Vectorization\n",
    "\n",
    "- We use `TfidfVectorizer` to convert each `content` into a sparse TF-IDF feature vector.\n",
    "- We remove English stopwords and limit to the top 5,000 features.\n"
   ]
  },
  {
   "cell_type": "code",
   "execution_count": null,
   "id": "627b5596-62f9-450b-bef5-cd06cf3cc592",
   "metadata": {},
   "outputs": [],
   "source": [
    "vectorizer = TfidfVectorizer(\n",
    "    stop_words='english',\n",
    "    max_features=5000  # keep the 5,000 most frequent terms\n",
    ")\n",
    "\n",
    "# Fit on entire corpus and transform\n",
    "X = vectorizer.fit_transform(df['content'])\n",
    "y = df['label'].values\n",
    "\n",
    "print(f\"TF-IDF matrix shape: {X.shape}\")\n",
    "# e.g., (number_of_articles, 5000)\n"
   ]
  },
  {
   "cell_type": "markdown",
   "id": "128c8412-912d-4eb3-80a1-690b32bcc8c1",
   "metadata": {},
   "source": [
    "## 4. Train/Test Split\n",
    "\n",
    "- Split data into 80% training and 20% testing.\n",
    "- Set a `random_state` for reproducibility.\n"
   ]
  },
  {
   "cell_type": "code",
   "execution_count": null,
   "id": "77368056-e896-4d83-aca8-43ccaf0c0006",
   "metadata": {},
   "outputs": [],
   "source": [
    "X_train, X_test, y_train, y_test = train_test_split(\n",
    "    X, y, test_size=0.20, random_state=42\n",
    ")\n",
    "\n",
    "print(\"Training set:\", X_train.shape, y_train.shape)\n",
    "print(\"Test set:\",     X_test.shape,  y_test.shape)\n"
   ]
  },
  {
   "cell_type": "markdown",
   "id": "d2b49063-0a0d-4b5c-bae4-be4a38443614",
   "metadata": {},
   "source": [
    "## 5. Train Logistic Regression Model\n",
    "\n",
    "- Initialize `LogisticRegression` with a higher `max_iter` to ensure convergence on sparse high-dimensional data.\n"
   ]
  },
  {
   "cell_type": "code",
   "execution_count": null,
   "id": "cf01ec7f-a9a9-4db7-950c-1e043e43f473",
   "metadata": {},
   "outputs": [],
   "source": []
  },
  {
   "cell_type": "code",
   "execution_count": null,
   "id": "37794cf6-0db9-4892-a4e6-1ef0fbd5f993",
   "metadata": {},
   "outputs": [],
   "source": []
  },
  {
   "cell_type": "code",
   "execution_count": null,
   "id": "db61423f-8ad2-4951-964f-785f0925c5ef",
   "metadata": {},
   "outputs": [],
   "source": []
  },
  {
   "cell_type": "code",
   "execution_count": null,
   "id": "4894b751-e1e3-4acf-8543-505345970619",
   "metadata": {},
   "outputs": [],
   "source": []
  },
  {
   "cell_type": "code",
   "execution_count": null,
   "id": "6058261f-3c17-4027-99f7-c32eecdce833",
   "metadata": {},
   "outputs": [],
   "source": []
  }
 ],
 "metadata": {
  "citation-manager": {
   "items": {}
  },
  "kernelspec": {
   "display_name": "Python 3 (ipykernel)",
   "language": "python",
   "name": "python3"
  },
  "language_info": {
   "codemirror_mode": {
    "name": "ipython",
    "version": 3
   },
   "file_extension": ".py",
   "mimetype": "text/x-python",
   "name": "python",
   "nbconvert_exporter": "python",
   "pygments_lexer": "ipython3",
   "version": "3.12.3"
  }
 },
 "nbformat": 4,
 "nbformat_minor": 5
}

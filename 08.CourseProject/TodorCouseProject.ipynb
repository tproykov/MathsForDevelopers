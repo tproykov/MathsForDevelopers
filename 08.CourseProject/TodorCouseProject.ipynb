{
 "cells": [
  {
   "cell_type": "code",
   "execution_count": 4,
   "id": "f0f3b446-5b25-4330-bb2e-ad192c8dc931",
   "metadata": {},
   "outputs": [],
   "source": [
    "import numpy as np"
   ]
  },
  {
   "cell_type": "markdown",
   "id": "fb0a3c74-8813-4acf-a8a4-ea81082b373a",
   "metadata": {},
   "source": [
    "# \n",
    "\n",
    "---\n",
    "\n",
    "## 🧭 1.1 Формулиране на изследователски въпрос\n",
    "\n",
    "> **Как можем да използваме математически модели за измерване на семантично сходство между текстове, с цел предварителна фактологична проверка (fact-checking)?**\n",
    "\n",
    "Целта на този проект е да приложи класически математически инструменти (TF-IDF, векторно представяне, косинусова прилика) за сравнение на текстове и оценка на тяхната прилика. Проектът се фокусира върху математиката, а не върху машинното обучение.\n",
    "\n",
    "---\n",
    "\n",
    "## 🧠 1.2 Методи за семантично сравнение на текст\n",
    "\n",
    "### 🔹 Term Frequency (TF)\n",
    "\n",
    "\\[\n",
    "TF(t, d) = \\frac{f_{t,d}}{\\sum_k f_{k,d}}\n",
    "\\]\n",
    "\n",
    "- \\( f_{t,d} \\): честота на дума _t_ в документ _d_  \n",
    "- \\( \\sum_k f_{k,d} \\): общ брой думи в документа\n",
    "\n",
    "---\n",
    "\n",
    "### 🔹 Inverse Document Frequency (IDF)\n",
    "\n",
    "\\[\n",
    "IDF(t, D) = \\log\\left( \\frac{N}{1 + |\\{d \\in D : t \\in d\\}|} \\right)\n",
    "\\]\n",
    "\n",
    "- \\( N \\): общ брой документи  \n",
    "- \\( |\\{d \\in D : t \\in d\\}| \\): брой документи, съдържащи думата _t_\n",
    "\n",
    "---\n",
    "\n",
    "### 🔹 TF–IDF\n",
    "\n",
    "\\[\n",
    "TF\\text{-}IDF(t, d, D) = TF(t,d) \\times IDF(t,D)\n",
    "\\]\n",
    "\n",
    "Тази стойност оценява колко важна е дадена дума за конкретен документ в контекста на цялата колекция.\n",
    "\n",
    "---\n",
    "\n",
    "## 📐 1.3 Векторно представяне и косинусова прилика\n",
    "\n",
    "След изчисляване на TF-IDF, всеки документ може да бъде представен като вектор. Сходството между два вектора \\( \\vec{A} \\) и \\( \\vec{B} \\) се измерва чрез:\n",
    "\n",
    "\\[\n",
    "\\cos(\\theta) = \\frac{\\vec{A} \\cdot \\vec{B}}{||\\vec{A}|| \\cdot ||\\vec{B}||}\n",
    "\\]\n",
    "\n",
    "- \\( \\vec{A} \\cdot \\vec{B} \\): скаларно произведение  \n",
    "- \\( ||\\vec{A}|| \\): Евклидова норма на вектор _A_\n",
    "\n",
    "---\n",
    "\n",
    "## 🧮 1.4 Математически основи\n",
    "\n",
    "| Концепт                  | Приложение                                                 |\n",
    "|--------------------------|------------------------------------------------------------|\n",
    "| Вектори                  | Представяне на документи като числови редове               |\n",
    "| Скаларно произведение    | Оценка на близост между текстове                          |\n",
    "| Евклидова норма          | Нормализиране и изчисление на косинусова прилика           |\n",
    "| Логаритми                | Компонент от формулата за IDF                             |\n",
    "| Матрици                  | Представяне на множество документи (TF-IDF матрица)        |\n",
    "\n",
    "---\n",
    "\n",
    "## 🧱 1.5 Структура на проекта\n",
    "\n",
    "1. **Въведение**  \n",
    "   - Мотивация  \n",
    "   - Проблематика  \n",
    "   - Цел и въпроси\n",
    "\n",
    "2. **Математическа теория**  \n",
    "   - TF, IDF, TF-IDF  \n",
    "   - Косинусова прилика  \n",
    "   - Векторно пространство\n",
    "\n",
    "3. **Примерен корпус от текстове**\n",
    "\n",
    "4. **Изчисления и визуализации**\n",
    "\n",
    "5. **Пример за проверка на нов текст**\n",
    "\n",
    "6. **Заключение и възможности за надграждане**\n",
    "\n",
    "---\n",
    "\n",
    "🧭 _Фаза 1 завършва с ясно формулирана теоретична рамка. Във Фаза 2 ще се пристъпи към създаване и обработка на малък корпус от текстове._\n"
   ]
  },
  {
   "cell_type": "markdown",
   "id": "b2de23e8-03e1-471d-b83d-6fed0233f425",
   "metadata": {
    "citation-manager": {
     "citations": {
      "h0n81": [
       {
        "id": "79625/Z62QSGRH",
        "source": "zotero"
       }
      ]
     }
    }
   },
   "source": [
    "# 1. Introduction\n",
    "\n",
    "## 1.1 The Growing Need for Fact-Checking in Social Media\n",
    "\n",
    "In the digital era, social media platforms have become dominant sources of information for millions of users. However, the open nature and virality of these platforms have also made them fertile ground for the spread of misinformation and false claims. \n",
    "\n",
    "As noted by Zeng et al. <cite id=\"h0n81\"><a href=\"#zotero%7C79625%2FZ62QSGRH\">[1]</a></cite> \"the rise of social media has drastically increased the speed and reach of information dissemination, often bypassing traditional gatekeepers of truth such as journalists and editors.\" This shift has created a pressing demand for scalable, automated systems capable of evaluating the factual accuracy of content in real time. The objective is not merely to flag content post hoc but to build proactive mechanisms that can assist users, journalists, and platforms in identifying misleading information before it goes viral.\n",
    "\n",
    "Automated fact-checking has emerged as a promising solution to this challenge. \n",
    "\n",
    "According to *Thorne & Vlachos (2018)*, automated fact-checking systems typically consist of three core stages: claim detection, evidence retrieval, and claim verification. While many recent advances in this area rely on deep learning techniques, classical mathematical methods such as **TF-IDF** and **cosine similarity** still play a crucial role in the early stages—particularly in retrieving semantically relevant candidate texts efficiently. As *Chen et al. (2017)* demonstrated in their open-domain QA system, TF-IDF-based retrieval remains a reliable and computationally lightweight approach to identifying supporting information from large knowledge sources like Wikipedia. These findings support the use of TF-IDF in educational and prototype systems where interpretability, speed, and mathematical transparency are critical.\n",
    "\n",
    "\n"
   ]
  },
  {
   "cell_type": "markdown",
   "id": "a7b70f17-eb79-40de-9641-a100ef114be8",
   "metadata": {},
   "source": [
    "\n",
    "\n",
    "## 1.1 Formulating the Research Question\n",
    "\n",
    "In the context of growing misinformation on social media, the need for tools that allow rapid verification of factual claims is increasingly pressing. This project is driven by the following research question:\n",
    "\n",
    "> **How can classical mathematical methods be used to assess semantic similarity between texts for the purpose of preliminary fact-checking?**\n",
    "\n",
    "This project explores the application of **TF-IDF** vectorization and **cosine similarity** as methods for evaluating semantic closeness between social media posts and a database of verified claims.\n",
    "\n",
    "---\n",
    "\n",
    "## 1.2 Foundations of Fact-Checking and Semantic Comparison\n",
    "\n",
    "Fact-checking typically involves three stages:  \n",
    "- identifying a claim,  \n",
    "- retrieving relevant evidence, and  \n",
    "- logically comparing the claim and evidence (Thorne & Vlachos, 2018).\n",
    "\n",
    "In automated systems, **semantic text similarity** methods play a key role in retrieving relevant information. Even in modern systems, **TF-IDF and cosine similarity** are frequently used in the retrieval phase for their speed, simplicity, and interpretability (Chen et al., 2017; Zeng et al., 2021).\n",
    "\n",
    "---\n",
    "\n",
    "## 1.3 Methods for Semantic Text Comparison\n",
    "\n",
    "### 🔹 Classical Approach: TF-IDF and Cosine Similarity\n",
    "\n",
    "TF-IDF (Term Frequency - Inverse Document Frequency) is a widely used technique for representing text as vectors. It combines the local importance of a word in a document (TF) with its inverse frequency across a corpus (IDF)  \n",
    "(Spärck Jones, 1972; Robertson, 2004):\n",
    "\n",
    "\\[\n",
    "TF\\text{-}IDF(t, d, D) = TF(t,d) \\times \\log\\left( \\frac{N}{1 + df(t)} \\right)\n",
    "\\]\n",
    "\n",
    "Once text is vectorized, semantic similarity can be measured using **cosine similarity**:\n",
    "\n",
    "\\[\n",
    "\\cos(\\theta) = \\frac{\\vec{A} \\cdot \\vec{B}}{||\\vec{A}|| \\cdot ||\\vec{B}||}\n",
    "\\]\n",
    "\n",
    "Mihalcea et al. (2006) showed that such classical similarity methods are highly effective across various NLP tasks. Marcinczuk et al. (2021) further demonstrated that **TF-IDF can sometimes perform as well as or better than embedding-based methods** like Word2Vec and BERT, especially in constrained or low-resource settings.\n",
    "\n",
    "### 🔹 Comparison to Embedding Methods\n",
    "\n",
    "Embedding methods (e.g., BERT, Word2Vec) offer deeper contextual understanding but require more resources and data. According to Chandrasekaran & Mago (2021), **TF-IDF remains a well-justified choice** in early-stage engineering projects and educational settings due to its transparency and effectiveness.\n",
    "\n",
    "---\n",
    "\n",
    "## 📚 References (APA Style)\n",
    "\n",
    "- Chen, D., Fisch, A., Weston, J., & Bordes, A. (2017). *Reading Wikipedia to answer open-domain questions*. Proceedings of ACL 2017. [Link](https://aclanthology.org/P17-1171/)\n",
    "- Chandrasekaran, D., & Mago, V. (2021). *Evolution of semantic similarity – A survey*. ACM Computing Surveys, 54(2). [Link](https://arxiv.org/abs/2004.13820)\n",
    "- Marcinczuk, M., et al. (2021). *Text document clustering: WordNet vs. TF-IDF vs. Word embeddings*. GWC 2021. [Link](https://aclanthology.org/2021.gwc-1.24.pdf)\n",
    "- Mihalcea, R., Corley, C., & Strapparava, C. (2006). *Corpus-based and knowledge-based measures of text semantic similarity*. AAAI 2006. [Link](https://aaai.org/Papers/AAAI/2006/AAAI06-123.pdf)\n",
    "- Robertson, S. (2004). *Understanding inverse document frequency: On theoretical arguments for IDF*. Journal of Documentation, 60(5). [Link](https://www.staff.city.ac.uk/~sbrp622/idfpapers/Robertson_idf_JDoc.pdf)\n",
    "- Spärck Jones, K. (1972). *A statistical interpretation of term specificity and its application in retrieval*. Journal of Documentation, 28(1). [Link](https://www.staff.city.ac.uk/~sbrp622/idfpapers/ksj_orig.pdf)\n",
    "- Thorne, J., & Vlachos, A. (2018). *Automated fact checking: Task formulations, methods and future directions*. COLING 2018. [Link](https://aclanthology.org/C18-1283/)\n",
    "- Zeng, X., Abumansour, A. S., & Zubiaga, A. (2021). *Automated fact-checking: A survey*. Language and Linguistics Compass, 15(10). [Link](https://arxiv.org/abs/2109.11427)\n",
    "\n",
    "---\n",
    "\n",
    "_Next step: creating and preprocessing a small corpus of sample texts (Phase 2)._\n"
   ]
  },
  {
   "cell_type": "markdown",
   "id": "e7fc42dd-4bcf-41ec-a3ee-60e66c3464bf",
   "metadata": {},
   "source": [
    "# References"
   ]
  },
  {
   "cell_type": "markdown",
   "id": "0b1e586e-d555-4437-a38e-e35b29e3f744",
   "metadata": {},
   "source": [
    "<!-- BIBLIOGRAPHY START -->\n",
    "<div class=\"csl-bib-body\">\n",
    "  <div class=\"csl-entry\"><i id=\"zotero|79625/Z62QSGRH\"></i>\n",
    "    <div class=\"csl-left-margin\">[1]</div><div class=\"csl-right-inline\">X. Zeng, A. S. Abumansour, and A. Zubiaga, “Automated fact-checking: A survey,” <i>Language and Linguistics Compass</i>, vol. 15, no. 10, p. e12438, 2021, doi: <a href=\"https://doi.org/10.1111/lnc3.12438\">10.1111/lnc3.12438</a>.</div>\n",
    "  </div>\n",
    "</div>\n",
    "<!-- BIBLIOGRAPHY END -->"
   ]
  },
  {
   "cell_type": "code",
   "execution_count": null,
   "id": "9aa3b9cb-df8a-4ea8-9ad2-65698322bc55",
   "metadata": {},
   "outputs": [],
   "source": []
  }
 ],
 "metadata": {
  "citation-manager": {
   "items": {
    "zotero": {
     "79625/Z62QSGRH": {
      "DOI": "10.1111/lnc3.12438",
      "URL": "https://onlinelibrary.wiley.com/doi/abs/10.1111/lnc3.12438",
      "abstract": "As online false information continues to grow, automated fact-checking has gained an increasing amount of attention in recent years. Researchers in the field of Natural Language Processing (NLP) have contributed to the task by building fact-checking datasets, devising automated fact-checking pipelines and proposing NLP methods to further research in the development of different components. This article reviews relevant research on automated fact-checking covering both the claim detection and claim validation components.",
      "accessed": {
       "date-parts": [
        [
         2025,
         5,
         24
        ]
       ]
      },
      "author": [
       {
        "family": "Zeng",
        "given": "Xia"
       },
       {
        "family": "Abumansour",
        "given": "Amani S."
       },
       {
        "family": "Zubiaga",
        "given": "Arkaitz"
       }
      ],
      "container-title": "Language and Linguistics Compass",
      "id": "79625/Z62QSGRH",
      "issue": "10",
      "issued": {
       "date-parts": [
        [
         2021
        ]
       ]
      },
      "language": "en",
      "note": "_eprint: https://onlinelibrary.wiley.com/doi/pdf/10.1111/lnc3.12438",
      "page": "e12438",
      "shortTitle": "Automated fact-checking",
      "system_id": "zotero|79625/Z62QSGRH",
      "title": "Automated fact-checking: A survey",
      "type": "article-journal",
      "volume": "15"
     }
    }
   },
   "style": "ieee.csl"
  },
  "kernelspec": {
   "display_name": "Python 3 (ipykernel)",
   "language": "python",
   "name": "python3"
  },
  "language_info": {
   "codemirror_mode": {
    "name": "ipython",
    "version": 3
   },
   "file_extension": ".py",
   "mimetype": "text/x-python",
   "name": "python",
   "nbconvert_exporter": "python",
   "pygments_lexer": "ipython3",
   "version": "3.12.3"
  }
 },
 "nbformat": 4,
 "nbformat_minor": 5
}

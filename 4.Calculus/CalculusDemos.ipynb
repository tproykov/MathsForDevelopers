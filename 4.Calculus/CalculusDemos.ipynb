{
 "cells": [
  {
   "cell_type": "code",
   "execution_count": 9,
   "id": "2c25dfbe-bbc5-4133-883d-7a72ffa6e6ff",
   "metadata": {},
   "outputs": [],
   "source": [
    "import numpy as np\n",
    "import pandas as pd"
   ]
  },
  {
   "cell_type": "markdown",
   "id": "273de9b6-9012-419f-bfe7-806125bec9b5",
   "metadata": {},
   "source": [
    "#### 1. Limts"
   ]
  },
  {
   "cell_type": "markdown",
   "id": "33e78065-4655-4c6e-a9f7-b24bff3ce143",
   "metadata": {},
   "source": [
    "##### Definition and notation\n",
    "Describes the value that a function approaches as the input (x) gets closer to a certain point."
   ]
  },
  {
   "cell_type": "markdown",
   "id": "4ae36919-3270-44ae-b6b8-fa7adc0717b9",
   "metadata": {},
   "source": [
    "$$ \\lim_{x \\to a} f(x) = L\n",
    "$$"
   ]
  },
  {
   "cell_type": "markdown",
   "id": "aae8434e-15e2-46ca-afbb-6c0b5c837b60",
   "metadata": {},
   "source": [
    "**Epsilon-delta definition of limit**:\n",
    "\n",
    "For any positive $\\delta$ and $\\epsilon$, if $$0<|x-a|<\\delta$$ then $$|f(x) - L|<\\epsilon$$\n"
   ]
  },
  {
   "cell_type": "markdown",
   "id": "857ef3d2-4d39-4e79-9912-cec1734b5488",
   "metadata": {},
   "source": [
    "![Graphics illustrating epsilon-delta definition of limit](epsilon-delta-limit.jpg)"
   ]
  },
  {
   "cell_type": "markdown",
   "id": "eabe7890-4065-4443-82d6-8d12dbcc223d",
   "metadata": {},
   "source": [
    "##### Limits in Python"
   ]
  },
  {
   "cell_type": "code",
   "execution_count": 24,
   "id": "f2e005b5-342b-49bb-91f0-b006167f1e62",
   "metadata": {},
   "outputs": [],
   "source": [
    "import numpy as np\n",
    "import pandas as pd\n",
    "\n",
    "def get_limit(f, a, verbose=True):\n",
    "    epsilon = np.array([10 ** p for p in np.arange(0, -11, -1, dtype=float)])\n",
    "\n",
    "    x_left = a - epsilon\n",
    "    x_right = a + epsilon\n",
    "    y_left = f(x_left)\n",
    "    y_right = f(x_right)\n",
    "\n",
    "    # Use values truly closest to a\n",
    "    f_left_closest = y_left[-1]    # f(a - smallest epsilon)\n",
    "    f_right_closest = y_right[-1]  # f(a + smallest epsilon)\n",
    "\n",
    "    limit_estimate = (f_left_closest + f_right_closest) / 2\n",
    "\n",
    "    if verbose:\n",
    "        df = pd.DataFrame({\n",
    "            'x_left →': x_left,\n",
    "            'f(x_left)': y_left,\n",
    "            'x_right →': x_right,\n",
    "            'f(x_right)': y_right\n",
    "        })\n",
    "        print(df.to_string(index=False, float_format='%.10f'))\n",
    "        print(f\"\\n Estimated limit of f(x) as x → {a} is approximately: {limit_estimate:.10f}\\n\" + \"-\"*70)\n",
    "\n",
    "    return limit_estimate"
   ]
  },
  {
   "cell_type": "code",
   "execution_count": 25,
   "id": "b70ed9e4-e7ed-4db1-a00f-1adb88145963",
   "metadata": {},
   "outputs": [
    {
     "name": "stdout",
     "output_type": "stream",
     "text": [
      "Example 1: f(x) = x^2, x → 3\n",
      "    x_left →    f(x_left)    x_right →    f(x_right)\n",
      "2.0000000000 4.0000000000 4.0000000000 16.0000000000\n",
      "2.9000000000 8.4100000000 3.1000000000  9.6100000000\n",
      "2.9900000000 8.9401000000 3.0100000000  9.0601000000\n",
      "2.9990000000 8.9940010000 3.0010000000  9.0060010000\n",
      "2.9999000000 8.9994000100 3.0001000000  9.0006000100\n",
      "2.9999900000 8.9999400001 3.0000100000  9.0000600001\n",
      "2.9999990000 8.9999940000 3.0000010000  9.0000060000\n",
      "2.9999999000 8.9999994000 3.0000001000  9.0000006000\n",
      "2.9999999900 8.9999999400 3.0000000100  9.0000000600\n",
      "2.9999999990 8.9999999940 3.0000000010  9.0000000060\n",
      "2.9999999999 8.9999999994 3.0000000001  9.0000000006\n",
      "\n",
      " Estimated limit of f(x) as x → 3 is approximately: 9.0000000000\n",
      "----------------------------------------------------------------------\n",
      "\n",
      "Example 2: f(x) = x^2 + 3x, x → 2\n",
      "    x_left →    f(x_left)    x_right →    f(x_right)\n",
      "1.0000000000 4.0000000000 3.0000000000 18.0000000000\n",
      "1.9000000000 9.3100000000 2.1000000000 10.7100000000\n",
      "1.9900000000 9.9301000000 2.0100000000 10.0701000000\n",
      "1.9990000000 9.9930010000 2.0010000000 10.0070010000\n",
      "1.9999000000 9.9993000100 2.0001000000 10.0007000100\n",
      "1.9999900000 9.9999300001 2.0000100000 10.0000700001\n",
      "1.9999990000 9.9999930000 2.0000010000 10.0000070000\n",
      "1.9999999000 9.9999993000 2.0000001000 10.0000007000\n",
      "1.9999999900 9.9999999300 2.0000000100 10.0000000700\n",
      "1.9999999990 9.9999999930 2.0000000010 10.0000000070\n",
      "1.9999999999 9.9999999993 2.0000000001 10.0000000007\n",
      "\n",
      " Estimated limit of f(x) as x → 2 is approximately: 10.0000000000\n",
      "----------------------------------------------------------------------\n",
      "\n",
      "Example 3: f(x) = sin(x), x → 0\n",
      "     x_left →     f(x_left)    x_right →   f(x_right)\n",
      "-1.0000000000 -0.8414709848 1.0000000000 0.8414709848\n",
      "-0.1000000000 -0.0998334166 0.1000000000 0.0998334166\n",
      "-0.0100000000 -0.0099998333 0.0100000000 0.0099998333\n",
      "-0.0010000000 -0.0009999998 0.0010000000 0.0009999998\n",
      "-0.0001000000 -0.0001000000 0.0001000000 0.0001000000\n",
      "-0.0000100000 -0.0000100000 0.0000100000 0.0000100000\n",
      "-0.0000010000 -0.0000010000 0.0000010000 0.0000010000\n",
      "-0.0000001000 -0.0000001000 0.0000001000 0.0000001000\n",
      "-0.0000000100 -0.0000000100 0.0000000100 0.0000000100\n",
      "-0.0000000010 -0.0000000010 0.0000000010 0.0000000010\n",
      "-0.0000000001 -0.0000000001 0.0000000001 0.0000000001\n",
      "\n",
      " Estimated limit of f(x) as x → 0 is approximately: 0.0000000000\n",
      "----------------------------------------------------------------------\n"
     ]
    },
    {
     "data": {
      "text/plain": [
       "0.0"
      ]
     },
     "execution_count": 25,
     "metadata": {},
     "output_type": "execute_result"
    }
   ],
   "source": [
    "# Examples\n",
    "print(\"Example 1: f(x) = x^2, x → 3\")\n",
    "get_limit(lambda x: x**2, 3)\n",
    "\n",
    "print(\"\\nExample 2: f(x) = x^2 + 3x, x → 2\")\n",
    "get_limit(lambda x: x**2 + 3 * x, 2)\n",
    "\n",
    "print(\"\\nExample 3: f(x) = sin(x), x → 0\")\n",
    "get_limit(lambda x: np.sin(x), 0)"
   ]
  },
  {
   "cell_type": "markdown",
   "id": "cc0f353b-b8b6-42e1-9cb9-986e2e051bd8",
   "metadata": {},
   "source": [
    "Some functions do not have a value at certain points but they are defined 'around' these points. The limit exists though the function value does not. For example $$\\lim_{x\\to 0} \\frac{\\sin(x)}{x} = 1$$"
   ]
  },
  {
   "cell_type": "markdown",
   "id": "01b16314-6009-4c63-9723-5bf3d7274570",
   "metadata": {},
   "source": [
    "Some limts can be infinite: $$\\lim_{x\\to\\infty} x^2 = \\infty$$"
   ]
  },
  {
   "cell_type": "markdown",
   "id": "f24d40d9-100a-42f9-9619-01a5504b90e1",
   "metadata": {},
   "source": [
    "#### 2. Derivatives"
   ]
  },
  {
   "attachments": {},
   "cell_type": "markdown",
   "id": "d5caf92e-3f15-4d6c-a1d0-a6ba9a5966bb",
   "metadata": {},
   "source": [
    "**Definition**: The rate of change of a function f(x) as its argument x changes, is called **the first derivative of f(x)** with respect to x.\n",
    "\n",
    "Notation: $$f'(x) = \\lim_{h\\to 0} \\frac{f(x + h) - f(x)}{h}$$"
   ]
  },
  {
   "cell_type": "code",
   "execution_count": null,
   "id": "3919d57e-664d-43f4-824d-2052ed8447f1",
   "metadata": {},
   "outputs": [],
   "source": []
  }
 ],
 "metadata": {
  "kernelspec": {
   "display_name": "Python 3 (ipykernel)",
   "language": "python",
   "name": "python3"
  },
  "language_info": {
   "codemirror_mode": {
    "name": "ipython",
    "version": 3
   },
   "file_extension": ".py",
   "mimetype": "text/x-python",
   "name": "python",
   "nbconvert_exporter": "python",
   "pygments_lexer": "ipython3",
   "version": "3.12.3"
  }
 },
 "nbformat": 4,
 "nbformat_minor": 5
}

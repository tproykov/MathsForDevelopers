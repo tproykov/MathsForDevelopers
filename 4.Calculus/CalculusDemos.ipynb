{
 "cells": [
  {
   "cell_type": "code",
   "execution_count": 9,
   "id": "2c25dfbe-bbc5-4133-883d-7a72ffa6e6ff",
   "metadata": {},
   "outputs": [],
   "source": [
    "import numpy as np\n",
    "import pandas as pd"
   ]
  },
  {
   "cell_type": "markdown",
   "id": "273de9b6-9012-419f-bfe7-806125bec9b5",
   "metadata": {},
   "source": [
    "#### 1. Limts"
   ]
  },
  {
   "cell_type": "markdown",
   "id": "33e78065-4655-4c6e-a9f7-b24bff3ce143",
   "metadata": {},
   "source": [
    "##### Definition and notation\n",
    "Describes the value that a function approaches as the input (x) gets closer to a certain point."
   ]
  },
  {
   "cell_type": "markdown",
   "id": "4ae36919-3270-44ae-b6b8-fa7adc0717b9",
   "metadata": {},
   "source": [
    "$$ \\lim_{x \\to a} f(x) = L\n",
    "$$"
   ]
  },
  {
   "cell_type": "markdown",
   "id": "aae8434e-15e2-46ca-afbb-6c0b5c837b60",
   "metadata": {},
   "source": [
    "**Epsilon-delta definition of limit**:\n",
    "\n",
    "For any positive $\\delta$ and $\\epsilon$, if $$0<|x-a|<\\delta$$ then $$|f(x) - L|<\\epsilon$$\n"
   ]
  },
  {
   "cell_type": "markdown",
   "id": "857ef3d2-4d39-4e79-9912-cec1734b5488",
   "metadata": {},
   "source": [
    "![Graphics illustrating epsilon-delta definition of limit](epsilon-delta-limit.jpg)"
   ]
  },
  {
   "cell_type": "markdown",
   "id": "eabe7890-4065-4443-82d6-8d12dbcc223d",
   "metadata": {},
   "source": [
    "##### Limits in Python"
   ]
  },
  {
   "cell_type": "code",
   "execution_count": 24,
   "id": "f2e005b5-342b-49bb-91f0-b006167f1e62",
   "metadata": {},
   "outputs": [],
   "source": [
    "import numpy as np\n",
    "import pandas as pd\n",
    "\n",
    "def get_limit(f, a, verbose=True):\n",
    "    epsilon = np.array([10 ** p for p in np.arange(0, -11, -1, dtype=float)])\n",
    "\n",
    "    x_left = a - epsilon\n",
    "    x_right = a + epsilon\n",
    "    y_left = f(x_left)\n",
    "    y_right = f(x_right)\n",
    "\n",
    "    # Use values truly closest to a\n",
    "    f_left_closest = y_left[-1]    # f(a - smallest epsilon)\n",
    "    f_right_closest = y_right[-1]  # f(a + smallest epsilon)\n",
    "\n",
    "    limit_estimate = (f_left_closest + f_right_closest) / 2\n",
    "\n",
    "    if verbose:\n",
    "        df = pd.DataFrame({\n",
    "            'x_left →': x_left,\n",
    "            'f(x_left)': y_left,\n",
    "            'x_right →': x_right,\n",
    "            'f(x_right)': y_right\n",
    "        })\n",
    "        print(df.to_string(index=False, float_format='%.10f'))\n",
    "        print(f\"\\n Estimated limit of f(x) as x → {a} is approximately: {limit_estimate:.10f}\\n\" + \"-\"*70)\n",
    "\n",
    "    return limit_estimate"
   ]
  },
  {
   "cell_type": "code",
   "execution_count": 25,
   "id": "b70ed9e4-e7ed-4db1-a00f-1adb88145963",
   "metadata": {},
   "outputs": [
    {
     "name": "stdout",
     "output_type": "stream",
     "text": [
      "Example 1: f(x) = x^2, x → 3\n",
      "    x_left →    f(x_left)    x_right →    f(x_right)\n",
      "2.0000000000 4.0000000000 4.0000000000 16.0000000000\n",
      "2.9000000000 8.4100000000 3.1000000000  9.6100000000\n",
      "2.9900000000 8.9401000000 3.0100000000  9.0601000000\n",
      "2.9990000000 8.9940010000 3.0010000000  9.0060010000\n",
      "2.9999000000 8.9994000100 3.0001000000  9.0006000100\n",
      "2.9999900000 8.9999400001 3.0000100000  9.0000600001\n",
      "2.9999990000 8.9999940000 3.0000010000  9.0000060000\n",
      "2.9999999000 8.9999994000 3.0000001000  9.0000006000\n",
      "2.9999999900 8.9999999400 3.0000000100  9.0000000600\n",
      "2.9999999990 8.9999999940 3.0000000010  9.0000000060\n",
      "2.9999999999 8.9999999994 3.0000000001  9.0000000006\n",
      "\n",
      " Estimated limit of f(x) as x → 3 is approximately: 9.0000000000\n",
      "----------------------------------------------------------------------\n",
      "\n",
      "Example 2: f(x) = x^2 + 3x, x → 2\n",
      "    x_left →    f(x_left)    x_right →    f(x_right)\n",
      "1.0000000000 4.0000000000 3.0000000000 18.0000000000\n",
      "1.9000000000 9.3100000000 2.1000000000 10.7100000000\n",
      "1.9900000000 9.9301000000 2.0100000000 10.0701000000\n",
      "1.9990000000 9.9930010000 2.0010000000 10.0070010000\n",
      "1.9999000000 9.9993000100 2.0001000000 10.0007000100\n",
      "1.9999900000 9.9999300001 2.0000100000 10.0000700001\n",
      "1.9999990000 9.9999930000 2.0000010000 10.0000070000\n",
      "1.9999999000 9.9999993000 2.0000001000 10.0000007000\n",
      "1.9999999900 9.9999999300 2.0000000100 10.0000000700\n",
      "1.9999999990 9.9999999930 2.0000000010 10.0000000070\n",
      "1.9999999999 9.9999999993 2.0000000001 10.0000000007\n",
      "\n",
      " Estimated limit of f(x) as x → 2 is approximately: 10.0000000000\n",
      "----------------------------------------------------------------------\n",
      "\n",
      "Example 3: f(x) = sin(x), x → 0\n",
      "     x_left →     f(x_left)    x_right →   f(x_right)\n",
      "-1.0000000000 -0.8414709848 1.0000000000 0.8414709848\n",
      "-0.1000000000 -0.0998334166 0.1000000000 0.0998334166\n",
      "-0.0100000000 -0.0099998333 0.0100000000 0.0099998333\n",
      "-0.0010000000 -0.0009999998 0.0010000000 0.0009999998\n",
      "-0.0001000000 -0.0001000000 0.0001000000 0.0001000000\n",
      "-0.0000100000 -0.0000100000 0.0000100000 0.0000100000\n",
      "-0.0000010000 -0.0000010000 0.0000010000 0.0000010000\n",
      "-0.0000001000 -0.0000001000 0.0000001000 0.0000001000\n",
      "-0.0000000100 -0.0000000100 0.0000000100 0.0000000100\n",
      "-0.0000000010 -0.0000000010 0.0000000010 0.0000000010\n",
      "-0.0000000001 -0.0000000001 0.0000000001 0.0000000001\n",
      "\n",
      " Estimated limit of f(x) as x → 0 is approximately: 0.0000000000\n",
      "----------------------------------------------------------------------\n"
     ]
    },
    {
     "data": {
      "text/plain": [
       "0.0"
      ]
     },
     "execution_count": 25,
     "metadata": {},
     "output_type": "execute_result"
    }
   ],
   "source": [
    "# Examples\n",
    "print(\"Example 1: f(x) = x^2, x → 3\")\n",
    "get_limit(lambda x: x**2, 3)\n",
    "\n",
    "print(\"\\nExample 2: f(x) = x^2 + 3x, x → 2\")\n",
    "get_limit(lambda x: x**2 + 3 * x, 2)\n",
    "\n",
    "print(\"\\nExample 3: f(x) = sin(x), x → 0\")\n",
    "get_limit(lambda x: np.sin(x), 0)"
   ]
  },
  {
   "cell_type": "markdown",
   "id": "cc0f353b-b8b6-42e1-9cb9-986e2e051bd8",
   "metadata": {},
   "source": [
    "Some functions do not have a value at certain points but they are defined 'around' these points. The limit exists though the function value does not. For example $$\\lim_{x\\to 0} \\frac{\\sin(x)}{x} = 1$$"
   ]
  },
  {
   "cell_type": "markdown",
   "id": "01b16314-6009-4c63-9723-5bf3d7274570",
   "metadata": {},
   "source": [
    "Some limts can be infinite: $$\\lim_{x\\to\\infty} x^2 = \\infty$$"
   ]
  },
  {
   "cell_type": "markdown",
   "id": "f24d40d9-100a-42f9-9619-01a5504b90e1",
   "metadata": {},
   "source": [
    "#### 2. Derivatives"
   ]
  },
  {
   "attachments": {},
   "cell_type": "markdown",
   "id": "d5caf92e-3f15-4d6c-a1d0-a6ba9a5966bb",
   "metadata": {},
   "source": [
    "**Definition**: The rate of change of a function f(x) as its argument x changes, is called **the first derivative of f(x)** with respect to x.\n",
    "\n",
    "Notation: $$f'(x) = \\lim_{h\\to 0} \\frac{f(x + h) - f(x)}{h}$$"
   ]
  },
  {
   "cell_type": "markdown",
   "id": "f7f665fc-fdfa-4b32-b97a-b8716fbce709",
   "metadata": {},
   "source": [
    "![Derivatives](derivatives.jpg)"
   ]
  },
  {
   "cell_type": "markdown",
   "id": "4b6c00e3-e346-44ad-9d99-9649400db245",
   "metadata": {},
   "source": [
    "##### Calculating derivatives"
   ]
  },
  {
   "cell_type": "markdown",
   "id": "6def87f9-f9a3-4242-9f75-2c54f84712fe",
   "metadata": {},
   "source": [
    "Two definitions of derivative:"
   ]
  },
  {
   "cell_type": "markdown",
   "id": "cd95dcb5-be31-44ff-b120-52e376afceff",
   "metadata": {},
   "source": [
    "a. Derivative of f(x) at a fixed point x (e.g., x = 5): this is a number!"
   ]
  },
  {
   "cell_type": "code",
   "execution_count": 29,
   "id": "71d05d24-018d-4fdd-880f-5a3d46b9b2ad",
   "metadata": {},
   "outputs": [
    {
     "name": "stdout",
     "output_type": "stream",
     "text": [
      "23.00000026878024\n"
     ]
    }
   ],
   "source": [
    "def calculate_derivative(f, a, h = 1e-7):\n",
    "    return (f(a + h) - f(a)) / h\n",
    "# Calculate the derivative of 3x^2+5x-8 at x=3 (23.000000268780243)\n",
    "print(calculate_derivative(lambda x: 3 * x**2 + 5 * x - 8, 3))"
   ]
  },
  {
   "cell_type": "markdown",
   "id": "af34e60c-06f0-4220-9fa4-9d365bb172f2",
   "metadata": {},
   "source": [
    "b. Derivative of f(x) at any point: this is another function!"
   ]
  },
  {
   "cell_type": "markdown",
   "id": "cb512ea4-2bd3-425b-9cbe-53ae5ebee456",
   "metadata": {},
   "source": [
    "Calculating derivatives analytically (with pen and paper):\n",
    "\n",
    "$$ f'(x)\\; =\\; \\lim_{h\\to 0} \\frac{f(x+h) - f(x)}{h}\\; =\\; \\lim_{h\\to 0} \\frac{(x+h)^2 - x^2}{h}\\; =\\; \\lim_{h\\to 0} \\frac{x^2 + 2hx + h^2 - x^2}{h}\\; =\\; \\lim_{h\\to 0} \\frac{2hx + h^2}{h}$$\n",
    "\n",
    "Since h is very small:\n",
    "\n",
    "$$f'(x)\\; =\\; \\lim_{h\\to 0} \\frac{2hx}{h}\\; =\\; 2x$$"
   ]
  },
  {
   "cell_type": "markdown",
   "id": "37b36c44-53f5-4965-9f3a-579e0383eeab",
   "metadata": {},
   "source": [
    "##### Properties of derivatives:\n",
    "\n",
    "* The derivative of a constant ($f(x) = c$) is 0.\n",
    "* $(f \\pm g)' = f' \\pm g'$\n",
    "* $(\\lambda f)' = \\lambda f'$\n",
    "* $(f \\cdot g)' = f' \\cdot g + f \\cdot g'$\n",
    "* $\\left(\\frac{f}{g}\\right)' = \\frac{f' \\cdot g - f \\cdot g'}{g^2}$\n",
    "* Derivative of a function composition - also called chain rule:\n",
    "  - $f(g(x))' = f'(g(x)) \\cdot g'(x)$\n",
    "  - Looks better in the other notation (Leibniz notation): $\\frac{df}{dx} = \\frac{df}{dg} \\cdot \\frac{dg}{dx}$"
   ]
  },
  {
   "cell_type": "markdown",
   "id": "23d52bad-fd6e-495d-a648-58aebbc638ac",
   "metadata": {},
   "source": [
    "##### Higher order derivatives:\n",
    "The second derivative of a function is the first derivative of its first derivative:\n",
    "$$f''(x) = (f'(x))' = \\frac{d^2f}{dx^2} = \\frac{d}{dx}\\left(\\frac{df}{dx}\\right)$$\n",
    "\n"
   ]
  },
  {
   "cell_type": "markdown",
   "id": "b1ca659b-a904-40e2-a948-96b88b808c7b",
   "metadata": {},
   "source": [
    "#### 3. Integrals"
   ]
  },
  {
   "cell_type": "markdown",
   "id": "3228f5aa-a3d4-4764-bf86-f1ebbec4bb12",
   "metadata": {},
   "source": [
    "![Integrals](integrals.jpg)"
   ]
  },
  {
   "cell_type": "markdown",
   "id": "f4ceb44a-1d6c-4d8d-b6e0-c4a066e626ce",
   "metadata": {},
   "source": [
    "The shaded area: S < 0 if f < 0\n",
    "\n",
    "t the limit, $\\Delta x \\to 0$, so we write $dx$"
   ]
  },
  {
   "cell_type": "markdown",
   "id": "4288ae33-c8ae-4f4a-b083-09d271738a30",
   "metadata": {},
   "source": [
    "**Definite integral** of $f(x)$ - a number:\n",
    "\n",
    "$$\\int_{a}^{b} f(x)dx = \\lim_{\\Delta x \\to 0} \\sum_{i=1}^{n} f(x_i)\\Delta x$$"
   ]
  },
  {
   "cell_type": "markdown",
   "id": "7b3f9033-fdf5-4cc9-bc94-412671f49aa3",
   "metadata": {},
   "source": [
    "Where $f(x_i)\\Delta x$ is the area of each very small rectangle."
   ]
  },
  {
   "cell_type": "markdown",
   "id": "0d6a9959-9bac-4654-952f-ec8dddbfadcf",
   "metadata": {},
   "source": [
    "The **indefinite integral** is written as:\n",
    "\n",
    "$$\\int f(x)dx = F(x) + C$$\n",
    "\n",
    "Where:\n",
    "* $F(x)$ is the antiderivative of $f(x)$, meaning $F'(x) = f(x)$\n",
    "* $C$ is an arbitrary constant of integration\n",
    "\n",
    "Unlike the definite integral, which gives a specific numerical value, the indefinite integral represents a **family of functions** (differing by the constant $C$) whose derivative is the integrand $f(x)$.\n",
    "\n",
    "**Calculating integrals**:\n",
    "* Analytically – very difficult (unlike derivatives)\n",
    "* Numerically – apply the trapezoidal rule. Use a small number dx, like before.\n"
   ]
  },
  {
   "cell_type": "markdown",
   "id": "1ead9d93-6e5f-41d2-8edd-b5d6865d7b0e",
   "metadata": {},
   "source": [
    "#### 4. Fundamental Theorem of Calculus"
   ]
  },
  {
   "cell_type": "markdown",
   "id": "74e83f96-2f8d-47dc-a08a-57a1e940b0f3",
   "metadata": {},
   "source": [
    "##### Antiderivatives\n",
    "\n",
    "- The antiderivative (also called the *primitive function*) $F(x)$ of a function $f(x)$ is such a function that $F'(x) = f(x)$.\n",
    " - Since the derivative of a constant is zero, there are many antiderivatives: $(F(x) + C)' = f(x)$. In other words, $F(x)+C$ is also an antiderivative of f(x) for any constant C.\n",
    "\n",
    "\n",
    "- If we do **definite integrals**, the $+ C$ does not apply — we know the area exactly.\n",
    "- If we do **indefinite integrals**, we must always add the constant. The indefinite integral of a function is related to its antiderivative and can be reversed via differentiation."
   ]
  },
  {
   "cell_type": "markdown",
   "id": "5ba0d4ff-3f63-4faa-acf7-bf97b64eb04d",
   "metadata": {},
   "source": [
    "##### Fundamental Theorem of Calculus\n",
    "\n",
    "The definite integral of a function can be computed using one of its infinitely many antiderivatives. Namely, *differentiation* and *integration* are inverse functions.\n"
   ]
  },
  {
   "cell_type": "markdown",
   "id": "20063d88-cf78-4d05-a434-380263495fcb",
   "metadata": {},
   "source": []
  },
  {
   "cell_type": "code",
   "execution_count": null,
   "id": "3cfc96ea-0df5-4152-b4de-86ae58725f6d",
   "metadata": {},
   "outputs": [],
   "source": []
  },
  {
   "cell_type": "code",
   "execution_count": null,
   "id": "3f0de547-c934-4dca-8769-ca95a8194d54",
   "metadata": {},
   "outputs": [],
   "source": []
  }
 ],
 "metadata": {
  "kernelspec": {
   "display_name": "Python 3 (ipykernel)",
   "language": "python",
   "name": "python3"
  },
  "language_info": {
   "codemirror_mode": {
    "name": "ipython",
    "version": 3
   },
   "file_extension": ".py",
   "mimetype": "text/x-python",
   "name": "python",
   "nbconvert_exporter": "python",
   "pygments_lexer": "ipython3",
   "version": "3.12.3"
  }
 },
 "nbformat": 4,
 "nbformat_minor": 5
}
